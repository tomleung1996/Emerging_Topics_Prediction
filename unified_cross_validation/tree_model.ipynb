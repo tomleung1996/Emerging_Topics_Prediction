{
 "cells": [
  {
   "cell_type": "markdown",
   "metadata": {},
   "source": [
    "## 仅供交叉验证 LightGBM"
   ]
  },
  {
   "cell_type": "code",
   "execution_count": 2,
   "metadata": {},
   "outputs": [],
   "source": [
    "import pickle\n",
    "import pandas as pd\n",
    "import numpy as np\n",
    "import matplotlib.pyplot as plt\n",
    "import random\n",
    "from utils import *\n",
    "import lightgbm as lgb\n",
    "from sklearn.multioutput import MultiOutputRegressor\n",
    "from sklearn.model_selection import StratifiedKFold\n",
    "\n",
    "np.random.seed(42)\n",
    "n_input=11\n",
    "random.seed(42)"
   ]
  },
  {
   "cell_type": "markdown",
   "metadata": {},
   "source": [
    "读取数据"
   ]
  },
  {
   "cell_type": "code",
   "execution_count": 6,
   "metadata": {},
   "outputs": [
    {
     "name": "stdout",
     "output_type": "stream",
     "text": [
      "Shape of the gene_editing array: (2643, 17, 10)\n",
      "Shape of the transplant array: (5141, 17, 10)\n"
     ]
    }
   ],
   "source": [
    "# gene_arr_path = r'../output/gene_editing/es_with_decay.array'\n",
    "# transplant_arr_path = r'../output/transplant/es_with_decay.array'\n",
    "\n",
    "# gene_arr = pickle.load(open(gene_arr_path, mode='rb'))\n",
    "# transplant_arr = pickle.load(open(transplant_arr_path, mode='rb'))\n",
    "\n",
    "# print('Shape of the gene_editing array:',gene_arr.shape)\n",
    "# print('Shape of the transplant array:',transplant_arr.shape)"
   ]
  },
  {
   "cell_type": "markdown",
   "metadata": {},
   "source": [
    "### 截断数据\n",
    "2019年为无效数据"
   ]
  },
  {
   "cell_type": "code",
   "execution_count": 7,
   "metadata": {},
   "outputs": [
    {
     "name": "stdout",
     "output_type": "stream",
     "text": [
      "Shape of the gene_editing array: (2643, 16, 10)\n",
      "Shape of the transplant array: (5141, 16, 10)\n"
     ]
    }
   ],
   "source": [
    "# gene_arr = gene_arr[:, :-1, :]\n",
    "# transplant_arr = transplant_arr[:, :-1, :]\n",
    "\n",
    "# print('Shape of the gene_editing array:',gene_arr.shape)\n",
    "# print('Shape of the transplant array:',transplant_arr.shape)"
   ]
  },
  {
   "cell_type": "markdown",
   "metadata": {},
   "source": [
    "## 规范数据并获取5折交叉检验所需的训练集和验证集"
   ]
  },
  {
   "cell_type": "code",
   "execution_count": 8,
   "metadata": {},
   "outputs": [],
   "source": [
    "# scaler, data = scale_data(transplant_arr, 'standard')\n",
    "\n",
    "# # 用预测第二年的类别变量作为分成Kfold的依据，不支持浮点数\n",
    "# X, y, y_cat = data[:, :n_input, :], data[:, n_input:, -2],transplant_arr[:, n_input, -1]\n",
    "# kfold = StratifiedKFold(n_splits=5, shuffle=True, random_state=42)"
   ]
  },
  {
   "cell_type": "markdown",
   "metadata": {},
   "source": [
    "### 构建模型，训练并评估"
   ]
  },
  {
   "cell_type": "code",
   "execution_count": 17,
   "metadata": {},
   "outputs": [],
   "source": [
    "def cross_validation(X, y, y_cat, kfold, scaler):\n",
    "    overall_metrics = {\n",
    "        'mae':[],\n",
    "        'rmse':[],\n",
    "        'ndcg':[],\n",
    "        'mape':[],\n",
    "        'r2':[],\n",
    "        'pearson':[],\n",
    "        'acc':[]\n",
    "    }\n",
    "\n",
    "    annual_metrics = {\n",
    "        'mae':[],\n",
    "        'rmse':[],\n",
    "        'ndcg':[],\n",
    "        'mape':[],\n",
    "        'r2':[],\n",
    "        'pearson':[],\n",
    "        'acc':[]\n",
    "    }\n",
    "\n",
    "    tests = []\n",
    "    preds = []\n",
    "\n",
    "    for train, test in kfold.split(X, y_cat):\n",
    "        model = MultiOutputRegressor(lgb.LGBMRegressor(n_estimators=500))\n",
    "        model.fit(X[train].reshape(len(train), -1), y[train])\n",
    "\n",
    "        y_test = y[test]\n",
    "        y_pred = model.predict(X[test].reshape(len(test), -1)).reshape(y[test].shape)\n",
    "\n",
    "        tests.append(y_test)\n",
    "        preds.append(y_pred)\n",
    "\n",
    "        metrics = ['mae', 'rmse','ndcg', 'mape', 'r2', 'pearson', 'acc']\n",
    "        for m in metrics:\n",
    "            overall, annual = eval_model(m, y_test, y_pred, scaler)\n",
    "            overall_metrics[m].append(overall)\n",
    "            annual_metrics[m].append(annual)\n",
    "            \n",
    "    return overall_metrics, annual_metrics, tests, preds"
   ]
  },
  {
   "cell_type": "code",
   "execution_count": 18,
   "metadata": {},
   "outputs": [],
   "source": [
    "def full_pipeline():\n",
    "    gene_arr_path = r'../output/gene_editing/es_with_decay.array'\n",
    "    transplant_arr_path = r'../output/transplant/es_with_decay.array'\n",
    "\n",
    "    gene_arr = pickle.load(open(gene_arr_path, mode='rb'))\n",
    "    transplant_arr = pickle.load(open(transplant_arr_path, mode='rb'))\n",
    "    \n",
    "    gene_arr = gene_arr[:, :-1, :]\n",
    "    transplant_arr = transplant_arr[:, :-1, :]\n",
    "\n",
    "    print('Shape of the gene_editing array:',gene_arr.shape)\n",
    "    print('Shape of the transplant array:',transplant_arr.shape)\n",
    "    \n",
    "    metrics = {\n",
    "        'gene':{\n",
    "            'overall':{},\n",
    "            'annual':{}\n",
    "        },\n",
    "        'transplant':{\n",
    "            'overall':{},\n",
    "            'annual':{}\n",
    "        }\n",
    "    }\n",
    "    \n",
    "    for name, dataset in zip(['gene', 'transplant'], [gene_arr, transplant_arr]):\n",
    "        scaler, data = scale_data(dataset, 'standard')\n",
    "\n",
    "        # 用预测第二年的类别变量作为分成Kfold的依据，不支持浮点数\n",
    "        X, y, y_cat = data[:, :n_input, :], data[:, n_input:, -2], dataset[:, n_input, -1]\n",
    "        kfold = StratifiedKFold(n_splits=5, shuffle=True, random_state=42)\n",
    "        \n",
    "        overall_metrics, annual_metrics, tests, preds = cross_validation(X, y, y_cat, kfold, scaler)\n",
    "        pickle.dump(tests, open('tree_tests_{}.list'.format(name), 'wb'))\n",
    "        pickle.dump(preds, open('tree_preds_{}.list'.format(name), 'wb'))\n",
    "        \n",
    "        for n in [1, 5, 10, 15, 20, 25, 30, 35, 40]:\n",
    "            overall_total = []\n",
    "\n",
    "            for test, pred in zip(tests, preds):\n",
    "                overall, _ = eval_model('ndcg', test, pred, scaler, n)\n",
    "                overall_total.append(overall)\n",
    "            print(n, np.mean(overall_total))\n",
    "        \n",
    "        for metric, value in overall_metrics.items():\n",
    "            metrics[name]['overall'][metric] = np.mean(value)\n",
    "        \n",
    "        for metric, value in annual_metrics.items():\n",
    "            metrics[name]['annual'][metric] = np.mean(np.array(value), axis=0)\n",
    "        \n",
    "        print('=====')\n",
    "    \n",
    "    pickle.dump(metrics, open('tree_metrics.dict', 'wb'))\n",
    "    \n",
    "    return metrics"
   ]
  },
  {
   "cell_type": "code",
   "execution_count": 19,
   "metadata": {},
   "outputs": [
    {
     "name": "stdout",
     "output_type": "stream",
     "text": [
      "Shape of the gene_editing array: (2643, 16, 10)\n",
      "Shape of the transplant array: (5141, 16, 10)\n",
      "1 0.470121316089885\n",
      "5 0.5896512543805762\n",
      "10 0.5898456570429753\n",
      "15 0.6096437513771067\n",
      "20 0.6096930177727906\n",
      "25 0.6102133071770488\n",
      "30 0.6102128410329387\n",
      "35 0.6359651574007329\n",
      "40 0.6361579516377074\n",
      "=====\n",
      "1 0.4474773277820588\n",
      "5 0.4556405643982666\n",
      "10 0.5085879438114974\n",
      "15 0.5175935675790458\n",
      "20 0.5630817064248428\n",
      "25 0.5692689985490433\n",
      "30 0.5737181989187838\n",
      "35 0.5741845740637788\n",
      "40 0.5749441984497916\n",
      "=====\n"
     ]
    }
   ],
   "source": [
    "metrics = full_pipeline()"
   ]
  },
  {
   "cell_type": "code",
   "execution_count": 20,
   "metadata": {},
   "outputs": [
    {
     "data": {
      "text/plain": [
       "{'gene': {'overall': {'mae': 0.8209942683708282,\n",
       "   'rmse': 1.3337560891982014,\n",
       "   'ndcg': 0.6096930177727906,\n",
       "   'mape': 6.2061780731245095,\n",
       "   'r2': 0.18674387348607444,\n",
       "   'pearson': 0.4866112033720305,\n",
       "   'acc': 0.34014186441579003},\n",
       "  'annual': {'mae': array([0.45741282, 0.62247792, 0.84728625, 1.00330621, 1.17448814]),\n",
       "   'rmse': array([0.78222512, 0.99470613, 1.38349926, 1.52179826, 1.73490588]),\n",
       "   'ndcg': array([0.66153224, 0.32535838, 0.27309157, 0.33757616, 0.10942672]),\n",
       "   'mape': array([4.68375892, 5.14610333, 5.18272873, 8.72367751, 7.29462188]),\n",
       "   'r2': array([ 0.37751421,  0.23287471,  0.1018908 ,  0.00455022, -0.06371026]),\n",
       "   'pearson': array([0.6642235 , 0.55230922, 0.42111769, 0.31195175, 0.22437103]),\n",
       "   'acc': array([0.59213718, 0.33974633, 0.34467135, 0.23189974, 0.19225472])}},\n",
       " 'transplant': {'overall': {'mae': 0.820901655306564,\n",
       "   'rmse': 1.3020615560087556,\n",
       "   'ndcg': 0.5630817064248428,\n",
       "   'mape': 3.418630385729486,\n",
       "   'r2': 0.3946391232084295,\n",
       "   'pearson': 0.6375662951573924,\n",
       "   'acc': 0.3025502559512759},\n",
       "  'annual': {'mae': array([0.80399247, 0.82789492, 0.79520697, 0.80899437, 0.86841955]),\n",
       "   'rmse': array([1.28646968, 1.34488998, 1.26323874, 1.24789521, 1.3557784 ]),\n",
       "   'ndcg': array([0.20565586, 0.02751808, 0.01730095, 0.09461803, 0.12595979]),\n",
       "   'mape': array([3.18714105, 3.48693874, 3.04504934, 3.79474694, 3.57927587]),\n",
       "   'r2': array([0.44203259, 0.37587226, 0.36270873, 0.42282982, 0.36852274]),\n",
       "   'pearson': array([0.67089922, 0.62588032, 0.61564935, 0.65823054, 0.61968794]),\n",
       "   'acc': array([0.30306825, 0.30985072, 0.30928637, 0.30052789, 0.29001805])}}}"
      ]
     },
     "execution_count": 20,
     "metadata": {},
     "output_type": "execute_result"
    }
   ],
   "source": [
    "metrics"
   ]
  },
  {
   "cell_type": "code",
   "execution_count": 8,
   "metadata": {
    "scrolled": true
   },
   "outputs": [
    {
     "data": {
      "text/plain": [
       "{'gene': {'overall': {'mae': 0.8209942683708282,\n",
       "   'rmse': 1.3337560891982014,\n",
       "   'ndcg': 0.6096930177727906},\n",
       "  'annual': {'mae': array([0.45741282, 0.62247792, 0.84728625, 1.00330621, 1.17448814]),\n",
       "   'rmse': array([0.78222512, 0.99470613, 1.38349926, 1.52179826, 1.73490588]),\n",
       "   'ndcg': array([0.66153224, 0.32535838, 0.27309157, 0.33757616, 0.10942672])}},\n",
       " 'transplant': {'overall': {'mae': 0.820901655306564,\n",
       "   'rmse': 1.3020615560087556,\n",
       "   'ndcg': 0.5630817064248428},\n",
       "  'annual': {'mae': array([0.80399247, 0.82789492, 0.79520697, 0.80899437, 0.86841955]),\n",
       "   'rmse': array([1.28646968, 1.34488998, 1.26323874, 1.24789521, 1.3557784 ]),\n",
       "   'ndcg': array([0.20565586, 0.02751808, 0.01730095, 0.09461803, 0.12595979])}}}"
      ]
     },
     "execution_count": 8,
     "metadata": {},
     "output_type": "execute_result"
    }
   ],
   "source": [
    "metrics"
   ]
  },
  {
   "cell_type": "code",
   "execution_count": 5,
   "metadata": {},
   "outputs": [
    {
     "data": {
      "text/plain": [
       "{'gene': {'overall': {'mae': 0.8209942683708282,\n",
       "   'rmse': 1.3337560891982014,\n",
       "   'ndcg': 0.6096930177727906,\n",
       "   'mape': 6.2061780731245095,\n",
       "   'r2': 0.18674387348607444,\n",
       "   'pearson': 0.4866112033720305,\n",
       "   'acc': 0.34014186441579003},\n",
       "  'annual': {'mae': array([0.45741282, 0.62247792, 0.84728625, 1.00330621, 1.17448814]),\n",
       "   'rmse': array([0.78222512, 0.99470613, 1.38349926, 1.52179826, 1.73490588]),\n",
       "   'ndcg': array([0.66153224, 0.32535838, 0.27309157, 0.33757616, 0.10942672]),\n",
       "   'mape': array([4.68375892, 5.14610333, 5.18272873, 8.72367751, 7.29462188]),\n",
       "   'r2': array([ 0.37751421,  0.23287471,  0.1018908 ,  0.00455022, -0.06371026]),\n",
       "   'pearson': array([0.6642235 , 0.55230922, 0.42111769, 0.31195175, 0.22437103]),\n",
       "   'acc': array([0.59213718, 0.33974633, 0.34467135, 0.23189974, 0.19225472])}},\n",
       " 'transplant': {'overall': {'mae': 0.820901655306564,\n",
       "   'rmse': 1.3020615560087556,\n",
       "   'ndcg': 0.5630817064248428,\n",
       "   'mape': 3.418630385729486,\n",
       "   'r2': 0.3946391232084295,\n",
       "   'pearson': 0.6375662951573924,\n",
       "   'acc': 0.3025502559512759},\n",
       "  'annual': {'mae': array([0.80399247, 0.82789492, 0.79520697, 0.80899437, 0.86841955]),\n",
       "   'rmse': array([1.28646968, 1.34488998, 1.26323874, 1.24789521, 1.3557784 ]),\n",
       "   'ndcg': array([0.20565586, 0.02751808, 0.01730095, 0.09461803, 0.12595979]),\n",
       "   'mape': array([3.18714105, 3.48693874, 3.04504934, 3.79474694, 3.57927587]),\n",
       "   'r2': array([0.44203259, 0.37587226, 0.36270873, 0.42282982, 0.36852274]),\n",
       "   'pearson': array([0.67089922, 0.62588032, 0.61564935, 0.65823054, 0.61968794]),\n",
       "   'acc': array([0.30306825, 0.30985072, 0.30928637, 0.30052789, 0.29001805])}}}"
      ]
     },
     "execution_count": 5,
     "metadata": {},
     "output_type": "execute_result"
    }
   ],
   "source": [
    "metrics"
   ]
  },
  {
   "cell_type": "code",
   "execution_count": null,
   "metadata": {},
   "outputs": [],
   "source": []
  }
 ],
 "metadata": {
  "kernelspec": {
   "display_name": "Python 3",
   "language": "python",
   "name": "python3"
  },
  "language_info": {
   "codemirror_mode": {
    "name": "ipython",
    "version": 3
   },
   "file_extension": ".py",
   "mimetype": "text/x-python",
   "name": "python",
   "nbconvert_exporter": "python",
   "pygments_lexer": "ipython3",
   "version": "3.7.4"
  }
 },
 "nbformat": 4,
 "nbformat_minor": 2
}