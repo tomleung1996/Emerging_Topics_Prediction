{
 "cells": [
  {
   "cell_type": "code",
   "execution_count": 1,
   "metadata": {},
   "outputs": [],
   "source": [
    "import pickle"
   ]
  },
  {
   "cell_type": "code",
   "execution_count": 2,
   "metadata": {},
   "outputs": [],
   "source": [
    "persistence = pickle.load(open('persistence_metrics.dict', 'rb'))\n",
    "lr = pickle.load(open('lr_metrics.dict', 'rb'))\n",
    "tree = pickle.load(open('tree_metrics.dict', 'rb'))\n",
    "mlp = pickle.load(open('mlp_metrics.dict', 'rb'))\n",
    "rnn = pickle.load(open('rnn_metrics.dict', 'rb'))\n",
    "\n",
    "model_metrics = [rnn, mlp, tree, lr, persistence]"
   ]
  },
  {
   "cell_type": "code",
   "execution_count": 4,
   "metadata": {},
   "outputs": [],
   "source": [
    "with open('overall_report.csv', mode='w', encoding='utf-8') as file:\n",
    "    file.write('dataset,metric,Seq2Seq,MLP,LightGBM,Linear Regression,Persistence\\n')\n",
    "    for dataset in ['gene', 'transplant']:\n",
    "        for metric in ['mae', 'rmse', 'ndcg']:\n",
    "            file.write('{},{},{},{},{},{},{}\\n'.format(dataset, metric,\n",
    "                                                    rnn[dataset]['overall'][metric],\n",
    "                                                    mlp[dataset]['overall'][metric],\n",
    "                                                    tree[dataset]['overall'][metric],\n",
    "                                                    lr[dataset]['overall'][metric],\n",
    "                                                    persistence[dataset]['overall'][metric]))"
   ]
  },
  {
   "cell_type": "code",
   "execution_count": 4,
   "metadata": {},
   "outputs": [],
   "source": [
    "with open('annual_report.csv', mode='w', encoding='utf-8') as file:\n",
    "    file.write('dataset,metric,model,year1,year2,year3,year4,year5\\n')\n",
    "    for dataset in ['gene', 'transplant']:\n",
    "        for metric in ['mae', 'rmse', 'ndcg']:\n",
    "            for i, model in enumerate(['Seq2Seq', 'MLP', 'LightGBM', 'Linear Regression', 'Persistence']):\n",
    "                file.write('{},{},{},{},{},{},{},{}\\n'.format(dataset, metric, model,\n",
    "                                                             model_metrics[i][dataset]['annual'][metric][0],\n",
    "                                                             model_metrics[i][dataset]['annual'][metric][1],\n",
    "                                                             model_metrics[i][dataset]['annual'][metric][2],\n",
    "                                                             model_metrics[i][dataset]['annual'][metric][3],\n",
    "                                                             model_metrics[i][dataset]['annual'][metric][4]))"
   ]
  },
  {
   "cell_type": "code",
   "execution_count": null,
   "metadata": {},
   "outputs": [],
   "source": []
  }
 ],
 "metadata": {
  "kernelspec": {
   "display_name": "Python 3",
   "language": "python",
   "name": "python3"
  },
  "language_info": {
   "codemirror_mode": {
    "name": "ipython",
    "version": 3
   },
   "file_extension": ".py",
   "mimetype": "text/x-python",
   "name": "python",
   "nbconvert_exporter": "python",
   "pygments_lexer": "ipython3",
   "version": "3.7.4"
  }
 },
 "nbformat": 4,
 "nbformat_minor": 2
}
