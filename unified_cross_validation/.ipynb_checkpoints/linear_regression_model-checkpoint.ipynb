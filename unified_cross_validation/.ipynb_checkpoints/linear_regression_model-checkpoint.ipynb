{
 "cells": [
  {
   "cell_type": "markdown",
   "metadata": {},
   "source": [
    "## 仅供交叉验证 线性回归"
   ]
  },
  {
   "cell_type": "code",
   "execution_count": 1,
   "metadata": {},
   "outputs": [],
   "source": [
    "import pickle\n",
    "import pandas as pd\n",
    "import numpy as np\n",
    "import matplotlib.pyplot as plt\n",
    "import random\n",
    "from utils import *\n",
    "from sklearn.linear_model import LinearRegression, RidgeCV\n",
    "from sklearn.model_selection import StratifiedKFold\n",
    "\n",
    "np.random.seed(42)\n",
    "random.seed(42)\n",
    "n_input = 11"
   ]
  },
  {
   "cell_type": "markdown",
   "metadata": {},
   "source": [
    "读取数据"
   ]
  },
  {
   "cell_type": "code",
   "execution_count": 2,
   "metadata": {},
   "outputs": [
    {
     "name": "stdout",
     "output_type": "stream",
     "text": [
      "Shape of the gene_editing array: (2643, 17, 10)\n",
      "Shape of the transplant array: (5141, 17, 10)\n"
     ]
    }
   ],
   "source": [
    "# gene_arr_path = r'../output/gene_editing/es_with_decay.array'\n",
    "# transplant_arr_path = r'../output/transplant/es_with_decay.array'\n",
    "\n",
    "# gene_arr = pickle.load(open(gene_arr_path, mode='rb'))\n",
    "# transplant_arr = pickle.load(open(transplant_arr_path, mode='rb'))\n",
    "\n",
    "# print('Shape of the gene_editing array:',gene_arr.shape)\n",
    "# print('Shape of the transplant array:',transplant_arr.shape)"
   ]
  },
  {
   "cell_type": "markdown",
   "metadata": {},
   "source": [
    "### 截断数据\n",
    "2019年为无效数据"
   ]
  },
  {
   "cell_type": "code",
   "execution_count": 3,
   "metadata": {},
   "outputs": [
    {
     "name": "stdout",
     "output_type": "stream",
     "text": [
      "Shape of the gene_editing array: (2643, 16, 10)\n",
      "Shape of the transplant array: (5141, 16, 10)\n"
     ]
    }
   ],
   "source": [
    "# gene_arr = gene_arr[:, :-1, :]\n",
    "# transplant_arr = transplant_arr[:, :-1, :]\n",
    "\n",
    "# print('Shape of the gene_editing array:',gene_arr.shape)\n",
    "# print('Shape of the transplant array:',transplant_arr.shape)"
   ]
  },
  {
   "cell_type": "markdown",
   "metadata": {},
   "source": [
    "## 规范数据并获取5折交叉检验所需的训练集和验证集"
   ]
  },
  {
   "cell_type": "code",
   "execution_count": 6,
   "metadata": {},
   "outputs": [],
   "source": [
    "# scaler, data = scale_data(transplant_arr, 'standard')\n",
    "\n",
    "# # 用预测第二年的类别变量作为分成Kfold的依据，不支持浮点数\n",
    "# X, y, y_cat = data[:, :n_input, :], data[:, n_input:, -2],transplant_arr[:, n_input, -1]\n",
    "# kfold = StratifiedKFold(n_splits=5, shuffle=True, random_state=42)"
   ]
  },
  {
   "cell_type": "markdown",
   "metadata": {},
   "source": [
    "### 构建模型，训练并评估"
   ]
  },
  {
   "cell_type": "code",
   "execution_count": 2,
   "metadata": {},
   "outputs": [],
   "source": [
    "def cross_validation(X, y, y_cat, kfold, scaler):\n",
    "\n",
    "    overall_metrics = {\n",
    "        'mae':[],\n",
    "        'rmse':[],\n",
    "        'ndcg':[],\n",
    "        'mape':[],\n",
    "        'r2':[],\n",
    "        'pearson':[],\n",
    "        'acc':[]\n",
    "    }\n",
    "\n",
    "    annual_metrics = {\n",
    "        'mae':[],\n",
    "        'rmse':[],\n",
    "        'ndcg':[],\n",
    "        'mape':[],\n",
    "        'r2':[],\n",
    "        'pearson':[],\n",
    "        'acc':[]\n",
    "    }\n",
    "\n",
    "    tests = []\n",
    "    preds = []\n",
    "\n",
    "    for train, test in kfold.split(X, y_cat):\n",
    "        model = RidgeCV(alphas=[0.1, 0.2, 0.3 ,0.5, 0.7, 1.0])\n",
    "        model.fit(X[train].reshape(len(train), -1), y[train])\n",
    "\n",
    "        y_test = y[test]\n",
    "        y_pred = model.predict(X[test].reshape(len(test), -1)).reshape(y[test].shape)\n",
    "\n",
    "        tests.append(y_test)\n",
    "        preds.append(y_pred)\n",
    "\n",
    "        metrics = ['mae', 'rmse','ndcg', 'mape', 'r2', 'pearson', 'acc']\n",
    "        for m in metrics:\n",
    "            overall, annual = eval_model(m, y_test, y_pred, scaler)\n",
    "            overall_metrics[m].append(overall)\n",
    "            annual_metrics[m].append(annual)\n",
    "    \n",
    "    return overall_metrics, annual_metrics, tests, preds"
   ]
  },
  {
   "cell_type": "code",
   "execution_count": 3,
   "metadata": {},
   "outputs": [],
   "source": [
    "def full_pipeline():\n",
    "    gene_arr_path = r'../output/gene_editing/es_with_decay.array'\n",
    "    transplant_arr_path = r'../output/transplant/es_with_decay.array'\n",
    "\n",
    "    gene_arr = pickle.load(open(gene_arr_path, mode='rb'))\n",
    "    transplant_arr = pickle.load(open(transplant_arr_path, mode='rb'))\n",
    "    \n",
    "    gene_arr = gene_arr[:, :-1, :]\n",
    "    transplant_arr = transplant_arr[:, :-1, :]\n",
    "\n",
    "    print('Shape of the gene_editing array:',gene_arr.shape)\n",
    "    print('Shape of the transplant array:',transplant_arr.shape)\n",
    "    \n",
    "    metrics = {\n",
    "        'gene':{\n",
    "            'overall':{},\n",
    "            'annual':{}\n",
    "        },\n",
    "        'transplant':{\n",
    "            'overall':{},\n",
    "            'annual':{}\n",
    "        }\n",
    "    }\n",
    "    \n",
    "    for name, dataset in zip(['gene', 'transplant'], [gene_arr, transplant_arr]):\n",
    "        scaler, data = scale_data(dataset, 'standard')\n",
    "\n",
    "        # 用预测第二年的类别变量作为分成Kfold的依据，不支持浮点数\n",
    "        X, y, y_cat = data[:, :n_input, :], data[:, n_input:, -2], dataset[:, n_input, -1]\n",
    "        kfold = StratifiedKFold(n_splits=5, shuffle=True, random_state=42)\n",
    "        \n",
    "        overall_metrics, annual_metrics, tests, preds = cross_validation(X, y, y_cat, kfold, scaler)\n",
    "        pickle.dump(tests, open('lr_tests_{}.list'.format(name), 'wb'))\n",
    "        pickle.dump(preds, open('lr_preds_{}.list'.format(name), 'wb'))\n",
    "        \n",
    "        for n in [1, 5, 10, 15, 20, 25, 30, 35, 40]:\n",
    "            overall_total = []\n",
    "\n",
    "            for test, pred in zip(tests, preds):\n",
    "                overall, _ = eval_model('ndcg', test, pred, scaler, n)\n",
    "                overall_total.append(overall)\n",
    "            print(n, np.mean(overall_total))\n",
    "\n",
    "        for metric, value in overall_metrics.items():\n",
    "            metrics[name]['overall'][metric] = np.mean(value)\n",
    "        \n",
    "        for metric, value in annual_metrics.items():\n",
    "            metrics[name]['annual'][metric] = np.mean(np.array(value), axis=0)\n",
    "            \n",
    "        print('=====')\n",
    "    \n",
    "    pickle.dump(metrics, open('lr_metrics.dict', 'wb'))\n",
    "    \n",
    "    return metrics"
   ]
  },
  {
   "cell_type": "code",
   "execution_count": 4,
   "metadata": {},
   "outputs": [
    {
     "name": "stdout",
     "output_type": "stream",
     "text": [
      "Shape of the gene_editing array: (2643, 16, 10)\n",
      "Shape of the transplant array: (5141, 16, 10)\n",
      "1 0.22223977128162797\n",
      "5 0.14981584667329062\n",
      "10 0.15038070685135352\n",
      "15 0.2004395120663359\n",
      "20 0.2492909291406297\n",
      "25 0.2635951185595985\n",
      "30 0.26411620928984597\n",
      "35 0.264121647440036\n",
      "40 0.2641232669689737\n",
      "=====\n",
      "1 0.043180314790711806\n",
      "5 0.33429069958040786\n",
      "10 0.3833263674581361\n",
      "15 0.3844872491068555\n",
      "20 0.38917158597614976\n",
      "25 0.39075055083828797\n",
      "30 0.3964470495795371\n",
      "35 0.3974889929609235\n",
      "40 0.39812225275149044\n",
      "=====\n"
     ]
    }
   ],
   "source": [
    "metrics = full_pipeline()"
   ]
  },
  {
   "cell_type": "code",
   "execution_count": 7,
   "metadata": {},
   "outputs": [
    {
     "data": {
      "text/plain": [
       "{'gene': {'overall': {'mae': 0.8018815046986673,\n",
       "   'rmse': 1.3595098885998171,\n",
       "   'ndcg': 0.2492909291406297},\n",
       "  'annual': {'mae': array([0.46522077, 0.62449025, 0.8229462 , 0.95881447, 1.13793583]),\n",
       "   'rmse': array([0.91029942, 1.08764041, 1.40908608, 1.5134606 , 1.69634745]),\n",
       "   'ndcg': array([0.43892515, 0.22356679, 0.18785385, 0.16005015, 0.11074381])}},\n",
       " 'transplant': {'overall': {'mae': 0.8296704622461665,\n",
       "   'rmse': 1.3081963723530239,\n",
       "   'ndcg': 0.38917158597614976},\n",
       "  'annual': {'mae': array([0.81569122, 0.82645236, 0.79235828, 0.83018397, 0.88366648]),\n",
       "   'rmse': array([1.35811836, 1.31037518, 1.23673301, 1.26169358, 1.36091925]),\n",
       "   'ndcg': array([0.03360669, 0.02482068, 0.01940027, 0.06732   , 0.09894005])}}}"
      ]
     },
     "execution_count": 7,
     "metadata": {},
     "output_type": "execute_result"
    }
   ],
   "source": [
    "metrics"
   ]
  },
  {
   "cell_type": "code",
   "execution_count": 5,
   "metadata": {},
   "outputs": [
    {
     "data": {
      "text/plain": [
       "{'gene': {'overall': {'mae': 0.8018815046986673,\n",
       "   'rmse': 1.3595098885998171,\n",
       "   'ndcg': 0.2492909291406297,\n",
       "   'mape': 6.269173143466054,\n",
       "   'r2': 0.14811191758153008,\n",
       "   'pearson': 0.473244547996673,\n",
       "   'acc': 0.32244047361717326},\n",
       "  'annual': {'mae': array([0.46522077, 0.62449025, 0.8229462 , 0.95881447, 1.13793583]),\n",
       "   'rmse': array([0.91029942, 1.08764041, 1.40908608, 1.5134606 , 1.69634745]),\n",
       "   'ndcg': array([0.43892515, 0.22356679, 0.18785385, 0.16005015, 0.11074381]),\n",
       "   'mape': array([4.4641149 , 4.49437097, 5.17637538, 8.46914721, 8.74185726]),\n",
       "   'r2': array([ 0.05732926,  0.03848562,  0.06256008,  0.00980737, -0.01411822]),\n",
       "   'pearson': array([0.62985521, 0.48130982, 0.4170647 , 0.29739416, 0.17606587]),\n",
       "   'acc': array([0.56336835, 0.30915866, 0.31061595, 0.25689199, 0.17216743])}},\n",
       " 'transplant': {'overall': {'mae': 0.8296704622461665,\n",
       "   'rmse': 1.3081963723530239,\n",
       "   'ndcg': 0.38917158597614976,\n",
       "   'mape': 3.858641832508431,\n",
       "   'r2': 0.3888450679732709,\n",
       "   'pearson': 0.6290067226104327,\n",
       "   'acc': 0.2228430954242384},\n",
       "  'annual': {'mae': array([0.81569122, 0.82645236, 0.79235828, 0.83018397, 0.88366648]),\n",
       "   'rmse': array([1.35811836, 1.31037518, 1.23673301, 1.26169358, 1.36091925]),\n",
       "   'ndcg': array([0.03360669, 0.02482068, 0.01940027, 0.06732   , 0.09894005]),\n",
       "   'mape': array([3.37310496, 4.00382699, 3.09525717, 5.42011558, 3.40090446]),\n",
       "   'r2': array([0.37575117, 0.40745732, 0.38966651, 0.40986035, 0.36352276]),\n",
       "   'pearson': array([0.62673185, 0.64056041, 0.62709365, 0.64744372, 0.61224152]),\n",
       "   'acc': array([0.23363575, 0.21746042, 0.23013096, 0.22699559, 0.20599276])}}}"
      ]
     },
     "execution_count": 5,
     "metadata": {},
     "output_type": "execute_result"
    }
   ],
   "source": [
    "metrics"
   ]
  },
  {
   "cell_type": "code",
   "execution_count": null,
   "metadata": {},
   "outputs": [],
   "source": []
  }
 ],
 "metadata": {
  "kernelspec": {
   "display_name": "Python 3",
   "language": "python",
   "name": "python3"
  },
  "language_info": {
   "codemirror_mode": {
    "name": "ipython",
    "version": 3
   },
   "file_extension": ".py",
   "mimetype": "text/x-python",
   "name": "python",
   "nbconvert_exporter": "python",
   "pygments_lexer": "ipython3",
   "version": "3.7.4"
  }
 },
 "nbformat": 4,
 "nbformat_minor": 2
}
