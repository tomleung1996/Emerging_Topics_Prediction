{
 "cells": [
  {
   "cell_type": "markdown",
   "metadata": {},
   "source": [
    "### 循环神经网络模型模型：Encoder-Decoder with LSTM cell\n"
   ]
  },
  {
   "cell_type": "code",
   "execution_count": 28,
   "metadata": {
    "pycharm": {
     "is_executing": false
    }
   },
   "outputs": [],
   "source": [
    "import pickle\n",
    "import pandas as pd\n",
    "import numpy as np\n",
    "import matplotlib.pyplot as plt\n",
    "import random\n",
    "from utils import *\n",
    "import tensorflow.keras as keras\n",
    "from tensorflow.keras import regularizers\n",
    "from tensorflow.keras.layers import *\n",
    "from tensorflow.keras.models import *\n",
    "from tensorflow.keras.wrappers.scikit_learn import KerasClassifier\n",
    "\n",
    "random.seed(42)"
   ]
  },
  {
   "cell_type": "markdown",
   "metadata": {},
   "source": [
    "读取数据"
   ]
  },
  {
   "cell_type": "code",
   "execution_count": 3,
   "metadata": {},
   "outputs": [
    {
     "name": "stdout",
     "output_type": "stream",
     "text": [
      "Shape of the gene_editing array: (2643, 17, 11)\n",
      "Shape of the transplant array: (5141, 17, 11)\n"
     ]
    }
   ],
   "source": [
    "# (term_num, time_steps, feature_num)\n",
    "\n",
    "gene_arr_path = r'../output/gene_editing/decay_result.array'\n",
    "transplant_arr_path = r'../output/transplant/decay_result.array'\n",
    "\n",
    "gene_arr = pickle.load(open(gene_arr_path, mode='rb'))\n",
    "transplant_arr = pickle.load(open(transplant_arr_path, mode='rb'))\n",
    "\n",
    "print('Shape of the gene_editing array:',gene_arr.shape)\n",
    "print('Shape of the transplant array:',transplant_arr.shape)"
   ]
  },
  {
   "cell_type": "markdown",
   "metadata": {},
   "source": [
    "### 截断数据\n",
    "因2019年两个数据集的EmergingScore大部分都为0，而2018年及之前的情况要好很多，故抛弃2019年数据"
   ]
  },
  {
   "cell_type": "code",
   "execution_count": 4,
   "metadata": {},
   "outputs": [
    {
     "name": "stdout",
     "output_type": "stream",
     "text": [
      "Shape of the gene_editing array: (2643, 16, 11)\n",
      "Shape of the transplant array: (5141, 16, 11)\n"
     ]
    }
   ],
   "source": [
    "gene_arr = gene_arr[:, :-1, :]\n",
    "transplant_arr = transplant_arr[:, :-1, :]\n",
    "\n",
    "print('Shape of the gene_editing array:',gene_arr.shape)\n",
    "print('Shape of the transplant array:',transplant_arr.shape)"
   ]
  },
  {
   "cell_type": "markdown",
   "metadata": {},
   "source": [
    "### 规范数据并获取训练集和测试集"
   ]
  },
  {
   "cell_type": "code",
   "execution_count": 5,
   "metadata": {},
   "outputs": [],
   "source": [
    "scaler, data = scale_data(transplant_arr, 'standard')\n",
    "X_train, X_test, y_train, y_test = split_data(data, 11, 0.2)"
   ]
  },
  {
   "cell_type": "markdown",
   "metadata": {},
   "source": [
    "### 构建模型"
   ]
  },
  {
   "cell_type": "code",
   "execution_count": 14,
   "metadata": {},
   "outputs": [],
   "source": [
    "def build_encoder_decoder_model(lstm_units, dense_units, lr):\n",
    "    model = keras.models.Sequential()\n",
    "    model.add(LSTM(lstm_units, activation='tanh', input_shape=(X_train.shape[1], X_train.shape[2]), return_sequences=True))\n",
    "    model.add(LSTM(lstm_units, activation='tanh'))\n",
    "    model.add(RepeatVector(y_train.shape[1]))\n",
    "    model.add(LSTM(lstm_units, activation='tanh', return_sequences=True))\n",
    "    model.add(LSTM(lstm_units, activation='tanh', return_sequences=True))\n",
    "    model.add(TimeDistributed(Dense(dense_units, activation='relu')))\n",
    "    model.add(TimeDistributed(Dense(1)))\n",
    "    \n",
    "    optimizer=keras.optimizers.Adam(learning_rate=lr)\n",
    "    model.compile(loss='mae', optimizer='adam')\n",
    "    return model"
   ]
  },
  {
   "cell_type": "markdown",
   "metadata": {},
   "source": [
    "训练"
   ]
  },
  {
   "cell_type": "code",
   "execution_count": 7,
   "metadata": {},
   "outputs": [
    {
     "name": "stdout",
     "output_type": "stream",
     "text": [
      "Train on 4112 samples, validate on 1029 samples\n",
      "Epoch 1/20\n",
      "4112/4112 [==============================] - 29s 7ms/sample - loss: 0.5511 - val_loss: 0.5048\n",
      "Epoch 2/20\n",
      "4112/4112 [==============================] - 18s 4ms/sample - loss: 0.5366 - val_loss: 0.4960\n",
      "Epoch 3/20\n",
      "4112/4112 [==============================] - 16s 4ms/sample - loss: 0.5285 - val_loss: 0.4956\n",
      "Epoch 4/20\n",
      "4112/4112 [==============================] - 16s 4ms/sample - loss: 0.5264 - val_loss: 0.4872\n",
      "Epoch 5/20\n",
      "4112/4112 [==============================] - 16s 4ms/sample - loss: 0.5224 - val_loss: 0.4852\n",
      "Epoch 6/20\n",
      "4112/4112 [==============================] - 16s 4ms/sample - loss: 0.5219 - val_loss: 0.4820\n",
      "Epoch 7/20\n",
      "4112/4112 [==============================] - 16s 4ms/sample - loss: 0.5208 - val_loss: 0.4885\n",
      "Epoch 8/20\n",
      "4112/4112 [==============================] - 16s 4ms/sample - loss: 0.5201 - val_loss: 0.4806\n",
      "Epoch 9/20\n",
      "4112/4112 [==============================] - 16s 4ms/sample - loss: 0.5177 - val_loss: 0.4797\n",
      "Epoch 10/20\n",
      "4112/4112 [==============================] - 17s 4ms/sample - loss: 0.5163 - val_loss: 0.4791\n",
      "Epoch 11/20\n",
      "4112/4112 [==============================] - 16s 4ms/sample - loss: 0.5142 - val_loss: 0.4871\n",
      "Epoch 12/20\n",
      "4112/4112 [==============================] - 16s 4ms/sample - loss: 0.5124 - val_loss: 0.4805\n",
      "Epoch 13/20\n",
      "4112/4112 [==============================] - 16s 4ms/sample - loss: 0.5127 - val_loss: 0.4820\n",
      "Epoch 14/20\n",
      "4112/4112 [==============================] - 16s 4ms/sample - loss: 0.5112 - val_loss: 0.4785\n",
      "Epoch 15/20\n",
      "4112/4112 [==============================] - 17s 4ms/sample - loss: 0.5088 - val_loss: 0.4787\n",
      "Epoch 16/20\n",
      "4112/4112 [==============================] - 16s 4ms/sample - loss: 0.5072 - val_loss: 0.4870\n",
      "Epoch 17/20\n",
      "4112/4112 [==============================] - 16s 4ms/sample - loss: 0.5044 - val_loss: 0.4779\n",
      "Epoch 18/20\n",
      "4112/4112 [==============================] - 16s 4ms/sample - loss: 0.5027 - val_loss: 0.4776\n",
      "Epoch 19/20\n",
      "4112/4112 [==============================] - 17s 4ms/sample - loss: 0.5008 - val_loss: 0.4826\n",
      "Epoch 20/20\n",
      "4112/4112 [==============================] - 17s 4ms/sample - loss: 0.4985 - val_loss: 0.4810\n"
     ]
    }
   ],
   "source": [
    "model = build_encoder_decoder_model()\n",
    "history = model.fit(X_train, y_train, epochs=20, batch_size=16, verbose=1, validation_data=(X_test, y_test), \n",
    "                   callbacks=[])"
   ]
  },
  {
   "cell_type": "markdown",
   "metadata": {
    "pycharm": {
     "name": "#%% md\n"
    }
   },
   "source": [
    "预测"
   ]
  },
  {
   "cell_type": "markdown",
   "metadata": {
    "pycharm": {
     "name": "#%% md\n"
    }
   },
   "source": [
    "from tensorflow.keras.models import load_model\n",
    "\n",
    "model = load_model(r'C:\\Users\\Tom Leung\\Desktop\\best.h5')\n",
    "y_pred = model.predict(X_test).reshape(y_test.shape)"
   ]
  },
  {
   "cell_type": "code",
   "execution_count": 33,
   "metadata": {},
   "outputs": [
    {
     "name": "stdout",
     "output_type": "stream",
     "text": [
      "MAE: 0.6794559374706024\n",
      "MAEMAE: [0.63497424 0.67648521 0.69046514 0.68099779 0.7143573 ]\n"
     ]
    },
    {
     "data": {
      "image/png": "[encoded data removed]",
      "text/plain": [
       "<Figure size 432x288 with 1 Axes>"
      ]
     },
     "metadata": {
      "needs_background": "light"
     },
     "output_type": "display_data"
    },
    {
     "name": "stdout",
     "output_type": "stream",
     "text": [
      "MSE: 1.450288355997312\n",
      "MSEMAE: [1.39966462 1.50869504 1.6387495  1.21824771 1.48608491]\n"
     ]
    },
    {
     "data": {
      "image/png": "[encoded data removed]",
      "text/plain": [
       "<Figure size 432x288 with 1 Axes>"
      ]
     },
     "metadata": {
      "needs_background": "light"
     },
     "output_type": "display_data"
    },
    {
     "name": "stdout",
     "output_type": "stream",
     "text": [
      "MAPE: 13783104214.110168\n",
      "MAPEMAE: [2.37637454e+10 3.54657275e+10 4.84243907e+09 4.84360914e+09\n",
      " 9.27147514e-01]\n"
     ]
    },
    {
     "data": {
      "image/png": "[encoded data removed]",
      "text/plain": [
       "<Figure size 432x288 with 1 Axes>"
      ]
     },
     "metadata": {
      "needs_background": "light"
     },
     "output_type": "display_data"
    },
    {
     "name": "stdout",
     "output_type": "stream",
     "text": [
      "RMSE: 1.2042791852379215\n",
      "RMSEMAE: [1.18307422 1.22828948 1.28013652 1.10374259 1.21905082]\n"
     ]
    },
    {
     "data": {
      "image/png": "[encoded data removed]",
      "text/plain": [
       "<Figure size 432x288 with 1 Axes>"
      ]
     },
     "metadata": {
      "needs_background": "light"
     },
     "output_type": "display_data"
    },
    {
     "name": "stdout",
     "output_type": "stream",
     "text": [
      "NDCG: 0.8529643085037936\n",
      "NDCGMAE: [0.6302062234072997, 0.42137539145334685, 0.406936093257541, 0.5936737446070284, 0.46501339431161404]\n"
     ]
    },
    {
     "data": {
      "image/png": "[encoded data removed]",
      "text/plain": [
       "<Figure size 432x288 with 1 Axes>"
      ]
     },
     "metadata": {
      "needs_background": "light"
     },
     "output_type": "display_data"
    }
   ],
   "source": [
    "ids = random.sample(range(len(y_test)), 10)\n",
    "\n",
    "plt.figure(figsize=(12,8))\n",
    "for i in range(10):\n",
    "    plt.subplot(5,2,i+1)\n",
    "    plt.plot(np.concatenate((X_test[ids[i], :, -2], y_test[ids[i]].reshape(-1)), axis=None), label='actual', zorder=1)\n",
    "    plt.plot(np.concatenate((X_test[ids[i], :, -2], y_pred[ids[i]].reshape(-1)), axis=None), label='predict', zorder=0)\n",
    "plt.legend()\n",
    "plt.tight_layout()\n",
    "plt.show()"
   ]
  },
  {
   "cell_type": "code",
   "execution_count": 34,
   "metadata": {},
   "outputs": [],
   "source": [
    "_y_true, _y_pred = eval_model('classification', y_test, y_pred, scaler)"
   ]
  },
  {
   "cell_type": "code",
   "execution_count": 14,
   "metadata": {},
   "outputs": [
    {
     "name": "stdout",
     "output_type": "stream",
     "text": [
      "              precision    recall  f1-score   support\n",
      "\n",
      "         0.0       0.42      1.00      0.59        27\n",
      "         1.0       0.69      0.67      0.68      3248\n",
      "         2.0       0.18      0.18      0.18      1059\n",
      "         3.0       0.40      0.34      0.37       548\n",
      "         4.0       0.21      0.28      0.24       263\n",
      "\n",
      "    accuracy                           0.52      5145\n",
      "   macro avg       0.38      0.50      0.41      5145\n",
      "weighted avg       0.53      0.52      0.52      5145\n",
      "\n"
     ]
    }
   ],
   "source": [
    "from sklearn.metrics import classification_report\n",
    "print(classification_report(_y_true.reshape(-1), _y_pred.reshape(-1)))"
   ]
  },
  {
   "cell_type": "code",
   "execution_count": 35,
   "metadata": {},
   "outputs": [
    {
     "name": "stdout",
     "output_type": "stream",
     "text": [
      "              precision    recall  f1-score   support\n",
      "\n",
      "         1.0       0.72      0.79      0.75      3275\n",
      "         2.0       0.33      0.03      0.05      1059\n",
      "         3.0       0.00      0.00      0.00       548\n",
      "         4.0       0.12      0.65      0.20       263\n",
      "\n",
      "    accuracy                           0.54      5145\n",
      "   macro avg       0.29      0.37      0.25      5145\n",
      "weighted avg       0.53      0.54      0.50      5145\n",
      "\n"
     ]
    },
    {
     "name": "stderr",
     "output_type": "stream",
     "text": [
      "C:\\ProgramData\\Anaconda3\\lib\\site-packages\\sklearn\\metrics\\classification.py:1437: UndefinedMetricWarning: Precision and F-score are ill-defined and being set to 0.0 in labels with no predicted samples.\n",
      "  'precision', 'predicted', average, warn_for)\n"
     ]
    }
   ],
   "source": [
    "from sklearn.metrics import classification_report\n",
    "print(classification_report(_y_true.reshape(-1), _y_pred.reshape(-1)))"
   ]
  },
  {
   "cell_type": "code",
   "execution_count": null,
   "metadata": {},
   "outputs": [],
   "source": []
  }
 ],
 "metadata": {
  "kernelspec": {
   "display_name": "Python 3",
   "language": "python",
   "name": "python3"
  },
  "language_info": {
   "codemirror_mode": {
    "name": "ipython",
    "version": 3
   },
   "file_extension": ".py",
   "mimetype": "text/x-python",
   "name": "python",
   "nbconvert_exporter": "python",
   "pygments_lexer": "ipython3",
   "version": "3.7.4"
  },
  "pycharm": {
   "stem_cell": {
    "cell_type": "raw",
    "source": [],
    "metadata": {
     "collapsed": false
    }
   }
  }
 },
 "nbformat": 4,
 "nbformat_minor": 4
}