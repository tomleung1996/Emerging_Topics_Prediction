{
 "cells": [
  {
   "cell_type": "markdown",
   "metadata": {},
   "source": [
    "### 导入依赖"
   ]
  },
  {
   "cell_type": "code",
   "execution_count": 1,
   "metadata": {
    "pycharm": {
     "is_executing": true
    }
   },
   "outputs": [],
   "source": [
    "import pickle\n",
    "import pandas as pd\n",
    "import tensorflow.keras as keras\n",
    "import numpy as np\n",
    "import matplotlib.pyplot as plt\n",
    "from sklearn.model_selection import train_test_split\n",
    "from sklearn.preprocessing import StandardScaler, MinMaxScaler, RobustScaler, PowerTransformer, QuantileTransformer\n",
    "from sklearn.utils import class_weight\n",
    "from sklearn.metrics import classification_report, mean_squared_error, mean_absolute_error\n",
    "from tensorflow.keras import regularizers\n",
    "from tensorflow.keras.layers import *\n",
    "from tensorflow.keras.models import *"
   ]
  },
  {
   "cell_type": "markdown",
   "metadata": {},
   "source": [
    "### 读取数据"
   ]
  },
  {
   "cell_type": "code",
   "execution_count": 2,
   "metadata": {},
   "outputs": [
    {
     "name": "stdout",
     "output_type": "stream",
     "text": [
      "Shape of the gene_editing array: (2643, 17, 11)\n",
      "Shape of the transplant array: (5141, 17, 11)\n"
     ]
    }
   ],
   "source": [
    "# (term_num, time_steps, feature_num)\n",
    "\n",
    "gene_arr_path = r'output/gene_editing/decay_result.array'\n",
    "transplant_arr_path = r'output/transplant/decay_result.array'\n",
    "\n",
    "gene_arr = pickle.load(open(gene_arr_path, mode='rb'))\n",
    "transplant_arr = pickle.load(open(transplant_arr_path, mode='rb'))\n",
    "\n",
    "print('Shape of the gene_editing array:',gene_arr.shape)\n",
    "print('Shape of the transplant array:',transplant_arr.shape)"
   ]
  },
  {
   "cell_type": "markdown",
   "metadata": {},
   "source": [
    "### 模型评估方法\n",
    "MAE，MSE，RMSE，MAPE（逐年和全部平均）\n",
    "\n",
    "precision，recall，F1，accuracy（分类，逐年和全部平均）\n",
    "\n",
    "NDCG@20（新兴主题发现）"
   ]
  },
  {
   "cell_type": "code",
   "execution_count": 3,
   "metadata": {},
   "outputs": [],
   "source": [
    "def eval_model(method, y_true_1, y_pred_1, scaler):\n",
    "    if scaler is not None:\n",
    "        y_true = scaler.inverse_transform(y_true_1.reshape(-1, 1)).reshape(y_true_1.shape)\n",
    "        y_pred = scaler.inverse_transform(y_pred_1.reshape(-1, 1)).reshape(y_pred_1.shape)\n",
    "    else:\n",
    "        y_true = y_true_1\n",
    "        y_pred = y_pred_1\n",
    "    \n",
    "    if method.lower() == 'mae':\n",
    "        errors = np.abs(y_true - y_pred)\n",
    "        annual_mae = np.mean(errors, axis=0)\n",
    "        overall_mae = np.mean(errors, axis=None)\n",
    "        \n",
    "        return overall_mae, annual_mae\n",
    "    \n",
    "    if method.lower() == 'mse':\n",
    "        errors = np.square(y_true - y_pred)\n",
    "        annual_mse = np.mean(errors, axis=0)\n",
    "        overall_mse = np.mean(errors, axis=None)\n",
    "        \n",
    "        return overall_mse, annual_mse\n",
    "    \n",
    "    if method.lower() == 'rmse':\n",
    "        errors = np.square(y_true - y_pred)\n",
    "        annual_rmse = np.sqrt(np.mean(errors, axis=0))\n",
    "        overall_rmse = np.sqrt(np.mean(errors, axis=None))\n",
    "        \n",
    "        return overall_rmse, annual_rmse\n",
    "    \n",
    "    if method.lower() == 'mape':\n",
    "        errors = np.abs((y_true - y_pred) / y_true)\n",
    "        annual_mape = np.mean(errors, axis=0)\n",
    "        overall_mape = np.mean(errors, axis=None)\n",
    "    \n",
    "        return overall_mape, annual_mape\n",
    "    \n",
    "    if method.lower() == 'ndcg':\n",
    "        n = 20\n",
    "        samples, years = y_true.shape\n",
    "        annual_ndcg = []\n",
    "        \n",
    "        for year in range(years):\n",
    "            annual_ndcg.append(cal_ndcg(n, y_true[:, year], y_pred[:, year]))\n",
    "        \n",
    "        overall_ndcg = cal_ndcg(n, np.sum(y_true, axis=1), np.sum(y_pred, axis=1))\n",
    "        \n",
    "        return overall_ndcg, annual_ndcg\n",
    "    \n",
    "    if method.lower() == 'classification':\n",
    "        percentiles = [70, 85, 95]\n",
    "        \n",
    "def cal_ndcg(n, true, pred):\n",
    "    _true = true.reshape(-1)\n",
    "    _pred = pred.reshape(-1)\n",
    "    \n",
    "    _list = list(zip(_true, _pred))\n",
    "    true_list = sorted(_list, key=lambda x: x[0], reverse=True)[:n]\n",
    "    pred_list = sorted(_list, key=lambda x: x[1], reverse=True)[:n]\n",
    "    \n",
    "    true_array = np.zeros((len(true_list), 2))\n",
    "    pred_array = np.zeros((len(pred_list), 2))\n",
    "    \n",
    "    for i, num in enumerate(true_list):\n",
    "        true_array[i] = np.array([i+1, num[0]])\n",
    "    \n",
    "    for i, num in enumerate(pred_list):\n",
    "        pred_array[i] = np.array([i+1, num[0]])\n",
    "    \n",
    "    # 使用工业界的算法\n",
    "#     ideal_score = np.sum((2 ** true_array[:, 1] - 1) / np.log2(true_array[:, 0] + 1))\n",
    "#     pred_score = np.sum((2 ** pred_array[:, 1] - 1) / np.log2(pred_array[:, 0] + 1))\n",
    "\n",
    "    # 使用普通的算法\n",
    "    ideal_score = np.sum((true_array[:, 1]) / np.log2(true_array[:, 0] + 1))\n",
    "    pred_score = np.sum((pred_array[:, 1]) / np.log2(pred_array[:, 0] + 1))\n",
    "    \n",
    "    return pred_score / ideal_score     "
   ]
  },
  {
   "cell_type": "code",
   "execution_count": 4,
   "metadata": {},
   "outputs": [
    {
     "data": {
      "text/plain": [
       "0.6678559202923124"
      ]
     },
     "execution_count": 4,
     "metadata": {},
     "output_type": "execute_result"
    }
   ],
   "source": [
    "cal_ndcg(10, np.array([10, 9, 8, 7, 6, 5, 4, 3, 2, 1]), np.array(list(range(10))))"
   ]
  },
  {
   "cell_type": "markdown",
   "metadata": {},
   "source": [
    "### 截断数据\n",
    "因2019年两个数据集的EmergingScore大部分都为0，而2018年及之前的情况要好很多，故抛弃2019年数据"
   ]
  },
  {
   "cell_type": "code",
   "execution_count": 5,
   "metadata": {},
   "outputs": [
    {
     "name": "stdout",
     "output_type": "stream",
     "text": [
      "Shape of the gene_editing array: (2643, 16, 11)\n",
      "Shape of the transplant array: (5141, 16, 11)\n"
     ]
    }
   ],
   "source": [
    "gene_arr = gene_arr[:, :-1, :]\n",
    "transplant_arr = transplant_arr[:, :-1, :]\n",
    "\n",
    "print('Shape of the gene_editing array:',gene_arr.shape)\n",
    "print('Shape of the transplant array:',transplant_arr.shape)"
   ]
  },
  {
   "cell_type": "markdown",
   "metadata": {},
   "source": [
    "### 差分（可选）\n",
    "对数据进行差分，学习其变化而非其绝对值，但其误差会随时间推移累积\n",
    "\n",
    "如果要使用差分，则应先差分再规范化\n",
    "\n",
    "使用差分之后，数据会少一年"
   ]
  },
  {
   "cell_type": "code",
   "execution_count": 6,
   "metadata": {},
   "outputs": [],
   "source": [
    "def difference(data, interval=1):\n",
    "    result = np.diff(data, interval, axis=1, prepend=0)\n",
    "    return result\n",
    "\n",
    "def add_diff(diff, original_data):\n",
    "    result = np.zeros(diff.shape)\n",
    "    \n",
    "    for i in range(len(diff)):\n",
    "        for j in range(len(diff[0])):\n",
    "            if j == 0:\n",
    "                result[i][j] = original_data[i][-1][-2] + diff[i][j]\n",
    "            else:\n",
    "                result[i][j] = result[i][j-1] + diff[i][j]\n",
    "    return result"
   ]
  },
  {
   "cell_type": "markdown",
   "metadata": {},
   "source": [
    "### 数据规范化\n",
    "为了提升效果，先进行规范化再作训练集和测试集的划分（暴露了一点测试集信息）\n",
    "\n",
    "因为原来的数据是三维数组，所以需要转成二维再规范化（这里选择了转成term * timestep, features的维度，也可以试一下term, timestep * features的维度）\n",
    "\n",
    "使用了两种Scaler来尝试"
   ]
  },
  {
   "cell_type": "markdown",
   "metadata": {},
   "source": [
    "### 划分训练集和测试集\n",
    "测试集比例也会影响“效果”"
   ]
  },
  {
   "cell_type": "code",
   "execution_count": 7,
   "metadata": {},
   "outputs": [],
   "source": [
    "def scale_data(data, scaler):\n",
    "    data_reshaped = data.reshape(data.shape[0] * data.shape[1], data.shape[2])\n",
    "    \n",
    "    if scaler.lower() == 'none':\n",
    "        return None, data\n",
    "    elif scaler.lower() == 'standard':\n",
    "        s = StandardScaler()\n",
    "    elif scaler.lower() == 'minmax':\n",
    "        s = MinMaxScaler()\n",
    "    elif scaler.lower() == 'robust':\n",
    "        s = RobustScaler()\n",
    "    elif scaler.lower() == 'power':\n",
    "        s = PowerTransformer()\n",
    "    elif scaler.lower() == 'quantile':\n",
    "        s = QuantileTransformer()\n",
    "    \n",
    "    data_rescaled = s.fit_transform(data_reshaped)\n",
    "    s.fit(data_reshaped[:, -2].reshape(-1, 1))\n",
    "    data_rescaled = data_rescaled.reshape(data.shape)\n",
    "    \n",
    "    # 返回es的scaler以便恢复原始数值（近似）\n",
    "    return s, data_rescaled\n",
    "\n",
    "def split_data(data, n_input, ratio):\n",
    "    X, y = data[:, :n_input, :], data[:, n_input:, -2]\n",
    "    return train_test_split(X, y, test_size=ratio, random_state=20200214, shuffle=True, stratify=data[:, n_input, -1])"
   ]
  },
  {
   "cell_type": "code",
   "execution_count": 8,
   "metadata": {},
   "outputs": [],
   "source": [
    "# diff_data = difference(transplant_arr, 1)\n",
    "scaler, data = scale_data(transplant_arr, 'standard')\n",
    "\n",
    "X_train, X_test, y_train, y_test = split_data(data, 11, 0.2)\n",
    "# X_train_origin, X_test_origin, y_train_origin, y_test_origin = split_data(transplant_arr, 11, 0.2)"
   ]
  },
  {
   "cell_type": "markdown",
   "metadata": {},
   "source": [
    "### 构建Endocer-Decoder模型（无teacher forcing）\n",
    "best MAE\n",
    "\n",
    "0.6862598326615992\n",
    "\n",
    "[0.6398034  0.68237641 0.69500923 0.68944744 0.72466269]"
   ]
  },
  {
   "cell_type": "code",
   "execution_count": 9,
   "metadata": {},
   "outputs": [],
   "source": [
    "def build_encoder_decoder_model():\n",
    "    model = keras.models.Sequential()\n",
    "    model.add(LSTM(256, activation='tanh', input_shape=(X_train.shape[1], X_train.shape[2]), return_sequences=True))\n",
    "    model.add(LSTM(256, activation='tanh'))\n",
    "    model.add(RepeatVector(y_train.shape[1]))\n",
    "    model.add(LSTM(256, activation='tanh', return_sequences=True))\n",
    "    model.add(TimeDistributed(Dense(128, activation='relu')))\n",
    "    \n",
    "    model.add(TimeDistributed(Dense(1)))\n",
    "    model.compile(loss='mae', optimizer='adam')\n",
    "    return model"
   ]
  },
  {
   "cell_type": "markdown",
   "metadata": {},
   "source": [
    "### 构建Encoder-Decoder模型（有teacher forcing）\n",
    "best MAE (stratify=data[:, n_input, -1])\n",
    "\n",
    "0.7034252428770297\n",
    "\n",
    "[0.64555    0.69842216 0.72413822 0.70448205 0.74453378]"
   ]
  },
  {
   "cell_type": "code",
   "execution_count": 24,
   "metadata": {},
   "outputs": [],
   "source": [
    "def build_tf_encoder_decoder_model():\n",
    "    n_input = 11\n",
    "    n_units = 256\n",
    "    n_output = 1\n",
    "    \n",
    "    # define training encoder\n",
    "    encoder_inputs = Input(shape=(None, n_input))\n",
    "    encoder1 = LSTM(n_units, return_state=False, dropout=0.2, return_sequences=True)(encoder_inputs)\n",
    "    encoder2 = LSTM(n_units, return_state=True, dropout=0.2)\n",
    "    encoder_outputs, state_h, state_c = encoder2(encoder1)\n",
    "    encoder_states = [state_h, state_c]\n",
    "    # define training decoder\n",
    "    decoder_inputs = Input(shape=(None, n_output))\n",
    "    decoder_lstm = LSTM(n_units, return_sequences=True, return_state=True, dropout=0.2)\n",
    "    decoder_outputs, _, _ = decoder_lstm(decoder_inputs, initial_state=encoder_states)\n",
    "    decoder_dense = Dense(n_output, activation=None)\n",
    "    decoder_outputs = decoder_dense(decoder_outputs)\n",
    "    model = Model([encoder_inputs, decoder_inputs], decoder_outputs)\n",
    "    \n",
    "    \n",
    "    # define inference encoder\n",
    "    encoder_model = Model(encoder_inputs, encoder_states)\n",
    "    # define inference decoder\n",
    "    decoder_state_input_h = Input(shape=(n_units,))\n",
    "    decoder_state_input_c = Input(shape=(n_units,))\n",
    "    decoder_states_inputs = [decoder_state_input_h, decoder_state_input_c]\n",
    "    decoder_outputs, state_h, state_c = decoder_lstm(decoder_inputs, initial_state=decoder_states_inputs)\n",
    "    decoder_states = [state_h, state_c]\n",
    "    decoder_outputs = decoder_dense(decoder_outputs)\n",
    "    decoder_model = Model([decoder_inputs] + decoder_states_inputs, [decoder_outputs] + decoder_states)\n",
    "    \n",
    "    model.compile(optimizer='adam', loss='mae')\n",
    "    \n",
    "    # return all models\n",
    "    return model, encoder_model, decoder_model\n",
    "\n",
    "\n",
    "def predict_sequence(infenc, infdec, source, n_steps, cardinality):\n",
    "    # encode\n",
    "    state = infenc.predict(source)\n",
    "    # start of sequence input\n",
    "    target_seq = np.array([0.0 for _ in range(cardinality)]).reshape(1, 1, cardinality)\n",
    "    # collect predictions\n",
    "    output = list()\n",
    "    for t in range(n_steps):\n",
    "        # predict next char\n",
    "        yhat, h, c = infdec.predict([target_seq] + state)\n",
    "        # store prediction\n",
    "        output.append(yhat[0,0,:])\n",
    "        # update state\n",
    "        state = [h, c]\n",
    "        # update target sequence\n",
    "        target_seq = yhat\n",
    "    return np.array(output)"
   ]
  },
  {
   "cell_type": "code",
   "execution_count": 25,
   "metadata": {
    "scrolled": true
   },
   "outputs": [],
   "source": [
    "decoder_in_training = np.roll(y_train, 1, axis=1)\n",
    "decoder_in_training[:, 0] = 0.0\n",
    "decoder_in_training = decoder_in_training.reshape(len(decoder_in_training), -1, 1)\n",
    "\n",
    "decoder_in_validation = np.roll(y_test, 1, axis=1)\n",
    "decoder_in_validation[:, 0] = 0.0\n",
    "decoder_in_validation = decoder_in_validation.reshape(len(decoder_in_validation), -1, 1)\n",
    "\n",
    "model, encoder_model, decoder_model = build_tf_encoder_decoder_model()"
   ]
  },
  {
   "cell_type": "code",
   "execution_count": 30,
   "metadata": {},
   "outputs": [
    {
     "name": "stdout",
     "output_type": "stream",
     "text": [
      "Train on 4112 samples, validate on 1029 samples\n",
      "Epoch 1/20\n",
      "4112/4112 [==============================] - 8s 2ms/sample - loss: 0.4660 - val_loss: 0.4281\n",
      "Epoch 2/20\n",
      "4112/4112 [==============================] - 9s 2ms/sample - loss: 0.4639 - val_loss: 0.4293\n",
      "Epoch 3/20\n",
      "4112/4112 [==============================] - 10s 2ms/sample - loss: 0.4633 - val_loss: 0.4256\n",
      "Epoch 4/20\n",
      "4112/4112 [==============================] - 10s 2ms/sample - loss: 0.4623 - val_loss: 0.4251\n",
      "Epoch 5/20\n",
      "4112/4112 [==============================] - 10s 2ms/sample - loss: 0.4643 - val_loss: 0.4262\n",
      "Epoch 6/20\n",
      "4112/4112 [==============================] - 10s 2ms/sample - loss: 0.4625 - val_loss: 0.4256\n",
      "Epoch 7/20\n",
      "4112/4112 [==============================] - 10s 2ms/sample - loss: 0.4605 - val_loss: 0.4271\n",
      "Epoch 8/20\n",
      "4112/4112 [==============================] - 10s 2ms/sample - loss: 0.4595 - val_loss: 0.4279\n",
      "Epoch 9/20\n",
      "4112/4112 [==============================] - 10s 2ms/sample - loss: 0.4584 - val_loss: 0.4286\n",
      "Epoch 10/20\n",
      "4112/4112 [==============================] - 10s 2ms/sample - loss: 0.4571 - val_loss: 0.4281\n",
      "Epoch 11/20\n",
      "4112/4112 [==============================] - 10s 2ms/sample - loss: 0.4540 - val_loss: 0.4270\n",
      "Epoch 12/20\n",
      "4112/4112 [==============================] - 10s 2ms/sample - loss: 0.4518 - val_loss: 0.4326\n",
      "Epoch 13/20\n",
      "4112/4112 [==============================] - 10s 2ms/sample - loss: 0.4515 - val_loss: 0.4318\n",
      "Epoch 14/20\n",
      "4112/4112 [==============================] - 10s 2ms/sample - loss: 0.4475 - val_loss: 0.4292\n",
      "Epoch 15/20\n",
      "4112/4112 [==============================] - 10s 2ms/sample - loss: 0.4473 - val_loss: 0.4344\n",
      "Epoch 16/20\n",
      "4112/4112 [==============================] - 10s 2ms/sample - loss: 0.4428 - val_loss: 0.4359\n",
      "Epoch 17/20\n",
      "4112/4112 [==============================] - 10s 2ms/sample - loss: 0.4414 - val_loss: 0.4354\n",
      "Epoch 18/20\n",
      "4112/4112 [==============================] - 10s 2ms/sample - loss: 0.4350 - val_loss: 0.4373\n",
      "Epoch 19/20\n",
      "4112/4112 [==============================] - 10s 2ms/sample - loss: 0.4329 - val_loss: 0.4370\n",
      "Epoch 20/20\n",
      "4112/4112 [==============================] - 10s 2ms/sample - loss: 0.4316 - val_loss: 0.4377\n"
     ]
    }
   ],
   "source": [
    "history = model.fit([X_train, decoder_in_training], y_train, \n",
    "                    epochs=20, validation_data=([X_test, decoder_in_validation], y_test),\n",
    "                    callbacks=[])"
   ]
  },
  {
   "cell_type": "code",
   "execution_count": 31,
   "metadata": {},
   "outputs": [],
   "source": [
    "test_pred = list()\n",
    "for i in X_test:\n",
    "    test_pred.append(predict_sequence(encoder_model, decoder_model, np.expand_dims(i, axis=0), len(y_test[0]), 1))\n",
    "test_pred = np.array(test_pred).reshape(y_test.shape)"
   ]
  },
  {
   "cell_type": "code",
   "execution_count": 186,
   "metadata": {},
   "outputs": [],
   "source": [
    "test_pred = model.predict([X_train, decoder_in_training])"
   ]
  },
  {
   "cell_type": "markdown",
   "metadata": {},
   "source": [
    "### 构建普通RNN模型\n",
    "best MAE\n",
    "\n",
    "0.7030225956402423\n",
    "\n",
    "[0.68098604 0.68773702 0.6986875  0.70448327 0.74321913]"
   ]
  },
  {
   "cell_type": "code",
   "execution_count": 57,
   "metadata": {},
   "outputs": [],
   "source": [
    "def build_basic_rnn_model():\n",
    "    model = keras.models.Sequential()\n",
    "    model.add(LSTM(256, activation='tanh', input_shape=(X_train.shape[1], X_train.shape[2]), return_sequences=True))\n",
    "    model.add(LSTM(256, activation='tanh'))\n",
    "    model.add(Dense(128, activation='relu'))\n",
    "    \n",
    "#     model.add(Dense(y_train.shape[1]))\n",
    "    model.add(Dense(1))\n",
    "    model.compile(loss='mae', optimizer='adam')\n",
    "    return model"
   ]
  },
  {
   "cell_type": "markdown",
   "metadata": {},
   "source": [
    "### 构建前馈神经网络模型\n",
    "best MAE\n",
    "\n",
    "0.7437023623024174\n",
    "\n",
    "[0.71160178 0.72605856 0.74876733 0.74773506 0.78434908]"
   ]
  },
  {
   "cell_type": "code",
   "execution_count": 14,
   "metadata": {},
   "outputs": [],
   "source": [
    "def build_dnn_model():\n",
    "    model = keras.models.Sequential()\n",
    "    model.add(Flatten())\n",
    "    model.add(Dense(256, activation='relu'))\n",
    "    model.add(Dense(256, activation='relu'))\n",
    "    \n",
    "    model.add(Dense(y_train.shape[1]))\n",
    "    model.compile(loss='mae', optimizer='adam')\n",
    "    return model"
   ]
  },
  {
   "cell_type": "markdown",
   "metadata": {},
   "source": [
    "### 构建Persistence Model\n",
    "简单将前一个时间点的预测作为下一个时间点的预测\n",
    "\n",
    "best MAE\n",
    "\n",
    "0.8085283216748161\n",
    "\n",
    "[0.83704873 0.86019389 0.78634094 0.7838921  0.77516595]"
   ]
  },
  {
   "cell_type": "code",
   "execution_count": 7,
   "metadata": {},
   "outputs": [],
   "source": [
    "def persistence_model_predict(X, y):\n",
    "    es_x = X[:, -1, -2].reshape(len(X), 1)\n",
    "    es_y = y[:, :-1]\n",
    "    return np.hstack((es_x, es_y))"
   ]
  },
  {
   "cell_type": "markdown",
   "metadata": {},
   "source": [
    "### 为每一时间点的预测单独构建模型"
   ]
  },
  {
   "cell_type": "code",
   "execution_count": 64,
   "metadata": {},
   "outputs": [],
   "source": [
    "def get_seperate_models(model, X_train, y_train, X_test, y_test):\n",
    "    y_train_list = []\n",
    "    y_test_list = []\n",
    "    models = []\n",
    "    for i in range(len(y_train[0])):\n",
    "        y_train_list.append(y_train[:, i])\n",
    "        y_test_list.append(y_test[:, i])\n",
    "    \n",
    "    for y, y2 in zip(y_train_list, y_test_list):\n",
    "        _model = clone_model(model)\n",
    "        _model.compile(loss='mae', optimizer='adam')\n",
    "        _model.fit(X_train, y, epochs=1000, batch_size=16, verbose=1, validation_data=(X_test, y2), \n",
    "                  callbacks=[keras.callbacks.EarlyStopping(monitor='val_loss',\n",
    "                                                                      min_delta=0, \n",
    "                                                                      patience=1, \n",
    "                                                                      verbose=0, \n",
    "                                                                      mode='auto', \n",
    "                                                                      baseline=None, \n",
    "                                                                      restore_best_weights=True)])\n",
    "        models.append(_model)\n",
    "    return models\n",
    "\n",
    "def concat_prediction(models, X_test):\n",
    "    y_preds = []\n",
    "    for model in models:\n",
    "        y_preds.append(model.predict(X_test))\n",
    "    y_preds = np.concatenate(y_preds, axis=1)\n",
    "    return y_preds"
   ]
  },
  {
   "cell_type": "code",
   "execution_count": 65,
   "metadata": {
    "pycharm": {
     "name": "#%%\n"
    }
   },
   "outputs": [],
   "source": [
    "y_pred = concat_prediction(models, X_test)"
   ]
  },
  {
   "cell_type": "code",
   "execution_count": 61,
   "metadata": {},
   "outputs": [],
   "source": [
    "y_pred = models[0].predict(X_test)"
   ]
  },
  {
   "cell_type": "code",
   "execution_count": 67,
   "metadata": {},
   "outputs": [
    {
     "data": {
      "text/plain": [
       "array([[ 0.2576923 ,  0.06888005, -0.13766113, -0.00426641, -0.01749696],\n",
       "       [-0.41202015, -0.3572248 , -0.3589459 , -0.27698562, -0.17812416],\n",
       "       [-0.0991528 , -0.12525754, -0.21751219, -0.28123537, -0.2895251 ],\n",
       "       ...,\n",
       "       [-0.4813102 , -0.33548006, -0.22522114, -0.2699433 , -0.21364954],\n",
       "       [-0.7688761 , -0.12368927, -0.11867346, -0.1913991 , -0.16396384],\n",
       "       [-0.33804542, -0.27403846, -0.34909606, -0.34364894, -0.29000843]],\n",
       "      dtype=float32)"
      ]
     },
     "execution_count": 67,
     "metadata": {},
     "output_type": "execute_result"
    }
   ],
   "source": [
    "y_pred"
   ]
  },
  {
   "cell_type": "code",
   "execution_count": 60,
   "metadata": {
    "scrolled": true
   },
   "outputs": [
    {
     "name": "stdout",
     "output_type": "stream",
     "text": [
      "Train on 4112 samples, validate on 1029 samples\n",
      "Epoch 1/1000\n",
      "4112/4112 [==============================] - 22s 5ms/sample - loss: 0.5403 - val_loss: 0.4876\n",
      "Epoch 2/1000\n",
      "4112/4112 [==============================] - 14s 3ms/sample - loss: 0.4927 - val_loss: 0.4594\n",
      "Epoch 3/1000\n",
      "4112/4112 [==============================] - 15s 4ms/sample - loss: 0.4807 - val_loss: 0.4616\n",
      "Train on 4112 samples, validate on 1029 samples\n",
      "Epoch 1/1000\n",
      "4112/4112 [==============================] - 21s 5ms/sample - loss: 0.5730 - val_loss: 0.5104\n",
      "Epoch 2/1000\n",
      "4112/4112 [==============================] - 15s 4ms/sample - loss: 0.5562 - val_loss: 0.5063\n",
      "Epoch 3/1000\n",
      "4112/4112 [==============================] - 14s 3ms/sample - loss: 0.5519 - val_loss: 0.5001\n",
      "Epoch 4/1000\n",
      "4112/4112 [==============================] - 14s 4ms/sample - loss: 0.5463 - val_loss: 0.4870\n",
      "Epoch 5/1000\n",
      "4112/4112 [==============================] - 15s 4ms/sample - loss: 0.5426 - val_loss: 0.4902\n",
      "Train on 4112 samples, validate on 1029 samples\n",
      "Epoch 1/1000\n",
      "4112/4112 [==============================] - 22s 5ms/sample - loss: 0.5416 - val_loss: 0.5133\n",
      "Epoch 2/1000\n",
      "4112/4112 [==============================] - 15s 4ms/sample - loss: 0.5320 - val_loss: 0.5014\n",
      "Epoch 3/1000\n",
      "4112/4112 [==============================] - 15s 4ms/sample - loss: 0.5278 - val_loss: 0.5097\n",
      "Train on 4112 samples, validate on 1029 samples\n",
      "Epoch 1/1000\n",
      "4112/4112 [==============================] - 24s 6ms/sample - loss: 0.5408 - val_loss: 0.4990\n",
      "Epoch 2/1000\n",
      "4112/4112 [==============================] - 15s 4ms/sample - loss: 0.5298 - val_loss: 0.4823\n",
      "Epoch 3/1000\n",
      "4112/4112 [==============================] - 16s 4ms/sample - loss: 0.5296 - val_loss: 0.4930\n",
      "Train on 4112 samples, validate on 1029 samples\n",
      "Epoch 1/1000\n",
      "4112/4112 [==============================] - 23s 5ms/sample - loss: 0.5535 - val_loss: 0.5166\n",
      "Epoch 2/1000\n",
      "4112/4112 [==============================] - 15s 4ms/sample - loss: 0.5439 - val_loss: 0.5124\n",
      "Epoch 3/1000\n",
      "4112/4112 [==============================] - 16s 4ms/sample - loss: 0.5418 - val_loss: 0.5051\n",
      "Epoch 4/1000\n",
      "4112/4112 [==============================] - 14s 3ms/sample - loss: 0.5437 - val_loss: 0.5093\n"
     ]
    }
   ],
   "source": [
    "models = get_seperate_models(build_basic_rnn_model(), X_train, y_train, X_test, y_test)"
   ]
  },
  {
   "cell_type": "markdown",
   "metadata": {
    "pycharm": {
     "name": "#%% md\n"
    }
   },
   "source": [
    "### 正式训练"
   ]
  },
  {
   "cell_type": "code",
   "execution_count": 10,
   "metadata": {},
   "outputs": [],
   "source": [
    "model = build_dnn_model()"
   ]
  },
  {
   "cell_type": "code",
   "execution_count": 11,
   "metadata": {},
   "outputs": [
    {
     "name": "stdout",
     "output_type": "stream",
     "text": [
      "Train on 4112 samples, validate on 1029 samples\n",
      "Epoch 1/20\n",
      "4112/4112 [==============================] - 2s 368us/sample - loss: 0.5625 - val_loss: 0.5004\n",
      "Epoch 2/20\n",
      "4112/4112 [==============================] - 1s 143us/sample - loss: 0.5308 - val_loss: 0.5014\n",
      "Epoch 3/20\n",
      "4112/4112 [==============================] - 1s 139us/sample - loss: 0.5198 - val_loss: 0.4961\n",
      "Epoch 4/20\n",
      "4112/4112 [==============================] - 1s 140us/sample - loss: 0.5104 - val_loss: 0.5008\n",
      "Epoch 5/20\n",
      "4112/4112 [==============================] - 1s 139us/sample - loss: 0.5032 - val_loss: 0.4972\n",
      "Epoch 6/20\n",
      "4112/4112 [==============================] - 1s 141us/sample - loss: 0.4954 - val_loss: 0.4963\n",
      "Epoch 7/20\n",
      "4112/4112 [==============================] - 1s 140us/sample - loss: 0.4890 - val_loss: 0.4960\n",
      "Epoch 8/20\n",
      "4112/4112 [==============================] - 1s 138us/sample - loss: 0.4818 - val_loss: 0.4965\n",
      "Epoch 9/20\n",
      "4112/4112 [==============================] - 1s 150us/sample - loss: 0.4749 - val_loss: 0.5008\n",
      "Epoch 10/20\n",
      "4112/4112 [==============================] - 1s 149us/sample - loss: 0.4690 - val_loss: 0.4963\n",
      "Epoch 11/20\n",
      "4112/4112 [==============================] - 1s 147us/sample - loss: 0.4604 - val_loss: 0.5010\n",
      "Epoch 12/20\n",
      "4112/4112 [==============================] - 1s 145us/sample - loss: 0.4543 - val_loss: 0.4968\n",
      "Epoch 13/20\n",
      "4112/4112 [==============================] - 1s 147us/sample - loss: 0.4446 - val_loss: 0.5008\n",
      "Epoch 14/20\n",
      "4112/4112 [==============================] - 1s 147us/sample - loss: 0.4369 - val_loss: 0.5040\n",
      "Epoch 15/20\n",
      "4112/4112 [==============================] - 1s 149us/sample - loss: 0.4320 - val_loss: 0.5076\n",
      "Epoch 16/20\n",
      "4112/4112 [==============================] - 1s 150us/sample - loss: 0.4232 - val_loss: 0.5051\n",
      "Epoch 17/20\n",
      "4112/4112 [==============================] - 1s 154us/sample - loss: 0.4164 - val_loss: 0.5058\n",
      "Epoch 18/20\n",
      "4112/4112 [==============================] - 1s 148us/sample - loss: 0.4103 - val_loss: 0.5078\n",
      "Epoch 19/20\n",
      "4112/4112 [==============================] - 1s 161us/sample - loss: 0.4022 - val_loss: 0.5103\n",
      "Epoch 20/20\n",
      "4112/4112 [==============================] - 1s 157us/sample - loss: 0.3963 - val_loss: 0.5142\n"
     ]
    }
   ],
   "source": [
    "history = model.fit(X_train, y_train, epochs=20, batch_size=16, verbose=1, validation_data=(X_test, y_test), \n",
    "                   callbacks=[])"
   ]
  },
  {
   "cell_type": "code",
   "execution_count": 24,
   "metadata": {},
   "outputs": [
    {
     "ename": "NameError",
     "evalue": "name 'activations' is not defined",
     "output_type": "error",
     "traceback": [
      "\u001b[1;31m---------------------------------------------------------------------------\u001b[0m",
      "\u001b[1;31mNameError\u001b[0m                                 Traceback (most recent call last)",
      "\u001b[1;32m<ipython-input-24-b11d2cb0434a>\u001b[0m in \u001b[0;36m<module>\u001b[1;34m\u001b[0m\n\u001b[0;32m      2\u001b[0m \u001b[1;32mfrom\u001b[0m \u001b[0mseq2seq\u001b[0m\u001b[1;33m.\u001b[0m\u001b[0mmodels\u001b[0m \u001b[1;32mimport\u001b[0m \u001b[0mAttentionSeq2Seq\u001b[0m\u001b[1;33m\u001b[0m\u001b[1;33m\u001b[0m\u001b[0m\n\u001b[0;32m      3\u001b[0m \u001b[1;33m\u001b[0m\u001b[0m\n\u001b[1;32m----> 4\u001b[1;33m \u001b[0mmodel\u001b[0m \u001b[1;33m=\u001b[0m \u001b[0mAttentionSeq2Seq\u001b[0m\u001b[1;33m(\u001b[0m\u001b[0minput_dim\u001b[0m\u001b[1;33m=\u001b[0m\u001b[1;36m11\u001b[0m\u001b[1;33m,\u001b[0m \u001b[0minput_length\u001b[0m\u001b[1;33m=\u001b[0m\u001b[1;36m11\u001b[0m\u001b[1;33m,\u001b[0m \u001b[0mhidden_dim\u001b[0m\u001b[1;33m=\u001b[0m\u001b[1;36m256\u001b[0m\u001b[1;33m,\u001b[0m \u001b[0moutput_length\u001b[0m\u001b[1;33m=\u001b[0m\u001b[1;36m5\u001b[0m\u001b[1;33m,\u001b[0m \u001b[0moutput_dim\u001b[0m\u001b[1;33m=\u001b[0m\u001b[1;36m1\u001b[0m\u001b[1;33m,\u001b[0m \u001b[0mdepth\u001b[0m\u001b[1;33m=\u001b[0m\u001b[1;36m4\u001b[0m\u001b[1;33m)\u001b[0m\u001b[1;33m\u001b[0m\u001b[1;33m\u001b[0m\u001b[0m\n\u001b[0m\u001b[0;32m      5\u001b[0m \u001b[0mmodel\u001b[0m\u001b[1;33m.\u001b[0m\u001b[0mcompile\u001b[0m\u001b[1;33m(\u001b[0m\u001b[0mloss\u001b[0m\u001b[1;33m=\u001b[0m\u001b[1;34m'mae'\u001b[0m\u001b[1;33m,\u001b[0m \u001b[0moptimizer\u001b[0m\u001b[1;33m=\u001b[0m\u001b[1;34m'adam'\u001b[0m\u001b[1;33m)\u001b[0m\u001b[1;33m\u001b[0m\u001b[1;33m\u001b[0m\u001b[0m\n",
      "\u001b[1;32mC:\\ProgramData\\Anaconda3\\lib\\site-packages\\seq2seq\\models.py\u001b[0m in \u001b[0;36mAttentionSeq2Seq\u001b[1;34m(output_dim, output_length, batch_input_shape, batch_size, input_shape, input_length, input_dim, hidden_dim, depth, bidirectional, unroll, stateful, dropout)\u001b[0m\n\u001b[0;32m    258\u001b[0m \u001b[1;33m\u001b[0m\u001b[0m\n\u001b[0;32m    259\u001b[0m     encoder = RecurrentSequential(unroll=unroll, stateful=stateful,\n\u001b[1;32m--> 260\u001b[1;33m                                   return_sequences=True)\n\u001b[0m\u001b[0;32m    261\u001b[0m     \u001b[0mencoder\u001b[0m\u001b[1;33m.\u001b[0m\u001b[0madd\u001b[0m\u001b[1;33m(\u001b[0m\u001b[0mLSTMCell\u001b[0m\u001b[1;33m(\u001b[0m\u001b[0mhidden_dim\u001b[0m\u001b[1;33m,\u001b[0m \u001b[0mbatch_input_shape\u001b[0m\u001b[1;33m=\u001b[0m\u001b[1;33m(\u001b[0m\u001b[0mshape\u001b[0m\u001b[1;33m[\u001b[0m\u001b[1;36m0\u001b[0m\u001b[1;33m]\u001b[0m\u001b[1;33m,\u001b[0m \u001b[0mshape\u001b[0m\u001b[1;33m[\u001b[0m\u001b[1;36m2\u001b[0m\u001b[1;33m]\u001b[0m\u001b[1;33m)\u001b[0m\u001b[1;33m)\u001b[0m\u001b[1;33m)\u001b[0m\u001b[1;33m\u001b[0m\u001b[1;33m\u001b[0m\u001b[0m\n\u001b[0;32m    262\u001b[0m \u001b[1;33m\u001b[0m\u001b[0m\n",
      "\u001b[1;32mC:\\ProgramData\\Anaconda3\\lib\\site-packages\\recurrentshop\\engine.py\u001b[0m in \u001b[0;36m__init__\u001b[1;34m(self, state_sync, decode, output_length, return_states, readout, readout_activation, teacher_force, state_initializer, **kwargs)\u001b[0m\n\u001b[0;32m    886\u001b[0m         \u001b[0msuper\u001b[0m\u001b[1;33m(\u001b[0m\u001b[0mRecurrentModel\u001b[0m\u001b[1;33m,\u001b[0m \u001b[0mself\u001b[0m\u001b[1;33m)\u001b[0m\u001b[1;33m.\u001b[0m\u001b[0m__init__\u001b[0m\u001b[1;33m(\u001b[0m\u001b[1;33m**\u001b[0m\u001b[0mkwargs\u001b[0m\u001b[1;33m)\u001b[0m\u001b[1;33m\u001b[0m\u001b[1;33m\u001b[0m\u001b[0m\n\u001b[0;32m    887\u001b[0m         \u001b[0mself\u001b[0m\u001b[1;33m.\u001b[0m\u001b[0mreadout\u001b[0m \u001b[1;33m=\u001b[0m \u001b[0mreadout\u001b[0m\u001b[1;33m\u001b[0m\u001b[1;33m\u001b[0m\u001b[0m\n\u001b[1;32m--> 888\u001b[1;33m         \u001b[0mself\u001b[0m\u001b[1;33m.\u001b[0m\u001b[0mreadout_activation\u001b[0m \u001b[1;33m=\u001b[0m \u001b[0mactivations\u001b[0m\u001b[1;33m.\u001b[0m\u001b[0mget\u001b[0m\u001b[1;33m(\u001b[0m\u001b[0mreadout_activation\u001b[0m\u001b[1;33m)\u001b[0m\u001b[1;33m\u001b[0m\u001b[1;33m\u001b[0m\u001b[0m\n\u001b[0m\u001b[0;32m    889\u001b[0m         \u001b[0mself\u001b[0m\u001b[1;33m.\u001b[0m\u001b[0mteacher_force\u001b[0m \u001b[1;33m=\u001b[0m \u001b[0mteacher_force\u001b[0m\u001b[1;33m\u001b[0m\u001b[1;33m\u001b[0m\u001b[0m\n\u001b[0;32m    890\u001b[0m         \u001b[0mself\u001b[0m\u001b[1;33m.\u001b[0m\u001b[0m_optional_input_placeholders\u001b[0m \u001b[1;33m=\u001b[0m \u001b[1;33m{\u001b[0m\u001b[1;33m}\u001b[0m\u001b[1;33m\u001b[0m\u001b[1;33m\u001b[0m\u001b[0m\n",
      "\u001b[1;31mNameError\u001b[0m: name 'activations' is not defined"
     ]
    }
   ],
   "source": [
    "import seq2seq\n",
    "from seq2seq.models import AttentionSeq2Seq\n",
    "\n",
    "model = AttentionSeq2Seq(input_dim=11, input_length=11, hidden_dim=256, output_length=5, output_dim=1, depth=4)\n",
    "model.compile(loss='mae', optimizer='adam')"
   ]
  },
  {
   "cell_type": "code",
   "execution_count": null,
   "metadata": {
    "pycharm": {
     "name": "#%%\n"
    }
   },
   "outputs": [],
   "source": [
    "# train_pred = model.predict(X_train)\n",
    "test_pred = model.predict(X_test)"
   ]
  },
  {
   "cell_type": "code",
   "execution_count": null,
   "metadata": {
    "pycharm": {
     "name": "#%%\n"
    }
   },
   "outputs": [],
   "source": [
    "test_pred = persistence_model_predict(X_test, y_test)"
   ]
  },
  {
   "cell_type": "code",
   "execution_count": null,
   "metadata": {
    "pycharm": {
     "name": "#%%\n"
    }
   },
   "outputs": [],
   "source": [
    "mean_squared_error(y_test, test_pred.reshape(y_test.shape))"
   ]
  },
  {
   "cell_type": "code",
   "execution_count": null,
   "metadata": {
    "pycharm": {
     "name": "#%%\n"
    }
   },
   "outputs": [],
   "source": [
    "overall, annual = eval_model('mae', y_test, y_pred.reshape(y_test.shape), scaler)\n",
    "print(overall)\n",
    "print(annual)\n",
    "plt.plot(annual)\n",
    "plt.show()"
   ]
  },
  {
   "cell_type": "code",
   "execution_count": 12,
   "metadata": {},
   "outputs": [],
   "source": [
    "# model.save(r'transplant_encoder_decoder_mae068.h5')"
   ]
  },
  {
   "cell_type": "code",
   "execution_count": 10,
   "metadata": {},
   "outputs": [],
   "source": [
    "test_pred = persistence_model_predict(X_test, y_test)"
   ]
  },
  {
   "cell_type": "code",
   "execution_count": 13,
   "metadata": {},
   "outputs": [
    {
     "data": {
      "text/plain": [
       "0.7381601963467925"
      ]
     },
     "execution_count": 13,
     "metadata": {},
     "output_type": "execute_result"
    }
   ],
   "source": [
    "mean_squared_error(y_test, test_pred.reshape(y_test.shape))"
   ]
  },
  {
   "cell_type": "code",
   "execution_count": 69,
   "metadata": {
    "pycharm": {
     "name": "#%%\n"
    }
   },
   "outputs": [
    {
     "name": "stdout",
     "output_type": "stream",
     "text": [
      "0.6996838170310595\n",
      "[0.65996117 0.69960846 0.72029026 0.69291187 0.72564732]\n"
     ]
    },
    {
     "data": {
      "image/png": "[encoded data removed]",
      "text/plain": [
       "<Figure size 432x288 with 1 Axes>"
      ]
     },
     "metadata": {
      "needs_background": "light"
     },
     "output_type": "display_data"
    }
   ],
   "source": [
    "overall, annual = eval_model('mae', y_test, y_pred.reshape(y_test.shape), scaler)\n",
    "print(overall)\n",
    "print(annual)\n",
    "plt.plot(annual)\n",
    "plt.show()"
   ]
  },
  {
   "cell_type": "code",
   "execution_count": 37,
   "metadata": {},
   "outputs": [],
   "source": [
    "# model.save(r'transplant_encoder_decoder_mae068.h5')"
   ]
  },
  {
   "cell_type": "code",
   "execution_count": 136,
   "metadata": {},
   "outputs": [
    {
     "name": "stdout",
     "output_type": "stream",
     "text": [
      "0.7639013878296543\n",
      "[0.72875606 0.79163721 0.79965405 0.75783125 0.74084044 0.76468932]\n"
     ]
    },
    {
     "data": {
      "image/png": "[encoded data removed]",
      "text/plain": [
       "<Figure size 432x288 with 1 Axes>"
      ]
     },
     "metadata": {
      "needs_background": "light"
     },
     "output_type": "display_data"
    }
   ],
   "source": [
    "overall, annual = eval_model('mae', y_test, test_pred.reshape(y_test.shape), scaler)\n",
    "print(overall)\n",
    "print(annual)\n",
    "plt.plot(annual)\n",
    "plt.show()"
   ]
  },
  {
   "cell_type": "code",
   "execution_count": 53,
   "metadata": {
    "scrolled": true
   },
   "outputs": [
    {
     "name": "stdout",
     "output_type": "stream",
     "text": [
      "0.7681123226768805\n",
      "[0.79793907 0.80917436 0.75405972 0.72677578 0.75261269]\n"
     ]
    },
    {
     "data": {
      "image/png": "[encoded data removed]",
      "text/plain": [
       "<Figure size 432x288 with 1 Axes>"
      ]
     },
     "metadata": {
      "needs_background": "light"
     },
     "output_type": "display_data"
    }
   ],
   "source": [
    "overall, annual = eval_model('mae', y_test, y_pred.reshape(y_test.shape), scaler)\n",
    "print(overall)\n",
    "print(annual)\n",
    "plt.plot(annual)\n",
    "plt.show()"
   ]
  },
  {
   "cell_type": "code",
   "execution_count": 12,
   "metadata": {
    "scrolled": true
   },
   "outputs": [
    {
     "ename": "NameError",
     "evalue": "name 'train_pred' is not defined",
     "output_type": "error",
     "traceback": [
      "\u001b[1;31m---------------------------------------------------------------------------\u001b[0m",
      "\u001b[1;31mNameError\u001b[0m                                 Traceback (most recent call last)",
      "\u001b[1;32m<ipython-input-12-c2730540689a>\u001b[0m in \u001b[0;36m<module>\u001b[1;34m\u001b[0m\n\u001b[0;32m      1\u001b[0m \u001b[0mi\u001b[0m \u001b[1;33m=\u001b[0m \u001b[1;36m16\u001b[0m\u001b[1;33m\u001b[0m\u001b[1;33m\u001b[0m\u001b[0m\n\u001b[0;32m      2\u001b[0m \u001b[0mplt\u001b[0m\u001b[1;33m.\u001b[0m\u001b[0mplot\u001b[0m\u001b[1;33m(\u001b[0m\u001b[0mnp\u001b[0m\u001b[1;33m.\u001b[0m\u001b[0mconcatenate\u001b[0m\u001b[1;33m(\u001b[0m\u001b[1;33m(\u001b[0m\u001b[0mX_train\u001b[0m\u001b[1;33m[\u001b[0m\u001b[0mi\u001b[0m\u001b[1;33m,\u001b[0m \u001b[1;33m:\u001b[0m\u001b[1;33m,\u001b[0m \u001b[1;33m-\u001b[0m\u001b[1;36m2\u001b[0m\u001b[1;33m]\u001b[0m\u001b[1;33m,\u001b[0m \u001b[0my_train\u001b[0m\u001b[1;33m[\u001b[0m\u001b[0mi\u001b[0m\u001b[1;33m]\u001b[0m\u001b[1;33m.\u001b[0m\u001b[0mreshape\u001b[0m\u001b[1;33m(\u001b[0m\u001b[1;33m-\u001b[0m\u001b[1;36m1\u001b[0m\u001b[1;33m)\u001b[0m\u001b[1;33m)\u001b[0m\u001b[1;33m,\u001b[0m \u001b[0maxis\u001b[0m\u001b[1;33m=\u001b[0m\u001b[1;32mNone\u001b[0m\u001b[1;33m)\u001b[0m\u001b[1;33m,\u001b[0m \u001b[0mlabel\u001b[0m\u001b[1;33m=\u001b[0m\u001b[1;34m'actual'\u001b[0m\u001b[1;33m,\u001b[0m \u001b[0mzorder\u001b[0m\u001b[1;33m=\u001b[0m\u001b[1;36m1\u001b[0m\u001b[1;33m)\u001b[0m\u001b[1;33m\u001b[0m\u001b[1;33m\u001b[0m\u001b[0m\n\u001b[1;32m----> 3\u001b[1;33m \u001b[0mplt\u001b[0m\u001b[1;33m.\u001b[0m\u001b[0mplot\u001b[0m\u001b[1;33m(\u001b[0m\u001b[0mnp\u001b[0m\u001b[1;33m.\u001b[0m\u001b[0mconcatenate\u001b[0m\u001b[1;33m(\u001b[0m\u001b[1;33m(\u001b[0m\u001b[0mX_train\u001b[0m\u001b[1;33m[\u001b[0m\u001b[0mi\u001b[0m\u001b[1;33m,\u001b[0m \u001b[1;33m:\u001b[0m\u001b[1;33m,\u001b[0m \u001b[1;33m-\u001b[0m\u001b[1;36m2\u001b[0m\u001b[1;33m]\u001b[0m\u001b[1;33m,\u001b[0m \u001b[0mtrain_pred\u001b[0m\u001b[1;33m[\u001b[0m\u001b[0mi\u001b[0m\u001b[1;33m]\u001b[0m\u001b[1;33m.\u001b[0m\u001b[0mreshape\u001b[0m\u001b[1;33m(\u001b[0m\u001b[1;33m-\u001b[0m\u001b[1;36m1\u001b[0m\u001b[1;33m)\u001b[0m\u001b[1;33m)\u001b[0m\u001b[1;33m,\u001b[0m \u001b[0maxis\u001b[0m\u001b[1;33m=\u001b[0m\u001b[1;32mNone\u001b[0m\u001b[1;33m)\u001b[0m\u001b[1;33m,\u001b[0m \u001b[0mlabel\u001b[0m\u001b[1;33m=\u001b[0m\u001b[1;34m'predict'\u001b[0m\u001b[1;33m,\u001b[0m \u001b[0mzorder\u001b[0m\u001b[1;33m=\u001b[0m\u001b[1;36m0\u001b[0m\u001b[1;33m)\u001b[0m\u001b[1;33m\u001b[0m\u001b[1;33m\u001b[0m\u001b[0m\n\u001b[0m\u001b[0;32m      4\u001b[0m \u001b[0mplt\u001b[0m\u001b[1;33m.\u001b[0m\u001b[0mlegend\u001b[0m\u001b[1;33m(\u001b[0m\u001b[1;33m)\u001b[0m\u001b[1;33m\u001b[0m\u001b[1;33m\u001b[0m\u001b[0m\n\u001b[0;32m      5\u001b[0m \u001b[0mplt\u001b[0m\u001b[1;33m.\u001b[0m\u001b[0mshow\u001b[0m\u001b[1;33m(\u001b[0m\u001b[1;33m)\u001b[0m\u001b[1;33m\u001b[0m\u001b[1;33m\u001b[0m\u001b[0m\n",
      "\u001b[1;31mNameError\u001b[0m: name 'train_pred' is not defined"
     ]
    },
    {
     "data": {
      "image/png": "[encoded data removed]",
      "text/plain": [
       "<Figure size 432x288 with 1 Axes>"
      ]
     },
     "metadata": {
      "needs_background": "light"
     },
     "output_type": "display_data"
    }
   ],
   "source": [
    "i = 16\n",
    "plt.plot(np.concatenate((X_train[i, :, -2], y_train[i].reshape(-1)), axis=None), label='actual', zorder=1)\n",
    "plt.plot(np.concatenate((X_train[i, :, -2], train_pred[i].reshape(-1)), axis=None), label='predict', zorder=0)\n",
    "plt.legend()\n",
    "plt.show()"
   ]
  },
  {
   "cell_type": "code",
   "execution_count": 13,
   "metadata": {},
   "outputs": [
    {
     "data": {
      "image/png": "[encoded data removed]",
      "text/plain": [
       "<Figure size 432x288 with 1 Axes>"
      ]
     },
     "metadata": {
      "needs_background": "light"
     },
     "output_type": "display_data"
    }
   ],
   "source": [
    "i = 33\n",
    "plt.plot(np.concatenate((X_test[i, :, -2], y_test[i].reshape(-1)), axis=None), label='actual', zorder=1)\n",
    "plt.plot(np.concatenate((X_test[i, :, -2], test_pred[i].reshape(-1)), axis=None), label='predict', zorder=0)\n",
    "plt.legend()\n",
    "plt.show()"
   ]
  },
  {
   "cell_type": "markdown",
   "metadata": {},
   "source": [
    "### 将数值转换回去前需要确保是（N, 11）的形状"
   ]
  },
  {
   "cell_type": "code",
   "execution_count": 284,
   "metadata": {},
   "outputs": [
    {
     "data": {
      "text/plain": [
       "array([[0.00000000e+00, 0.00000000e+00, 0.00000000e+00, 0.00000000e+00,\n",
       "        0.00000000e+00, 0.00000000e+00, 0.00000000e+00, 0.00000000e+00,\n",
       "        0.00000000e+00, 0.00000000e+00, 0.00000000e+00],\n",
       "       [0.00000000e+00, 0.00000000e+00, 0.00000000e+00, 0.00000000e+00,\n",
       "        0.00000000e+00, 0.00000000e+00, 0.00000000e+00, 0.00000000e+00,\n",
       "        0.00000000e+00, 0.00000000e+00, 0.00000000e+00],\n",
       "       [1.00000000e+00, 4.00000000e+00, 4.00000000e+00, 4.00000000e+01,\n",
       "        0.00000000e+00, 7.00000000e+00, 1.00000000e+01, 3.00000000e+00,\n",
       "        7.37000000e+02, 1.38629436e+00, 4.00000000e+00],\n",
       "       [2.00000000e+00, 6.00000000e+00, 7.10000000e+01, 1.59000000e+02,\n",
       "        0.00000000e+00, 0.00000000e+00, 2.00000000e+01, 2.00000000e+00,\n",
       "        1.29500000e+03, 1.64791843e+00, 4.00000000e+00],\n",
       "       [5.00000000e+00, 1.00000000e+01, 2.10000000e+01, 1.77000000e+02,\n",
       "        0.00000000e+00, 5.00000000e+00, 3.40000000e+01, 6.00000000e+00,\n",
       "        3.16100000e+03, 3.58351894e+00, 4.00000000e+00],\n",
       "       [1.20000000e+01, 1.50000000e+01, 9.40000000e+01, 3.06000000e+02,\n",
       "        2.30000000e+01, 2.60000000e+01, 6.20000000e+01, 8.00000000e+00,\n",
       "        2.73600000e+03, 5.55739027e+00, 4.00000000e+00],\n",
       "       [2.10000000e+01, 2.80000000e+01, 9.00000000e+01, 7.98000000e+02,\n",
       "        2.20000000e+01, 3.50000000e+01, 1.14000000e+02, 1.20000000e+01,\n",
       "        1.45600000e+03, 5.23099492e+00, 4.00000000e+00],\n",
       "       [2.40000000e+01, 4.60000000e+01, 9.70000000e+01, 9.43000000e+02,\n",
       "        4.30000000e+01, 3.60000000e+01, 1.28000000e+02, 1.20000000e+01,\n",
       "        1.89500000e+03, 3.65781344e+00, 4.00000000e+00],\n",
       "       [3.40000000e+01, 4.90000000e+01, 2.08000000e+02, 1.28900000e+03,\n",
       "        5.10000000e+01, 1.04000000e+02, 1.72000000e+02, 1.70000000e+01,\n",
       "        2.17700000e+03, 4.97748729e+00, 4.00000000e+00],\n",
       "       [5.90000000e+01, 7.00000000e+01, 2.57000000e+02, 1.56200000e+03,\n",
       "        7.90000000e+01, 1.21000000e+02, 2.25000000e+02, 1.70000000e+01,\n",
       "        3.23500000e+03, 7.01887639e+00, 4.00000000e+00],\n",
       "       [1.19000000e+02, 1.74000000e+02, 5.05000000e+02, 3.01700000e+03,\n",
       "        1.84000000e+02, 2.65000000e+02, 3.97000000e+02, 2.20000000e+01,\n",
       "        1.37850000e+04, 9.57498349e+00, 4.00000000e+00]])"
      ]
     },
     "execution_count": 284,
     "metadata": {},
     "output_type": "execute_result"
    }
   ],
   "source": [
    "g_sscaler.inverse_transform(X_train[97])"
   ]
  },
  {
   "cell_type": "code",
   "execution_count": 29,
   "metadata": {},
   "outputs": [
    {
     "data": {
      "text/plain": [
       "<matplotlib.collections.PathCollection at 0x17a40c44a88>"
      ]
     },
     "execution_count": 29,
     "metadata": {},
     "output_type": "execute_result"
    },
    {
     "data": {
      "image/png": "[encoded data removed]",
      "text/plain": [
       "<Figure size 432x288 with 1 Axes>"
      ]
     },
     "metadata": {
      "needs_background": "light"
     },
     "output_type": "display_data"
    }
   ],
   "source": [
    "plt.scatter(y_test.reshape(-1), test_pred.reshape(-1))"
   ]
  },
  {
   "cell_type": "code",
   "execution_count": null,
   "metadata": {},
   "outputs": [],
   "source": []
  }
 ],
 "metadata": {
  "kernelspec": {
   "display_name": "Python 3",
   "language": "python",
   "name": "python3"
  },
  "language_info": {
   "codemirror_mode": {
    "name": "ipython",
    "version": 3
   },
   "file_extension": ".py",
   "mimetype": "text/x-python",
   "name": "python",
   "nbconvert_exporter": "python",
   "pygments_lexer": "ipython3",
   "version": "3.7.4"
  },
  "pycharm": {
   "stem_cell": {
    "cell_type": "raw",
    "source": [],
    "metadata": {
     "collapsed": false
    }
   }
  }
 },
 "nbformat": 4,
 "nbformat_minor": 1
}