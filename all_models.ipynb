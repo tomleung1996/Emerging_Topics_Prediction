{
 "cells": [
  {
   "cell_type": "markdown",
   "metadata": {},
   "source": [
    "### 导入依赖"
   ]
  },
  {
   "cell_type": "code",
   "execution_count": 2,
   "metadata": {
    "pycharm": {
     "is_executing": true
    }
   },
   "outputs": [],
   "source": [
    "import pickle\n",
    "import pandas as pd\n",
    "import tensorflow.keras as keras\n",
    "import numpy as np\n",
    "import matplotlib.pyplot as plt\n",
    "from sklearn.model_selection import train_test_split\n",
    "from sklearn.preprocessing import StandardScaler, MinMaxScaler\n",
    "from sklearn.utils import class_weight\n",
    "from sklearn.metrics import classification_report, mean_squared_error\n",
    "from tensorflow.keras import regularizers\n",
    "from tensorflow.keras.layers import *\n",
    "from tensorflow.keras.models import *"
   ]
  },
  {
   "cell_type": "markdown",
   "metadata": {},
   "source": [
    "### 读取数据"
   ]
  },
  {
   "cell_type": "code",
   "execution_count": 3,
   "metadata": {},
   "outputs": [
    {
     "name": "stdout",
     "output_type": "stream",
     "text": [
      "Shape of the gene_editing array: (2643, 17, 11)\n",
      "Shape of the transplant array: (5141, 17, 11)\n"
     ]
    }
   ],
   "source": [
    "# (term_num, time_steps, feature_num)\n",
    "\n",
    "gene_arr_path = r'output/gene_editing/result.array'\n",
    "transplant_arr_path = r'output/transplant/result.array'\n",
    "\n",
    "gene_arr = pickle.load(open(gene_arr_path, mode='rb'))\n",
    "transplant_arr = pickle.load(open(transplant_arr_path, mode='rb'))\n",
    "\n",
    "print('Shape of the gene_editing array:',gene_arr.shape)\n",
    "print('Shape of the transplant array:',transplant_arr.shape)"
   ]
  },
  {
   "cell_type": "markdown",
   "metadata": {},
   "source": [
    "### 模型评估方法\n",
    "MAE，MSE，RMSE，MAPE（逐年和全部平均）\n",
    "\n",
    "precision，recall，F1，accuracy（分类，逐年和全部平均）\n",
    "\n",
    "NDCG@20（新兴主题发现）"
   ]
  },
  {
   "cell_type": "code",
   "execution_count": 4,
   "metadata": {},
   "outputs": [],
   "source": [
    "def cal_ndcg(n, true, pred):\n",
    "    _true = true.reshape(-1)\n",
    "    _pred = pred.reshape(-1)\n",
    "    \n",
    "    _list = list(zip(_true, _pred))\n",
    "    true_list = sorted(_list, key=lambda x: x[0], reverse=True)[:n]\n",
    "    pred_list = sorted(_list, key=lambda x: x[1], reverse=True)[:n]\n",
    "    \n",
    "    true_array = np.zeros((len(true_list), 2))\n",
    "    pred_array = np.zeros((len(pred_list), 2))\n",
    "    \n",
    "    for i, num in enumerate(true_list):\n",
    "        true_array[i] = np.array([i+1, num[0]])\n",
    "    \n",
    "    for i, num in enumerate(pred_list):\n",
    "        pred_array[i] = np.array([i+1, num[0]])\n",
    "    \n",
    "    # 使用工业界的算法\n",
    "#     ideal_score = np.sum((2 ** true_array[:, 1] - 1) / np.log2(true_array[:, 0] + 1))\n",
    "#     pred_score = np.sum((2 ** pred_array[:, 1] - 1) / np.log2(pred_array[:, 0] + 1))\n",
    "    ideal_score = np.sum((true_array[:, 1]) / np.log2(true_array[:, 0] + 1))\n",
    "    pred_score = np.sum((pred_array[:, 1]) / np.log2(pred_array[:, 0] + 1))\n",
    "    \n",
    "    return pred_score / ideal_score\n",
    "    \n",
    "    \n",
    "    \n",
    "def eval_model(method, y_true, y_pred):\n",
    "    if method.lower() == 'mae':\n",
    "        errors = np.abs(y_true - y_pred)\n",
    "        annual_mae = np.mean(errors, axis=0)\n",
    "        overall_mae = np.mean(errors, axis=None)\n",
    "        \n",
    "        return overall_mae, annual_mae\n",
    "    \n",
    "    if method.lower() == 'mse':\n",
    "        errors = np.square(y_true - y_pred)\n",
    "        annual_mse = np.mean(errors, axis=0)\n",
    "        overall_mse = np.mean(errors, axis=None)\n",
    "        \n",
    "        return overall_mse, annual_mse\n",
    "    \n",
    "    if method.lower() == 'rmse':\n",
    "        errors = np.square(y_true - y_pred)\n",
    "        annual_rmse = np.sqrt(np.mean(errors, axis=0))\n",
    "        overall_rmse = np.sqrt(np.mean(errors, axis=None))\n",
    "        \n",
    "        return overall_rmse, annual_rmse\n",
    "    \n",
    "    if method.lower() == 'mape':\n",
    "        errors = np.abs((y_true - y_pred) / y_true)\n",
    "        annual_mape = np.mean(errors, axis=0)\n",
    "        overall_mape = np.mean(errors, axis=None)\n",
    "    \n",
    "        return overall_mape, annual_mape\n",
    "    \n",
    "    if method.lower() == 'ndcg':\n",
    "        n = 20\n",
    "        samples, years = y_true.shape\n",
    "        annual_ndcg = []\n",
    "        \n",
    "        for year in range(years):\n",
    "            annual_ndcg.append(cal_ndcg(n, y_true[:, year], y_pred[:, year]))\n",
    "        \n",
    "        overall_ndcg = cal_ndcg(n, np.sum(y_true, axis=1), np.sum(y_pred, axis=1))\n",
    "        \n",
    "        return overall_ndcg, annual_ndcg\n",
    "    \n",
    "    if method.lower() == 'classification':\n",
    "        percentiles = [70, 85, 95]\n",
    "        \n",
    "        "
   ]
  },
  {
   "cell_type": "code",
   "execution_count": 5,
   "metadata": {},
   "outputs": [
    {
     "data": {
      "text/plain": [
       "0.6678559202923124"
      ]
     },
     "execution_count": 5,
     "metadata": {},
     "output_type": "execute_result"
    }
   ],
   "source": [
    "cal_ndcg(10, np.array([10, 9, 8, 7, 6, 5, 4, 3, 2, 1]), np.array(list(range(10))))"
   ]
  },
  {
   "cell_type": "markdown",
   "metadata": {},
   "source": [
    "### 截断数据\n",
    "因2019年两个数据集的EmergingScore大部分都为0，而2018年及之前的情况要好很多，故抛弃2019年数据"
   ]
  },
  {
   "cell_type": "code",
   "execution_count": 6,
   "metadata": {},
   "outputs": [
    {
     "name": "stdout",
     "output_type": "stream",
     "text": [
      "Shape of the gene_editing array: (2643, 16, 11)\n",
      "Shape of the transplant array: (5141, 16, 11)\n"
     ]
    }
   ],
   "source": [
    "gene_arr = gene_arr[:, :-1, :]\n",
    "transplant_arr = transplant_arr[:, :-1, :]\n",
    "\n",
    "print('Shape of the gene_editing array:',gene_arr.shape)\n",
    "print('Shape of the transplant array:',transplant_arr.shape)"
   ]
  },
  {
   "cell_type": "markdown",
   "metadata": {},
   "source": [
    "### 数据规范化\n",
    "为了提升效果，先进行规范化再作训练集和测试集的划分（暴露了一点测试集信息）\n",
    "\n",
    "因为原来的数据是三维数组，所以需要转成二维再规范化（这里选择了转成term * timestep, features的维度，也可以试一下term, timestep * features的维度）\n",
    "\n",
    "使用了两种Scaler来尝试"
   ]
  },
  {
   "cell_type": "code",
   "execution_count": 7,
   "metadata": {},
   "outputs": [],
   "source": [
    "reshaped_gene_arr = gene_arr.reshape(gene_arr.shape[0] * gene_arr.shape[1], gene_arr.shape[2])\n",
    "reshaped_transplant_arr = transplant_arr.reshape(transplant_arr.shape[0] * transplant_arr.shape[1], transplant_arr.shape[2])\n",
    "\n",
    "# reshaped_gene_arr = gene_arr.reshape(gene_arr.shape[0], gene_arr.shape[1] * gene_arr.shape[2])\n",
    "# reshaped_transplant_arr = transplant_arr.reshape(transplant_arr.shape[0], transplant_arr.shape[1] * transplant_arr.shape[2])\n",
    "\n",
    "# StandardScaler\n",
    "g_sscaler = StandardScaler()\n",
    "t_sscaler = StandardScaler()\n",
    "gene_arr_sscaled = g_sscaler.fit_transform(reshaped_gene_arr).reshape(gene_arr.shape)\n",
    "transplant_arr_sscaled = t_sscaler.fit_transform(reshaped_transplant_arr).reshape(transplant_arr.shape)\n",
    "\n",
    "# MinMaxScaler\n",
    "g_mscaler = MinMaxScaler()\n",
    "t_mscaler = MinMaxScaler()\n",
    "gene_arr_mscaled = g_mscaler.fit_transform(reshaped_gene_arr).reshape(gene_arr.shape)\n",
    "transplant_arr_mscaled = t_mscaler.fit_transform(reshaped_transplant_arr).reshape(transplant_arr.shape)"
   ]
  },
  {
   "cell_type": "markdown",
   "metadata": {},
   "source": [
    "### 划分训练集和测试集\n",
    "测试集比例也会影响“效果”"
   ]
  },
  {
   "cell_type": "code",
   "execution_count": 8,
   "metadata": {},
   "outputs": [],
   "source": [
    "# 获取回归任务数据\n",
    "def get_regression_train_test(data, n_input, scaler, ratio):\n",
    "    if data == 'gene':\n",
    "        arr = gene_arr\n",
    "        arr_sscaled = gene_arr_sscaled\n",
    "        arr_mscaled = gene_arr_mscaled\n",
    "    elif data == 'transplant':\n",
    "        arr = transplant_arr\n",
    "        arr_sscaled = transplant_arr_sscaled\n",
    "        arr_mscaled = transplant_arr_mscaled\n",
    "    else:\n",
    "        print('error')\n",
    "    \n",
    "    if scaler == 'none':\n",
    "        X, y = arr[:, :n_input, :], arr[:, n_input:, -2]\n",
    "    elif scaler == 'standard':\n",
    "        X, y = arr_sscaled[:, :n_input, :], arr_sscaled[:, n_input:, -2]\n",
    "    elif scaler == 'minmax':\n",
    "        X, y = arr_mscaled[:, :n_input, :], arr_mscaled[:, n_input:, -2]\n",
    "    \n",
    "    return train_test_split(X, y, test_size=ratio, random_state=20200214, shuffle=True)\n",
    "\n",
    "# 获取分类任务数据\n",
    "def get_classification_train_test(data, n_input, scaler, ratio):\n",
    "    if data == 'gene':\n",
    "        arr = gene_arr\n",
    "        arr_label = gene_arr\n",
    "        arr_sscaled = gene_arr_sscaled\n",
    "        arr_mscaled = gene_arr_mscaled\n",
    "    elif data == 'transplant':\n",
    "        arr = transplant_arr\n",
    "        arr_label = transplant_arr\n",
    "        arr_sscaled = transplant_arr_sscaled\n",
    "        arr_mscaled = transplant_arr_mscaled\n",
    "    else:\n",
    "        print('error')\n",
    "    \n",
    "    if scaler == 'none':\n",
    "        X, y = arr[:, :n_input, :], arr_label[:, n_input:, -1].astype(int)\n",
    "    elif scaler == 'standard':\n",
    "        X, y = arr_sscaled[:, :n_input, :], arr_label[:, n_input:, -1].astype(int)\n",
    "    elif scaler == 'minmax':\n",
    "        X, y = arr_mscaled[:, :n_input, :], arr_label[:, n_input:, -1].astype(int)\n",
    "#     print(X.shape, y.shape)\n",
    "    \n",
    "    return train_test_split(X, y, test_size=ratio, random_state=20200214, shuffle=True)"
   ]
  },
  {
   "cell_type": "markdown",
   "metadata": {},
   "source": [
    "### 构建Endocer-Decoder模型（无teacher forcing）"
   ]
  },
  {
   "cell_type": "code",
   "execution_count": 9,
   "metadata": {},
   "outputs": [],
   "source": [
    "def build_encoder_decoder_model(classification=False):\n",
    "    model = keras.models.Sequential()\n",
    "    model.add(LSTM(256, activation='tanh', input_shape=(X_train.shape[1], X_train.shape[2]), return_sequences=True))\n",
    "    model.add(LSTM(256, activation='tanh'))\n",
    "    model.add(RepeatVector(y_train.shape[1]))\n",
    "    model.add(LSTM(256, activation='tanh', return_sequences=True))\n",
    "    model.add(TimeDistributed(Dense(128, activation='relu')))\n",
    "    \n",
    "    if classification:\n",
    "        model.add(TimeDistributed(Dense(5, activation='softmax')))\n",
    "        model.compile(loss='sparse_categorical_crossentropy', optimizer='adam', metrics=['acc'])\n",
    "    else: \n",
    "        model.add(TimeDistributed(Dense(1)))\n",
    "        model.compile(loss='mae', optimizer='adam')\n",
    "    return model"
   ]
  },
  {
   "cell_type": "markdown",
   "metadata": {},
   "source": [
    "### 构建Encoder-Decoder模型（有teacher forcing）"
   ]
  },
  {
   "cell_type": "code",
   "execution_count": 10,
   "metadata": {},
   "outputs": [],
   "source": [
    "def build_tf_encoder_decoder_model():\n",
    "    n_input = 11\n",
    "    n_units = 256\n",
    "    n_output = 1\n",
    "    \n",
    "    # define training encoder\n",
    "    encoder_inputs = Input(shape=(None, n_input))\n",
    "    encoder = LSTM(n_units, return_state=True)\n",
    "    encoder_outputs, state_h, state_c = encoder(encoder_inputs)\n",
    "    encoder_states = [state_h, state_c]\n",
    "    # define training decoder\n",
    "    decoder_inputs = Input(shape=(None, n_output))\n",
    "    decoder_lstm = LSTM(n_units, return_sequences=True, return_state=True)\n",
    "    decoder_outputs, _, _ = decoder_lstm(decoder_inputs, initial_state=encoder_states)\n",
    "    decoder_dense = Dense(n_output, activation=None)\n",
    "    decoder_outputs = decoder_dense(decoder_outputs)\n",
    "    model = Model([encoder_inputs, decoder_inputs], decoder_outputs)\n",
    "    \n",
    "    \n",
    "    # define inference encoder\n",
    "    encoder_model = Model(encoder_inputs, encoder_states)\n",
    "    # define inference decoder\n",
    "    decoder_state_input_h = Input(shape=(n_units,))\n",
    "    decoder_state_input_c = Input(shape=(n_units,))\n",
    "    decoder_states_inputs = [decoder_state_input_h, decoder_state_input_c]\n",
    "    decoder_outputs, state_h, state_c = decoder_lstm(decoder_inputs, initial_state=decoder_states_inputs)\n",
    "    decoder_states = [state_h, state_c]\n",
    "    decoder_outputs = decoder_dense(decoder_outputs)\n",
    "    decoder_model = Model([decoder_inputs] + decoder_states_inputs, [decoder_outputs] + decoder_states)\n",
    "    \n",
    "    model.compile(optimizer='adam', loss='mae')\n",
    "    \n",
    "    # return all models\n",
    "    return model, encoder_model, decoder_model\n",
    "\n",
    "\n",
    "def predict_sequence(infenc, infdec, source, n_steps, cardinality):\n",
    "    # encode\n",
    "    state = infenc.predict(source)\n",
    "    # start of sequence input\n",
    "    target_seq = np.array([0.0 for _ in range(cardinality)]).reshape(1, 1, cardinality)\n",
    "    # collect predictions\n",
    "    output = list()\n",
    "    for t in range(n_steps):\n",
    "        # predict next char\n",
    "        yhat, h, c = infdec.predict([target_seq] + state)\n",
    "        # store prediction\n",
    "        output.append(yhat[0,0,:])\n",
    "        # update state\n",
    "        state = [h, c]\n",
    "        # update target sequence\n",
    "        target_seq = yhat\n",
    "    return np.array(output)"
   ]
  },
  {
   "cell_type": "code",
   "execution_count": 11,
   "metadata": {},
   "outputs": [],
   "source": [
    "X_train, X_test, y_train, y_test = get_regression_train_test('transplant', 11, 'standard', 0.2)"
   ]
  },
  {
   "cell_type": "code",
   "execution_count": 468,
   "metadata": {
    "scrolled": true
   },
   "outputs": [],
   "source": [
    "decoder_in_training = np.roll(y_train, 1, axis=1)\n",
    "decoder_in_training[:, 0] = 0.0\n",
    "decoder_in_training = decoder_in_training.reshape(len(decoder_in_training), -1, 1)\n",
    "\n",
    "decoder_in_validation = np.roll(y_test, 1, axis=1)\n",
    "decoder_in_validation[:, 0] = 0.0\n",
    "decoder_in_validation = decoder_in_validation.reshape(len(decoder_in_validation), -1, 1)\n",
    "\n",
    "model, encoder_model, decoder_model = build_tf_encoder_decoder_model()"
   ]
  },
  {
   "cell_type": "code",
   "execution_count": 469,
   "metadata": {},
   "outputs": [
    {
     "name": "stdout",
     "output_type": "stream",
     "text": [
      "Train on 4112 samples, validate on 1029 samples\n",
      "Epoch 1/1000\n",
      "4112/4112 [==============================] - 13s 3ms/sample - loss: 0.5237 - val_loss: 0.5240\n",
      "Epoch 2/1000\n",
      "4112/4112 [==============================] - 5s 1ms/sample - loss: 0.5101 - val_loss: 0.5240\n",
      "Epoch 3/1000\n",
      "4112/4112 [==============================] - 5s 1ms/sample - loss: 0.5074 - val_loss: 0.5206\n",
      "Epoch 4/1000\n",
      "4112/4112 [==============================] - 5s 1ms/sample - loss: 0.5046 - val_loss: 0.5157\n",
      "Epoch 5/1000\n",
      "4112/4112 [==============================] - 5s 1ms/sample - loss: 0.5014 - val_loss: 0.5120\n",
      "Epoch 6/1000\n",
      "4112/4112 [==============================] - 5s 1ms/sample - loss: 0.4988 - val_loss: 0.5126\n",
      "Epoch 7/1000\n",
      "4112/4112 [==============================] - 5s 1ms/sample - loss: 0.4976 - val_loss: 0.5131\n",
      "Epoch 8/1000\n",
      "4112/4112 [==============================] - 6s 1ms/sample - loss: 0.4959 - val_loss: 0.5139\n",
      "Epoch 9/1000\n",
      "4112/4112 [==============================] - 6s 1ms/sample - loss: 0.4957 - val_loss: 0.5120\n",
      "Epoch 10/1000\n",
      "4112/4112 [==============================] - 6s 1ms/sample - loss: 0.4946 - val_loss: 0.5109\n",
      "Epoch 11/1000\n",
      "4112/4112 [==============================] - 5s 1ms/sample - loss: 0.4932 - val_loss: 0.5106\n",
      "Epoch 12/1000\n",
      "4112/4112 [==============================] - 6s 1ms/sample - loss: 0.4921 - val_loss: 0.5096\n",
      "Epoch 13/1000\n",
      "4112/4112 [==============================] - 6s 1ms/sample - loss: 0.4910 - val_loss: 0.5139\n",
      "Epoch 14/1000\n",
      "4112/4112 [==============================] - 5s 1ms/sample - loss: 0.4892 - val_loss: 0.5117\n",
      "Epoch 15/1000\n",
      "4112/4112 [==============================] - 6s 1ms/sample - loss: 0.4889 - val_loss: 0.5140\n",
      "Epoch 16/1000\n",
      "4112/4112 [==============================] - 6s 1ms/sample - loss: 0.4868 - val_loss: 0.5114\n",
      "Epoch 17/1000\n",
      "4112/4112 [==============================] - 6s 1ms/sample - loss: 0.4859 - val_loss: 0.5102\n",
      "Epoch 18/1000\n",
      "4112/4112 [==============================] - 6s 2ms/sample - loss: 0.4851 - val_loss: 0.5118\n",
      "Epoch 19/1000\n",
      "4112/4112 [==============================] - 6s 1ms/sample - loss: 0.4831 - val_loss: 0.5115\n",
      "Epoch 20/1000\n",
      "4112/4112 [==============================] - 6s 1ms/sample - loss: 0.4808 - val_loss: 0.5128\n",
      "Epoch 21/1000\n",
      "4112/4112 [==============================] - 6s 1ms/sample - loss: 0.4795 - val_loss: 0.5136\n",
      "Epoch 22/1000\n",
      "4112/4112 [==============================] - 6s 1ms/sample - loss: 0.4779 - val_loss: 0.5135\n",
      "Epoch 23/1000\n",
      "4112/4112 [==============================] - 6s 1ms/sample - loss: 0.4754 - val_loss: 0.5124\n",
      "Epoch 24/1000\n",
      "4112/4112 [==============================] - 6s 1ms/sample - loss: 0.4738 - val_loss: 0.5163\n",
      "Epoch 25/1000\n",
      "4112/4112 [==============================] - 6s 1ms/sample - loss: 0.4705 - val_loss: 0.5143\n",
      "Epoch 26/1000\n",
      "4112/4112 [==============================] - 6s 1ms/sample - loss: 0.4682 - val_loss: 0.5160\n",
      "Epoch 27/1000\n",
      "4112/4112 [==============================] - 6s 1ms/sample - loss: 0.4642 - val_loss: 0.5156\n",
      "Epoch 28/1000\n",
      "4112/4112 [==============================] - 6s 1ms/sample - loss: 0.4601 - val_loss: 0.5189\n",
      "Epoch 29/1000\n",
      "4112/4112 [==============================] - 6s 1ms/sample - loss: 0.4574 - val_loss: 0.5193\n",
      "Epoch 30/1000\n",
      "4112/4112 [==============================] - 6s 1ms/sample - loss: 0.4536 - val_loss: 0.5198\n",
      "Epoch 31/1000\n",
      "4112/4112 [==============================] - 6s 1ms/sample - loss: 0.4471 - val_loss: 0.5197\n",
      "Epoch 32/1000\n",
      "4112/4112 [==============================] - 6s 1ms/sample - loss: 0.4422 - val_loss: 0.5249\n"
     ]
    }
   ],
   "source": [
    "history = model.fit([X_train, decoder_in_training], y_train, \n",
    "                    epochs=1000, validation_data=([X_test, decoder_in_validation], y_test),\n",
    "                    callbacks=[keras.callbacks.EarlyStopping(monitor='val_loss',\n",
    "                                                                      min_delta=0, \n",
    "                                                                      patience=20, \n",
    "                                                                      verbose=0, \n",
    "                                                                      mode='auto', \n",
    "                                                                      baseline=None, \n",
    "                                                                      restore_best_weights=False)])"
   ]
  },
  {
   "cell_type": "code",
   "execution_count": 470,
   "metadata": {},
   "outputs": [],
   "source": [
    "y_pred = list()\n",
    "for i in X_test:\n",
    "    y_pred.append(predict_sequence(encoder_model, decoder_model, np.expand_dims(i, axis=0), len(y_test[0]), 1))\n",
    "y_pred = np.array(y_pred).reshape(y_test.shape)"
   ]
  },
  {
   "cell_type": "markdown",
   "metadata": {},
   "source": [
    "### 构建普通RNN模型"
   ]
  },
  {
   "cell_type": "code",
   "execution_count": 12,
   "metadata": {},
   "outputs": [],
   "source": [
    "def build_basic_rnn_model(classification=False):\n",
    "    model = keras.models.Sequential()\n",
    "    model.add(LSTM(256, activation='tanh', input_shape=(X_train.shape[1], X_train.shape[2]), return_sequences=True))\n",
    "    model.add(LSTM(256, activation='tanh'))\n",
    "    model.add(Dense(128, activation='relu'))\n",
    "    \n",
    "    if classification:\n",
    "        model.add(Dense(y_train.shape[1], activation='sigmoid'))\n",
    "        model.compile(loss='binary_crossentropy', optimizer='adam', metrics=['acc'])\n",
    "    else: \n",
    "#         model.add(Dense(y_train.shape[1]))\n",
    "        model.add(Dense(1))\n",
    "        model.compile(loss='mae', optimizer='adam')\n",
    "    return model"
   ]
  },
  {
   "cell_type": "markdown",
   "metadata": {},
   "source": [
    "### 构建前馈神经网络模型"
   ]
  },
  {
   "cell_type": "code",
   "execution_count": 13,
   "metadata": {},
   "outputs": [],
   "source": [
    "def build_dnn_model(classification=False):\n",
    "    model = keras.models.Sequential()\n",
    "    model.add(Flatten())\n",
    "    model.add(Dense(256, activation='relu'))\n",
    "    model.add(Dense(256, activation='relu'))\n",
    "    \n",
    "    if classification:\n",
    "        model.add(Dense(y_train.shape[1], activation='sigmoid'))\n",
    "        model.compile(loss='binary_crossentropy', optimizer='adam', metrics=['acc'])\n",
    "    else: \n",
    "        model.add(Dense(y_train.shape[1]))\n",
    "        model.compile(loss='mae', optimizer='adam')\n",
    "    return model"
   ]
  },
  {
   "cell_type": "markdown",
   "metadata": {},
   "source": [
    "### 构建Persistence Model\n",
    "简单将前一个时间点的预测作为下一个时间点的预测"
   ]
  },
  {
   "cell_type": "code",
   "execution_count": 31,
   "metadata": {},
   "outputs": [],
   "source": [
    "def persistence_model_predict(X, y):\n",
    "    es_x = X[:, -1, -2].reshape(len(X), 1)\n",
    "    es_y = y[:, :-1]\n",
    "    return np.hstack((es_x, es_y))"
   ]
  },
  {
   "cell_type": "markdown",
   "metadata": {},
   "source": [
    "### 为每一时间点的预测单独构建模型"
   ]
  },
  {
   "cell_type": "code",
   "execution_count": 65,
   "metadata": {},
   "outputs": [],
   "source": [
    "def get_seperate_models(model, X_train, y_train, X_test, y_test):\n",
    "    y_train_list = []\n",
    "    y_test_list = []\n",
    "    models = []\n",
    "    for i in range(len(y_train[0])):\n",
    "        y_train_list.append(y_train[:, i])\n",
    "        y_test_list.append(y_test[:, i])\n",
    "    \n",
    "    for y, y2 in zip(y_train_list, y_test_list):\n",
    "        _model = clone_model(model)\n",
    "        _model.compile(loss='mae', optimizer='adam')\n",
    "        _model.fit(X_train, y, epochs=1000, batch_size=16, verbose=1, validation_data=(X_test, y2), \n",
    "                  callbacks=[keras.callbacks.EarlyStopping(monitor='val_loss',\n",
    "                                                                      min_delta=0, \n",
    "                                                                      patience=3, \n",
    "                                                                      verbose=0, \n",
    "                                                                      mode='auto', \n",
    "                                                                      baseline=None, \n",
    "                                                                      restore_best_weights=False)])\n",
    "        models.append(_model)\n",
    "    return models\n",
    "    "
   ]
  },
  {
   "cell_type": "code",
   "execution_count": 497,
   "metadata": {},
   "outputs": [
    {
     "name": "stdout",
     "output_type": "stream",
     "text": [
      "Train on 4112 samples, validate on 1029 samples\n",
      "Epoch 1/100\n",
      "4112/4112 [==============================] - 26s 6ms/sample - loss: 0.5267 - val_loss: 0.5339\n",
      "Epoch 2/100\n",
      "4112/4112 [==============================] - 18s 4ms/sample - loss: 0.5122 - val_loss: 0.5338\n",
      "Epoch 3/100\n",
      "4112/4112 [==============================] - 19s 5ms/sample - loss: 0.5098 - val_loss: 0.5222\n",
      "Epoch 4/100\n",
      "4112/4112 [==============================] - 19s 5ms/sample - loss: 0.5101 - val_loss: 0.5283\n",
      "Epoch 5/100\n",
      "4112/4112 [==============================] - 19s 5ms/sample - loss: 0.5080 - val_loss: 0.5235\n",
      "Epoch 6/100\n",
      "4112/4112 [==============================] - 19s 5ms/sample - loss: 0.5079 - val_loss: 0.5206\n",
      "Epoch 7/100\n",
      "4112/4112 [==============================] - 19s 5ms/sample - loss: 0.5066 - val_loss: 0.5191\n",
      "Epoch 8/100\n",
      "4112/4112 [==============================] - 19s 5ms/sample - loss: 0.5057 - val_loss: 0.5201\n",
      "Epoch 9/100\n",
      "4112/4112 [==============================] - 19s 5ms/sample - loss: 0.5051 - val_loss: 0.5225\n",
      "Epoch 10/100\n",
      "4112/4112 [==============================] - 19s 5ms/sample - loss: 0.5047 - val_loss: 0.5267\n",
      "Epoch 11/100\n",
      "4112/4112 [==============================] - 19s 5ms/sample - loss: 0.5044 - val_loss: 0.5205\n",
      "Epoch 12/100\n",
      "4112/4112 [==============================] - 19s 5ms/sample - loss: 0.5035 - val_loss: 0.5220\n",
      "Epoch 13/100\n",
      "4112/4112 [==============================] - 19s 5ms/sample - loss: 0.5032 - val_loss: 0.5230\n",
      "Epoch 14/100\n",
      "4112/4112 [==============================] - 20s 5ms/sample - loss: 0.5022 - val_loss: 0.5224\n",
      "Epoch 15/100\n",
      "4112/4112 [==============================] - 19s 5ms/sample - loss: 0.5027 - val_loss: 0.5209\n",
      "Epoch 16/100\n",
      "4112/4112 [==============================] - 20s 5ms/sample - loss: 0.5014 - val_loss: 0.5201\n",
      "Epoch 17/100\n",
      "4112/4112 [==============================] - 19s 5ms/sample - loss: 0.5006 - val_loss: 0.5203\n",
      "Epoch 18/100\n",
      "4112/4112 [==============================] - 19s 5ms/sample - loss: 0.4996 - val_loss: 0.5215\n",
      "Epoch 19/100\n",
      "4112/4112 [==============================] - 20s 5ms/sample - loss: 0.4977 - val_loss: 0.5208\n",
      "Epoch 20/100\n",
      "4112/4112 [==============================] - 21s 5ms/sample - loss: 0.4976 - val_loss: 0.5214\n",
      "Epoch 21/100\n",
      "4112/4112 [==============================] - 21s 5ms/sample - loss: 0.4966 - val_loss: 0.5215\n",
      "Epoch 22/100\n",
      "4112/4112 [==============================] - 21s 5ms/sample - loss: 0.4958 - val_loss: 0.5208\n",
      "Epoch 23/100\n",
      "4112/4112 [==============================] - 21s 5ms/sample - loss: 0.4941 - val_loss: 0.5277\n",
      "Epoch 24/100\n",
      "4112/4112 [==============================] - 21s 5ms/sample - loss: 0.4923 - val_loss: 0.5204\n",
      "Epoch 25/100\n",
      "4112/4112 [==============================] - 21s 5ms/sample - loss: 0.4905 - val_loss: 0.5215\n",
      "Epoch 26/100\n",
      "4112/4112 [==============================] - 21s 5ms/sample - loss: 0.4887 - val_loss: 0.5249\n",
      "Epoch 27/100\n",
      "4112/4112 [==============================] - 21s 5ms/sample - loss: 0.4867 - val_loss: 0.5236\n"
     ]
    }
   ],
   "source": [
    "model = build_encoder_decoder_model()\n",
    "history = model.fit(X_train, y_train, epochs=100, batch_size=16, verbose=1, validation_data=(X_test, y_test), \n",
    "                   callbacks=[keras.callbacks.EarlyStopping(monitor='val_loss',\n",
    "                                                                      min_delta=0, \n",
    "                                                                      patience=20, \n",
    "                                                                      verbose=0, \n",
    "                                                                      mode='auto', \n",
    "                                                                      baseline=None, \n",
    "                                                                      restore_best_weights=False)])"
   ]
  },
  {
   "cell_type": "code",
   "execution_count": 498,
   "metadata": {},
   "outputs": [],
   "source": [
    "train_pred = model.predict(X_train)\n",
    "test_pred = model.predict(X_test)"
   ]
  },
  {
   "cell_type": "code",
   "execution_count": 32,
   "metadata": {},
   "outputs": [],
   "source": [
    "test_pred = persistence_model_predict(X_test, y_test)"
   ]
  },
  {
   "cell_type": "code",
   "execution_count": 43,
   "metadata": {},
   "outputs": [
    {
     "name": "stdout",
     "output_type": "stream",
     "text": [
      "0.8041005069181192\n",
      "[0.85690921 0.83270667 0.82931539 0.76622155 0.73534971]\n"
     ]
    },
    {
     "data": {
      "image/png": "[encoded data removed]",
      "text/plain": [
       "<Figure size 432x288 with 1 Axes>"
      ]
     },
     "metadata": {
      "needs_background": "light"
     },
     "output_type": "display_data"
    }
   ],
   "source": [
    "overall, annual = eval_model('mae', y_test, test_pred.reshape(y_test.shape))\n",
    "print(overall)\n",
    "print(annual)\n",
    "plt.plot(annual)\n",
    "plt.show()"
   ]
  },
  {
   "cell_type": "code",
   "execution_count": 25,
   "metadata": {},
   "outputs": [
    {
     "data": {
      "image/png": "[encoded data removed]",
      "text/plain": [
       "<Figure size 432x288 with 1 Axes>"
      ]
     },
     "metadata": {
      "needs_background": "light"
     },
     "output_type": "display_data"
    }
   ],
   "source": [
    "i = 11\n",
    "plt.plot(np.concatenate((X_train[i, :, -2], y_train[i].reshape(-1)), axis=None), label='actual', zorder=1)\n",
    "plt.plot(np.concatenate((X_train[i, :, -2], train_pred[i].reshape(-1)), axis=None), label='predict', zorder=0)\n",
    "plt.legend()\n",
    "plt.show()"
   ]
  },
  {
   "cell_type": "code",
   "execution_count": 40,
   "metadata": {},
   "outputs": [
    {
     "data": {
      "image/png": "[encoded data removed]",
      "text/plain": [
       "<Figure size 432x288 with 1 Axes>"
      ]
     },
     "metadata": {
      "needs_background": "light"
     },
     "output_type": "display_data"
    }
   ],
   "source": [
    "i = 13\n",
    "plt.plot(np.concatenate((X_test[i, :, -2], y_test[i].reshape(-1)), axis=None), label='actual', zorder=1)\n",
    "plt.plot(np.concatenate((X_test[i, :, -2], test_pred[i].reshape(-1)), axis=None), label='predict', zorder=0)\n",
    "plt.legend()\n",
    "plt.show()"
   ]
  },
  {
   "cell_type": "markdown",
   "metadata": {},
   "source": [
    "### 将数值转换回去前需要确保是（N, 11）的形状"
   ]
  },
  {
   "cell_type": "code",
   "execution_count": 284,
   "metadata": {},
   "outputs": [
    {
     "data": {
      "text/plain": [
       "array([[0.00000000e+00, 0.00000000e+00, 0.00000000e+00, 0.00000000e+00,\n",
       "        0.00000000e+00, 0.00000000e+00, 0.00000000e+00, 0.00000000e+00,\n",
       "        0.00000000e+00, 0.00000000e+00, 0.00000000e+00],\n",
       "       [0.00000000e+00, 0.00000000e+00, 0.00000000e+00, 0.00000000e+00,\n",
       "        0.00000000e+00, 0.00000000e+00, 0.00000000e+00, 0.00000000e+00,\n",
       "        0.00000000e+00, 0.00000000e+00, 0.00000000e+00],\n",
       "       [1.00000000e+00, 4.00000000e+00, 4.00000000e+00, 4.00000000e+01,\n",
       "        0.00000000e+00, 7.00000000e+00, 1.00000000e+01, 3.00000000e+00,\n",
       "        7.37000000e+02, 1.38629436e+00, 4.00000000e+00],\n",
       "       [2.00000000e+00, 6.00000000e+00, 7.10000000e+01, 1.59000000e+02,\n",
       "        0.00000000e+00, 0.00000000e+00, 2.00000000e+01, 2.00000000e+00,\n",
       "        1.29500000e+03, 1.64791843e+00, 4.00000000e+00],\n",
       "       [5.00000000e+00, 1.00000000e+01, 2.10000000e+01, 1.77000000e+02,\n",
       "        0.00000000e+00, 5.00000000e+00, 3.40000000e+01, 6.00000000e+00,\n",
       "        3.16100000e+03, 3.58351894e+00, 4.00000000e+00],\n",
       "       [1.20000000e+01, 1.50000000e+01, 9.40000000e+01, 3.06000000e+02,\n",
       "        2.30000000e+01, 2.60000000e+01, 6.20000000e+01, 8.00000000e+00,\n",
       "        2.73600000e+03, 5.55739027e+00, 4.00000000e+00],\n",
       "       [2.10000000e+01, 2.80000000e+01, 9.00000000e+01, 7.98000000e+02,\n",
       "        2.20000000e+01, 3.50000000e+01, 1.14000000e+02, 1.20000000e+01,\n",
       "        1.45600000e+03, 5.23099492e+00, 4.00000000e+00],\n",
       "       [2.40000000e+01, 4.60000000e+01, 9.70000000e+01, 9.43000000e+02,\n",
       "        4.30000000e+01, 3.60000000e+01, 1.28000000e+02, 1.20000000e+01,\n",
       "        1.89500000e+03, 3.65781344e+00, 4.00000000e+00],\n",
       "       [3.40000000e+01, 4.90000000e+01, 2.08000000e+02, 1.28900000e+03,\n",
       "        5.10000000e+01, 1.04000000e+02, 1.72000000e+02, 1.70000000e+01,\n",
       "        2.17700000e+03, 4.97748729e+00, 4.00000000e+00],\n",
       "       [5.90000000e+01, 7.00000000e+01, 2.57000000e+02, 1.56200000e+03,\n",
       "        7.90000000e+01, 1.21000000e+02, 2.25000000e+02, 1.70000000e+01,\n",
       "        3.23500000e+03, 7.01887639e+00, 4.00000000e+00],\n",
       "       [1.19000000e+02, 1.74000000e+02, 5.05000000e+02, 3.01700000e+03,\n",
       "        1.84000000e+02, 2.65000000e+02, 3.97000000e+02, 2.20000000e+01,\n",
       "        1.37850000e+04, 9.57498349e+00, 4.00000000e+00]])"
      ]
     },
     "execution_count": 284,
     "metadata": {},
     "output_type": "execute_result"
    }
   ],
   "source": [
    "g_sscaler.inverse_transform(X_train[97])"
   ]
  },
  {
   "cell_type": "code",
   "execution_count": null,
   "metadata": {},
   "outputs": [],
   "source": []
  }
 ],
 "metadata": {
  "kernelspec": {
   "display_name": "Python 3",
   "language": "python",
   "name": "python3"
  },
  "language_info": {
   "codemirror_mode": {
    "name": "ipython",
    "version": 3
   },
   "file_extension": ".py",
   "mimetype": "text/x-python",
   "name": "python",
   "nbconvert_exporter": "python",
   "pygments_lexer": "ipython3",
   "version": "3.7.4"
  },
  "pycharm": {
   "stem_cell": {
    "cell_type": "raw",
    "metadata": {
     "collapsed": false
    },
    "source": []
   }
  }
 },
 "nbformat": 4,
 "nbformat_minor": 1
}
