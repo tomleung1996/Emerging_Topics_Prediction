{
 "cells": [
  {
   "cell_type": "markdown",
   "metadata": {},
   "source": [
    "## 仅供交叉验证 线性回归-按趋势分类\n",
    "\n",
    "用岭回归效果好一些"
   ]
  },
  {
   "cell_type": "code",
   "execution_count": 1,
   "metadata": {},
   "outputs": [],
   "source": [
    "import pickle\n",
    "import pandas as pd\n",
    "import numpy as np\n",
    "import matplotlib.pyplot as plt\n",
    "import random\n",
    "from utils import *\n",
    "from sklearn.linear_model import LinearRegression, RidgeCV\n",
    "from sklearn.model_selection import StratifiedKFold\n",
    "from sklearn.metrics import mean_absolute_error\n",
    "\n",
    "np.random.seed(42)\n",
    "random.seed(42)\n",
    "n_input = 11"
   ]
  },
  {
   "cell_type": "markdown",
   "metadata": {},
   "source": [
    "读取数据"
   ]
  },
  {
   "cell_type": "code",
   "execution_count": 2,
   "metadata": {},
   "outputs": [
    {
     "name": "stdout",
     "output_type": "stream",
     "text": [
      "Shape of the gene_editing array: (2643, 17, 10)\n",
      "Shape of the transplant array: (5141, 17, 10)\n"
     ]
    }
   ],
   "source": [
    "# gene_arr_path = r'../output/gene_editing/es_with_decay.array'\n",
    "# transplant_arr_path = r'../output/transplant/es_with_decay.array'\n",
    "\n",
    "# gene_arr = pickle.load(open(gene_arr_path, mode='rb'))\n",
    "# transplant_arr = pickle.load(open(transplant_arr_path, mode='rb'))\n",
    "\n",
    "# print('Shape of the gene_editing array:',gene_arr.shape)\n",
    "# print('Shape of the transplant array:',transplant_arr.shape)"
   ]
  },
  {
   "cell_type": "markdown",
   "metadata": {},
   "source": [
    "### 截断数据\n",
    "2019年为无效数据"
   ]
  },
  {
   "cell_type": "code",
   "execution_count": 3,
   "metadata": {},
   "outputs": [
    {
     "name": "stdout",
     "output_type": "stream",
     "text": [
      "Shape of the gene_editing array: (2643, 16, 10)\n",
      "Shape of the transplant array: (5141, 16, 10)\n"
     ]
    }
   ],
   "source": [
    "# gene_arr = gene_arr[:, :-1, :]\n",
    "# transplant_arr = transplant_arr[:, :-1, :]\n",
    "\n",
    "# print('Shape of the gene_editing array:',gene_arr.shape)\n",
    "# print('Shape of the transplant array:',transplant_arr.shape)"
   ]
  },
  {
   "cell_type": "markdown",
   "metadata": {},
   "source": [
    "## 规范数据并获取5折交叉检验所需的训练集和验证集"
   ]
  },
  {
   "cell_type": "code",
   "execution_count": 6,
   "metadata": {},
   "outputs": [],
   "source": [
    "# scaler, data = scale_data(transplant_arr, 'standard')\n",
    "\n",
    "# # 用预测第二年的类别变量作为分成Kfold的依据，不支持浮点数\n",
    "# X, y, y_cat = data[:, :n_input, :], data[:, n_input:, -2],transplant_arr[:, n_input, -1]\n",
    "# kfold = StratifiedKFold(n_splits=5, shuffle=True, random_state=42)"
   ]
  },
  {
   "cell_type": "markdown",
   "metadata": {},
   "source": [
    "### 按趋势切分数据"
   ]
  },
  {
   "cell_type": "code",
   "execution_count": 2,
   "metadata": {},
   "outputs": [],
   "source": [
    "# def split_data_by_es(data, targets):\n",
    "#     total_es = np.sum(data[:, :11, -2], axis=1)\n",
    "#     q75, q25 = np.percentile(total_es, [75 ,25])\n",
    "#     iqr = q75 - q25\n",
    "#     upper_bond = q75 + 1.5 * iqr\n",
    "#     lower_bond = q25 - 1.5 * iqr\n",
    "    \n",
    "#     data1, target1 = data[np.argwhere(total_es > upper_bond).reshape(-1)], targets[np.argwhere(total_es > upper_bond).reshape(-1)]\n",
    "#     data2, target2 = data[np.argwhere((q75 < total_es) & (total_es <= upper_bond)).reshape(-1)], targets[np.argwhere((q75 < total_es) & (total_es <= upper_bond)).reshape(-1)]\n",
    "#     data3, target3 = data[np.argwhere((q25 < total_es) & (total_es <= q75)).reshape(-1)], targets[np.argwhere((q25 < total_es) & (total_es <= q75)).reshape(-1)]\n",
    "#     data4, target4 = data[np.argwhere(total_es <= q25).reshape(-1)], targets[np.argwhere(total_es <= q25).reshape(-1)]\n",
    "    \n",
    "#     return data1, target1, data2, target2, data3, target3, data4, target4\n",
    "\n",
    "# def split_data_by_es(data, targets):\n",
    "#     total_es = np.sum(data[:, :11, -2], axis=1)\n",
    "#     sorted_index = np.argsort(total_es)\n",
    "#     group_size = len(total_es) // 3\n",
    "    \n",
    "#     data1, target1 = data[sorted_index[:group_size]], targets[sorted_index[:group_size]]\n",
    "#     data2, target2 = data[sorted_index[group_size:2*group_size]], targets[sorted_index[group_size:2*group_size]]\n",
    "#     data3, target3 = data[sorted_index[2*group_size:]], targets[sorted_index[2*group_size:]]\n",
    "    \n",
    "#     return data1, target1, data2, target2, data3, target3\n",
    "\n",
    "def split_data_by_trend(data, targets):\n",
    "    up_data = []\n",
    "    down_data = []\n",
    "    up_target = []\n",
    "    down_target = []\n",
    "    \n",
    "    for i in range(len(data)):\n",
    "        a, b = np.polyfit(range(len(data[i])), data[i, :, -2].reshape(-1), 1)\n",
    "        if a > 0:\n",
    "            up_data.append(data[i])\n",
    "            up_target.append(targets[i])\n",
    "        else:\n",
    "            down_data.append(data[i])\n",
    "            down_target.append(targets[i])\n",
    "    return np.array(up_data), np.array(up_target), np.array(down_data), np.array(down_target)"
   ]
  },
  {
   "cell_type": "markdown",
   "metadata": {},
   "source": [
    "### 构建模型，训练并评估"
   ]
  },
  {
   "cell_type": "code",
   "execution_count": 3,
   "metadata": {},
   "outputs": [],
   "source": [
    "def cross_validation(X, y, y_cat, kfold, scaler):\n",
    "    overall_metrics = {\n",
    "        'mae':[],\n",
    "        'rmse':[],\n",
    "        'ndcg':[],\n",
    "        'mape':[],\n",
    "        'r2':[],\n",
    "        'pearson':[],\n",
    "        'acc':[]\n",
    "    }\n",
    "\n",
    "    annual_metrics = {\n",
    "        'mae':[],\n",
    "        'rmse':[],\n",
    "        'ndcg':[],\n",
    "        'mape':[],\n",
    "        'r2':[],\n",
    "        'pearson':[],\n",
    "        'acc':[]\n",
    "    }\n",
    "\n",
    "    for train, test in kfold.split(X, y_cat):\n",
    "        X_train = X[train]\n",
    "        y_train = y[train]\n",
    "        X_test = X[test]\n",
    "        y_test = y[test]\n",
    "        models = []\n",
    "        \n",
    "        # 按总量划分数据集\n",
    "        X_train1, y_train1, X_train2, y_train2 = split_data_by_trend(X_train, y_train)\n",
    "        train_xs = [X_train1, X_train2]\n",
    "        train_ys = [y_train1, y_train2]\n",
    "        \n",
    "        X_test1, y_test1, X_test2, y_test2 = split_data_by_trend(X_test, y_test)\n",
    "        test_xs = [X_test1, X_test2]\n",
    "        test_ys = [y_test1, y_test2]\n",
    "        i_s = [1, 2]\n",
    "        \n",
    "        # 训练\n",
    "        for i in range(len(i_s)):\n",
    "            model = RidgeCV(alphas=[0.1, 0.2, 0.3 ,0.5, 0.7, 1.0])\n",
    "            model.fit(train_xs[i].reshape(len(train_xs[i]), -1), train_ys[i])\n",
    "            models.append(model)\n",
    "        \n",
    "        # 预测\n",
    "        y_test = []\n",
    "        y_pred = []\n",
    "        for i in range(len(i_s)):\n",
    "            y_test.append(test_ys[i])\n",
    "            y_pred.append(models[i].predict(test_xs[i].reshape(len(test_xs[i]), -1)).reshape(test_ys[i].shape))\n",
    "        \n",
    "        y_test = np.concatenate(y_test)\n",
    "        y_pred = np.concatenate(y_pred)\n",
    "\n",
    "        metrics = ['mae', 'rmse','ndcg', 'mape', 'r2', 'pearson', 'acc']\n",
    "        for m in metrics:\n",
    "            overall, annual = eval_model(m, y_test, y_pred, scaler)\n",
    "            overall_metrics[m].append(overall)\n",
    "            annual_metrics[m].append(annual)\n",
    "    \n",
    "    return overall_metrics, annual_metrics"
   ]
  },
  {
   "cell_type": "code",
   "execution_count": 4,
   "metadata": {},
   "outputs": [],
   "source": [
    "def full_pipeline():\n",
    "    gene_arr_path = r'../output/gene_editing/es_with_decay.array'\n",
    "    transplant_arr_path = r'../output/transplant/es_with_decay.array'\n",
    "\n",
    "    gene_arr = pickle.load(open(gene_arr_path, mode='rb'))\n",
    "    transplant_arr = pickle.load(open(transplant_arr_path, mode='rb'))\n",
    "    \n",
    "    gene_arr = gene_arr[:, :-1, :]\n",
    "    transplant_arr = transplant_arr[:, :-1, :]\n",
    "\n",
    "    print('Shape of the gene_editing array:',gene_arr.shape)\n",
    "    print('Shape of the transplant array:',transplant_arr.shape)\n",
    "    \n",
    "    metrics = {\n",
    "        'gene':{\n",
    "            'overall':{},\n",
    "            'annual':{}\n",
    "        },\n",
    "        'transplant':{\n",
    "            'overall':{},\n",
    "            'annual':{}\n",
    "        }\n",
    "    }\n",
    "    \n",
    "    for name, dataset in zip(['gene', 'transplant'], [gene_arr, transplant_arr]):\n",
    "        scaler, data = scale_data(dataset, 'standard')\n",
    "\n",
    "        # 用预测第二年的类别变量作为分成Kfold的依据，不支持浮点数\n",
    "        X, y, y_cat = data[:, :n_input, :], data[:, n_input:, -2], dataset[:, n_input, -1]\n",
    "        kfold = StratifiedKFold(n_splits=5, shuffle=True, random_state=42)\n",
    "        \n",
    "        overall_metrics, annual_metrics = cross_validation(X, y, y_cat, kfold, scaler)\n",
    "        \n",
    "        for metric, value in overall_metrics.items():\n",
    "            metrics[name]['overall'][metric] = np.mean(value)\n",
    "        \n",
    "        for metric, value in annual_metrics.items():\n",
    "            metrics[name]['annual'][metric] = np.mean(np.array(value), axis=0)\n",
    "    \n",
    "#     pickle.dump(metrics, open('lr_metrics.dict', 'wb'))\n",
    "    \n",
    "    return metrics"
   ]
  },
  {
   "cell_type": "code",
   "execution_count": 5,
   "metadata": {},
   "outputs": [
    {
     "name": "stdout",
     "output_type": "stream",
     "text": [
      "Shape of the gene_editing array: (2643, 16, 10)\n",
      "Shape of the transplant array: (5141, 16, 10)\n"
     ]
    }
   ],
   "source": [
    "metrics = full_pipeline()"
   ]
  },
  {
   "cell_type": "code",
   "execution_count": 6,
   "metadata": {},
   "outputs": [
    {
     "data": {
      "text/plain": [
       "{'gene': {'overall': {'mae': 0.8049318480941665,\n",
       "   'rmse': 1.3714820718971936,\n",
       "   'ndcg': 0.23691624733289668,\n",
       "   'mape': 6.2662729382357485,\n",
       "   'r2': 0.13043858546971246,\n",
       "   'pearson': 0.47056928724878455,\n",
       "   'acc': 0.31200072722437766},\n",
       "  'annual': {'mae': array([0.46454715, 0.63227929, 0.82402717, 0.96303698, 1.14076865]),\n",
       "   'rmse': array([0.9212265 , 1.11215225, 1.41375369, 1.52374491, 1.70928651]),\n",
       "   'ndcg': array([0.44035316, 0.24911754, 0.14181467, 0.14243955, 0.09965418]),\n",
       "   'mape': array([4.52779117, 4.54899775, 4.97333787, 8.40208697, 8.87915093]),\n",
       "   'r2': array([ 0.02111471, -0.0210515 ,  0.05455869, -0.00683676, -0.02941502]),\n",
       "   'pearson': array([0.62808571, 0.47079369, 0.41964301, 0.29862071, 0.18587706]),\n",
       "   'acc': array([0.54372061, 0.30348897, 0.31515426, 0.22622784, 0.17141195])}},\n",
       " 'transplant': {'overall': {'mae': 0.841921213564308,\n",
       "   'rmse': 1.3418664884142422,\n",
       "   'ndcg': 0.39394489248566594,\n",
       "   'mape': 3.8140914375685853,\n",
       "   'r2': 0.3571100650667896,\n",
       "   'pearson': 0.6103487182186031,\n",
       "   'acc': 0.23466797319954963},\n",
       "  'annual': {'mae': array([0.82685018, 0.8484875 , 0.80690487, 0.83582884, 0.89153468]),\n",
       "   'rmse': array([1.37409729, 1.37058034, 1.27427172, 1.28055612, 1.39690361]),\n",
       "   'ndcg': array([0.04062364, 0.02231968, 0.0179402 , 0.07383669, 0.09887258]),\n",
       "   'mape': array([3.37110151, 3.73195385, 3.14200118, 5.37533316, 3.45006749]),\n",
       "   'r2': array([0.36174341, 0.35109482, 0.35131852, 0.39230053, 0.32964677]),\n",
       "   'pearson': array([0.61680732, 0.61110016, 0.60229265, 0.63746623, 0.59232539]),\n",
       "   'acc': array([0.238883  , 0.22951872, 0.24159822, 0.2380834 , 0.22525652])}}}"
      ]
     },
     "execution_count": 6,
     "metadata": {},
     "output_type": "execute_result"
    }
   ],
   "source": [
    "metrics"
   ]
  },
  {
   "cell_type": "code",
   "execution_count": 9,
   "metadata": {},
   "outputs": [
    {
     "data": {
      "text/plain": [
       "{'gene': {'overall': {'mae': 0.803805069268714,\n",
       "   'rmse': 1.3775809587350656,\n",
       "   'ndcg': 0.27703130907410056},\n",
       "  'annual': {'mae': array([0.46279295, 0.6275107 , 0.82585445, 0.96106809, 1.14179915]),\n",
       "   'rmse': array([0.92048705, 1.1155934 , 1.42226793, 1.53168087, 1.71793626]),\n",
       "   'ndcg': array([0.45859406, 0.25489129, 0.20299   , 0.11015942, 0.12125649])}},\n",
       " 'transplant': {'overall': {'mae': 0.8275970961134513,\n",
       "   'rmse': 1.3227238534044254,\n",
       "   'ndcg': 0.37346640852859464},\n",
       "  'annual': {'mae': array([0.82238272, 0.82075375, 0.78693658, 0.83347943, 0.874433  ]),\n",
       "   'rmse': array([1.38236928, 1.31904461, 1.25136722, 1.27893254, 1.36911257]),\n",
       "   'ndcg': array([0.03749896, 0.02321101, 0.01864731, 0.06435483, 0.10664766])}}}"
      ]
     },
     "execution_count": 9,
     "metadata": {},
     "output_type": "execute_result"
    }
   ],
   "source": [
    "metrics"
   ]
  },
  {
   "cell_type": "code",
   "execution_count": null,
   "metadata": {},
   "outputs": [],
   "source": []
  },
  {
   "cell_type": "code",
   "execution_count": null,
   "metadata": {},
   "outputs": [],
   "source": []
  }
 ],
 "metadata": {
  "kernelspec": {
   "display_name": "Python 3",
   "language": "python",
   "name": "python3"
  },
  "language_info": {
   "codemirror_mode": {
    "name": "ipython",
    "version": 3
   },
   "file_extension": ".py",
   "mimetype": "text/x-python",
   "name": "python",
   "nbconvert_exporter": "python",
   "pygments_lexer": "ipython3",
   "version": "3.7.4"
  }
 },
 "nbformat": 4,
 "nbformat_minor": 2
}
