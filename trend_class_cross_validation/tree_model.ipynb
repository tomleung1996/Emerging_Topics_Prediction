{
 "cells": [
  {
   "cell_type": "markdown",
   "metadata": {},
   "source": [
    "## 仅供交叉验证 LightGBM-按趋势分类"
   ]
  },
  {
   "cell_type": "code",
   "execution_count": 1,
   "metadata": {},
   "outputs": [],
   "source": [
    "import pickle\n",
    "import pandas as pd\n",
    "import numpy as np\n",
    "import matplotlib.pyplot as plt\n",
    "import random\n",
    "from utils import *\n",
    "import lightgbm as lgb\n",
    "from sklearn.multioutput import MultiOutputRegressor\n",
    "from sklearn.model_selection import StratifiedKFold\n",
    "\n",
    "np.random.seed(42)\n",
    "n_input=11\n",
    "random.seed(42)"
   ]
  },
  {
   "cell_type": "markdown",
   "metadata": {},
   "source": [
    "读取数据"
   ]
  },
  {
   "cell_type": "code",
   "execution_count": 6,
   "metadata": {},
   "outputs": [
    {
     "name": "stdout",
     "output_type": "stream",
     "text": [
      "Shape of the gene_editing array: (2643, 17, 10)\n",
      "Shape of the transplant array: (5141, 17, 10)\n"
     ]
    }
   ],
   "source": [
    "# gene_arr_path = r'../output/gene_editing/es_with_decay.array'\n",
    "# transplant_arr_path = r'../output/transplant/es_with_decay.array'\n",
    "\n",
    "# gene_arr = pickle.load(open(gene_arr_path, mode='rb'))\n",
    "# transplant_arr = pickle.load(open(transplant_arr_path, mode='rb'))\n",
    "\n",
    "# print('Shape of the gene_editing array:',gene_arr.shape)\n",
    "# print('Shape of the transplant array:',transplant_arr.shape)"
   ]
  },
  {
   "cell_type": "markdown",
   "metadata": {},
   "source": [
    "### 截断数据\n",
    "2019年为无效数据"
   ]
  },
  {
   "cell_type": "code",
   "execution_count": 7,
   "metadata": {},
   "outputs": [
    {
     "name": "stdout",
     "output_type": "stream",
     "text": [
      "Shape of the gene_editing array: (2643, 16, 10)\n",
      "Shape of the transplant array: (5141, 16, 10)\n"
     ]
    }
   ],
   "source": [
    "# gene_arr = gene_arr[:, :-1, :]\n",
    "# transplant_arr = transplant_arr[:, :-1, :]\n",
    "\n",
    "# print('Shape of the gene_editing array:',gene_arr.shape)\n",
    "# print('Shape of the transplant array:',transplant_arr.shape)"
   ]
  },
  {
   "cell_type": "markdown",
   "metadata": {},
   "source": [
    "## 规范数据并获取5折交叉检验所需的训练集和验证集"
   ]
  },
  {
   "cell_type": "code",
   "execution_count": 8,
   "metadata": {},
   "outputs": [],
   "source": [
    "# scaler, data = scale_data(transplant_arr, 'standard')\n",
    "\n",
    "# # 用预测第二年的类别变量作为分成Kfold的依据，不支持浮点数\n",
    "# X, y, y_cat = data[:, :n_input, :], data[:, n_input:, -2],transplant_arr[:, n_input, -1]\n",
    "# kfold = StratifiedKFold(n_splits=5, shuffle=True, random_state=42)"
   ]
  },
  {
   "cell_type": "markdown",
   "metadata": {},
   "source": [
    "### 按趋势划分数据"
   ]
  },
  {
   "cell_type": "code",
   "execution_count": 2,
   "metadata": {},
   "outputs": [],
   "source": [
    "def split_data_by_trend(data, targets):\n",
    "    up_data = []\n",
    "    down_data = []\n",
    "    up_target = []\n",
    "    down_target = []\n",
    "    \n",
    "    for i in range(len(data)):\n",
    "        a, b = np.polyfit(range(len(data[i])), data[i, :, -2].reshape(-1), 1)\n",
    "        if a > 0:\n",
    "            up_data.append(data[i])\n",
    "            up_target.append(targets[i])\n",
    "        else:\n",
    "            down_data.append(data[i])\n",
    "            down_target.append(targets[i])\n",
    "    return np.array(up_data), np.array(up_target), np.array(down_data), np.array(down_target)"
   ]
  },
  {
   "cell_type": "markdown",
   "metadata": {},
   "source": [
    "### 构建模型，训练并评估"
   ]
  },
  {
   "cell_type": "code",
   "execution_count": 6,
   "metadata": {},
   "outputs": [],
   "source": [
    "def cross_validation(X, y, y_cat, kfold, scaler):\n",
    "    overall_metrics = {\n",
    "        'mae':[],\n",
    "        'rmse':[],\n",
    "        'ndcg':[],\n",
    "        'mape':[],\n",
    "        'r2':[],\n",
    "        'pearson':[],\n",
    "        'acc':[]\n",
    "    }\n",
    "\n",
    "    annual_metrics = {\n",
    "        'mae':[],\n",
    "        'rmse':[],\n",
    "        'ndcg':[],\n",
    "        'mape':[],\n",
    "        'r2':[],\n",
    "        'pearson':[],\n",
    "        'acc':[]\n",
    "    }\n",
    "    \n",
    "    for train, test in kfold.split(X, y_cat):\n",
    "        X_train = X[train]\n",
    "        y_train = y[train]\n",
    "        X_test = X[test]\n",
    "        y_test = y[test]\n",
    "        models = []\n",
    "        \n",
    "        # 按总量划分数据集\n",
    "        X_train1, y_train1, X_train2, y_train2 = split_data_by_trend(X_train, y_train)\n",
    "        train_xs = [X_train1, X_train2]\n",
    "        train_ys = [y_train1, y_train2]\n",
    "        \n",
    "        X_test1, y_test1, X_test2, y_test2 = split_data_by_trend(X_test, y_test)\n",
    "        test_xs = [X_test1, X_test2]\n",
    "        test_ys = [y_test1, y_test2]\n",
    "        i_s = [1, 2]\n",
    "        \n",
    "        # 训练\n",
    "        for i in range(len(i_s)):\n",
    "            model = MultiOutputRegressor(lgb.LGBMRegressor(n_estimators=100))\n",
    "            model.fit(train_xs[i].reshape(len(train_xs[i]), -1), train_ys[i])\n",
    "            pred = model.predict(test_xs[i].reshape(len(test_xs[i]), -1)).reshape(test_ys[i].shape)\n",
    "            models.append(model)\n",
    "        \n",
    "        # 预测\n",
    "        y_test = []\n",
    "        y_pred = []\n",
    "        for i in range(len(i_s)):\n",
    "            y_test.append(test_ys[i])\n",
    "            y_pred.append(models[i].predict(test_xs[i].reshape(len(test_xs[i]), -1)).reshape(test_ys[i].shape))\n",
    "        \n",
    "        y_test = np.concatenate(y_test)\n",
    "        y_pred = np.concatenate(y_pred)\n",
    "\n",
    "        metrics = ['mae', 'rmse','ndcg', 'mape', 'r2', 'pearson', 'acc']\n",
    "        for m in metrics:\n",
    "            overall, annual = eval_model(m, y_test, y_pred, scaler)\n",
    "            overall_metrics[m].append(overall)\n",
    "            annual_metrics[m].append(annual)\n",
    "    \n",
    "    return overall_metrics, annual_metrics"
   ]
  },
  {
   "cell_type": "code",
   "execution_count": 7,
   "metadata": {},
   "outputs": [],
   "source": [
    "def full_pipeline():\n",
    "    gene_arr_path = r'../output/gene_editing/es_with_decay.array'\n",
    "    transplant_arr_path = r'../output/transplant/es_with_decay.array'\n",
    "\n",
    "    gene_arr = pickle.load(open(gene_arr_path, mode='rb'))\n",
    "    transplant_arr = pickle.load(open(transplant_arr_path, mode='rb'))\n",
    "    \n",
    "    gene_arr = gene_arr[:, :-1, :]\n",
    "    transplant_arr = transplant_arr[:, :-1, :]\n",
    "\n",
    "    print('Shape of the gene_editing array:',gene_arr.shape)\n",
    "    print('Shape of the transplant array:',transplant_arr.shape)\n",
    "    \n",
    "    metrics = {\n",
    "        'gene':{\n",
    "            'overall':{},\n",
    "            'annual':{}\n",
    "        },\n",
    "        'transplant':{\n",
    "            'overall':{},\n",
    "            'annual':{}\n",
    "        }\n",
    "    }\n",
    "    \n",
    "    for name, dataset in zip(['gene', 'transplant'], [gene_arr, transplant_arr]):\n",
    "        scaler, data = scale_data(dataset, 'standard')\n",
    "\n",
    "        # 用预测第二年的类别变量作为分成Kfold的依据，不支持浮点数\n",
    "        X, y, y_cat = data[:, :n_input, :], data[:, n_input:, -2], dataset[:, n_input, -1]\n",
    "        kfold = StratifiedKFold(n_splits=5, shuffle=True, random_state=42)\n",
    "        \n",
    "        overall_metrics, annual_metrics = cross_validation(X, y, y_cat, kfold, scaler)\n",
    "        \n",
    "        for metric, value in overall_metrics.items():\n",
    "            metrics[name]['overall'][metric] = np.mean(value)\n",
    "        \n",
    "        for metric, value in annual_metrics.items():\n",
    "            metrics[name]['annual'][metric] = np.mean(np.array(value), axis=0)\n",
    "    \n",
    "    pickle.dump(metrics, open('tree_metrics.dict', 'wb'))\n",
    "    \n",
    "    return metrics"
   ]
  },
  {
   "cell_type": "code",
   "execution_count": 8,
   "metadata": {},
   "outputs": [
    {
     "name": "stdout",
     "output_type": "stream",
     "text": [
      "Shape of the gene_editing array: (2643, 16, 10)\n",
      "Shape of the transplant array: (5141, 16, 10)\n"
     ]
    }
   ],
   "source": [
    "metrics = full_pipeline()"
   ]
  },
  {
   "cell_type": "code",
   "execution_count": 9,
   "metadata": {},
   "outputs": [
    {
     "data": {
      "text/plain": [
       "{'gene': {'overall': {'mae': 0.7909075416065805,\n",
       "   'rmse': 1.278444190003476,\n",
       "   'ndcg': 0.4327606848927772,\n",
       "   'mape': 5.925912255854935,\n",
       "   'r2': 0.2528057800626929,\n",
       "   'pearson': 0.5152516967477198,\n",
       "   'acc': 0.3287914458791378},\n",
       "  'annual': {'mae': array([0.4464986 , 0.60152146, 0.81395525, 0.96126659, 1.13129581]),\n",
       "   'rmse': array([0.74973679, 0.95150734, 1.3175806 , 1.47291795, 1.65661901]),\n",
       "   'ndcg': array([0.55789007, 0.37683653, 0.25575173, 0.28307893, 0.13834245]),\n",
       "   'mape': array([3.95263941, 4.76965315, 4.97621227, 8.5047829 , 7.42627354]),\n",
       "   'r2': array([0.4316227 , 0.30118635, 0.18684038, 0.06892368, 0.03043578]),\n",
       "   'pearson': array([0.67685971, 0.57423375, 0.45518125, 0.32769033, 0.25514158]),\n",
       "   'acc': array([0.572082  , 0.32803885, 0.32764939, 0.23380652, 0.18238047])}},\n",
       " 'transplant': {'overall': {'mae': 0.815755789644913,\n",
       "   'rmse': 1.2830816356245662,\n",
       "   'ndcg': 0.48931385372540664,\n",
       "   'mape': 3.686268269692983,\n",
       "   'r2': 0.4121105079610429,\n",
       "   'pearson': 0.646928418857572,\n",
       "   'acc': 0.25602262436040274},\n",
       "  'annual': {'mae': array([0.79512795, 0.82505147, 0.78938537, 0.80811553, 0.86109862]),\n",
       "   'rmse': array([1.2646577 , 1.33166551, 1.24748082, 1.22737931, 1.33260792]),\n",
       "   'ndcg': array([0.28424858, 0.02024274, 0.01737665, 0.15619381, 0.22949368]),\n",
       "   'mape': array([3.28910749, 3.98484837, 3.03788611, 4.89750637, 3.221993  ]),\n",
       "   'r2': array([0.4608686 , 0.38826153, 0.3780616 , 0.44171525, 0.38964686]),\n",
       "   'pearson': array([0.68177649, 0.63144073, 0.62315521, 0.66870203, 0.63082168]),\n",
       "   'acc': array([0.27427272, 0.25908111, 0.2620189 , 0.2425623 , 0.24217808])}}}"
      ]
     },
     "execution_count": 9,
     "metadata": {},
     "output_type": "execute_result"
    }
   ],
   "source": [
    "metrics"
   ]
  },
  {
   "cell_type": "code",
   "execution_count": 8,
   "metadata": {
    "scrolled": true
   },
   "outputs": [
    {
     "data": {
      "text/plain": [
       "{'gene': {'overall': {'mae': 0.8209942683708282,\n",
       "   'rmse': 1.3337560891982014,\n",
       "   'ndcg': 0.6096930177727906},\n",
       "  'annual': {'mae': array([0.45741282, 0.62247792, 0.84728625, 1.00330621, 1.17448814]),\n",
       "   'rmse': array([0.78222512, 0.99470613, 1.38349926, 1.52179826, 1.73490588]),\n",
       "   'ndcg': array([0.66153224, 0.32535838, 0.27309157, 0.33757616, 0.10942672])}},\n",
       " 'transplant': {'overall': {'mae': 0.820901655306564,\n",
       "   'rmse': 1.3020615560087556,\n",
       "   'ndcg': 0.5630817064248428},\n",
       "  'annual': {'mae': array([0.80399247, 0.82789492, 0.79520697, 0.80899437, 0.86841955]),\n",
       "   'rmse': array([1.28646968, 1.34488998, 1.26323874, 1.24789521, 1.3557784 ]),\n",
       "   'ndcg': array([0.20565586, 0.02751808, 0.01730095, 0.09461803, 0.12595979])}}}"
      ]
     },
     "execution_count": 8,
     "metadata": {},
     "output_type": "execute_result"
    }
   ],
   "source": [
    "metrics"
   ]
  },
  {
   "cell_type": "code",
   "execution_count": 10,
   "metadata": {},
   "outputs": [
    {
     "data": {
      "text/plain": [
       "{'mae': [0.8202441705852876,\n",
       "  0.8393395042631376,\n",
       "  0.8139514802719408,\n",
       "  0.8104260177773122,\n",
       "  0.8205471036351414],\n",
       " 'rmse': [1.3036809517963384,\n",
       "  1.3202631231575475,\n",
       "  1.279857091440752,\n",
       "  1.2569798618025954,\n",
       "  1.3495267518465446],\n",
       " 'ndcg': [0.14125640793492913,\n",
       "  0.9003448482429512,\n",
       "  0.6445959886326867,\n",
       "  0.8642917375327137,\n",
       "  0.2649195497809327]}"
      ]
     },
     "execution_count": 10,
     "metadata": {},
     "output_type": "execute_result"
    }
   ],
   "source": [
    "overall_metrics"
   ]
  },
  {
   "cell_type": "code",
   "execution_count": null,
   "metadata": {},
   "outputs": [],
   "source": []
  }
 ],
 "metadata": {
  "kernelspec": {
   "display_name": "Python 3",
   "language": "python",
   "name": "python3"
  },
  "language_info": {
   "codemirror_mode": {
    "name": "ipython",
    "version": 3
   },
   "file_extension": ".py",
   "mimetype": "text/x-python",
   "name": "python",
   "nbconvert_exporter": "python",
   "pygments_lexer": "ipython3",
   "version": "3.7.4"
  }
 },
 "nbformat": 4,
 "nbformat_minor": 2
}
