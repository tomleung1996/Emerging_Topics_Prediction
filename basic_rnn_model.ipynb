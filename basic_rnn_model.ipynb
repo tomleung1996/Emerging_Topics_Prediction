{
 "cells": [
  {
   "cell_type": "code",
   "execution_count": 58,
   "metadata": {
    "pycharm": {
     "is_executing": false
    }
   },
   "outputs": [],
   "source": [
    "import pickle\n",
    "from sklearn.model_selection import train_test_split\n",
    "from sklearn.preprocessing import StandardScaler\n",
    "from sklearn.utils import class_weight\n",
    "import tensorflow.keras as keras\n",
    "import numpy as np\n",
    "import matplotlib.pyplot as plt"
   ]
  },
  {
   "cell_type": "code",
   "execution_count": 25,
   "metadata": {
    "pycharm": {
     "is_executing": false,
     "name": "#%%\n"
    }
   },
   "outputs": [
    {
     "name": "stdout",
     "output_type": "stream",
     "text": [
      "Shape of the result array: (2643, 15, 12)\n"
     ]
    }
   ],
   "source": [
    "# Load the numpy array with shape (2643, 17, 11)\n",
    "# (term_num, time_steps, feature_num)\n",
    "\n",
    "arr = pickle.load(open('output/gene_editing/result.array', mode='rb'))\n",
    "\n",
    "# Because the data is spare in the first and last year,\n",
    "# we truncated them\n",
    "arr = arr[:, 1:-1, :]\n",
    "print('Shape of the result array:', arr.shape)"
   ]
  },
  {
   "cell_type": "code",
   "execution_count": 35,
   "metadata": {
    "pycharm": {
     "is_executing": false,
     "name": "#%%\n"
    }
   },
   "outputs": [
    {
     "name": "stdout",
     "output_type": "stream",
     "text": [
      "Shape of X_train: (2114, 14, 12)\n",
      "Shape of X_test: (529, 14, 12)\n",
      "Shape of y_train: (2114,)\n",
      "Shape of y_test: (529,)\n"
     ]
    }
   ],
   "source": [
    "X, y = arr[:, :-1, :], arr[:, -1, -1]\n",
    "X_train, X_test, y_train, y_test = train_test_split(X, y, test_size=0.2, random_state=42)\n",
    "print('Shape of X_train:', X_train.shape)\n",
    "print('Shape of X_test:', X_test.shape)\n",
    "print('Shape of y_train:', y_train.shape)\n",
    "print('Shape of y_test:', y_test.shape)"
   ]
  },
  {
   "cell_type": "code",
   "execution_count": 36,
   "metadata": {
    "pycharm": {
     "is_executing": false,
     "name": "#%%\n"
    }
   },
   "outputs": [
    {
     "name": "stdout",
     "output_type": "stream",
     "text": [
      "Shape of X_train_scaled: (2114, 14, 12)\n",
      "Shape of X_test_scaled: (529, 14, 12)\n"
     ]
    }
   ],
   "source": [
    "# Scale the input\n",
    "scaler = StandardScaler()\n",
    "X_train_scaled = scaler.fit_transform(X_train.reshape(X_train.shape[0], X_train.shape[1] * X_train.shape[2])).reshape(X_train.shape)\n",
    "X_test_scaled = scaler.fit_transform(X_test.reshape(X_test.shape[0], X_test.shape[1] * X_test.shape[2])).reshape(X_test.shape)\n",
    "print('Shape of X_train_scaled:', X_train_scaled.shape)\n",
    "print('Shape of X_test_scaled:', X_test_scaled.shape)"
   ]
  },
  {
   "cell_type": "code",
   "execution_count": 68,
   "metadata": {},
   "outputs": [
    {
     "data": {
      "text/plain": [
       "array([0.89010526, 0.40037879, 2.60987654, 1.48873239, 3.08613139])"
      ]
     },
     "execution_count": 68,
     "metadata": {},
     "output_type": "execute_result"
    }
   ],
   "source": [
    "# Calculate the class weight\n",
    "\n",
    "cw = class_weight.compute_class_weight('balanced', np.unique(y_train), y_train)\n",
    "cw"
   ]
  },
  {
   "cell_type": "code",
   "execution_count": 70,
   "metadata": {
    "pycharm": {
     "is_executing": false,
     "name": "#%%\n"
    }
   },
   "outputs": [
    {
     "name": "stdout",
     "output_type": "stream",
     "text": [
      "Model: \"sequential_11\"\n",
      "_________________________________________________________________\n",
      "Layer (type)                 Output Shape              Param #   \n",
      "=================================================================\n",
      "lstm_13 (LSTM)               (None, 14, 64)            19712     \n",
      "_________________________________________________________________\n",
      "lstm_14 (LSTM)               (None, 64)                33024     \n",
      "_________________________________________________________________\n",
      "dense_14 (Dense)             (None, 32)                2080      \n",
      "_________________________________________________________________\n",
      "dense_15 (Dense)             (None, 5)                 165       \n",
      "=================================================================\n",
      "Total params: 54,981\n",
      "Trainable params: 54,981\n",
      "Non-trainable params: 0\n",
      "_________________________________________________________________\n"
     ]
    }
   ],
   "source": [
    "model = keras.Sequential()\n",
    "model.add(keras.layers.LSTM(64, input_shape=(14, 12), return_sequences=True))\n",
    "model.add(keras.layers.LSTM(64))\n",
    "model.add(keras.layers.Dense(32, activation='relu'))\n",
    "# model.add(keras.layers.Dense(1, activation='relu'))\n",
    "model.add(keras.layers.Dense(5, activation='softmax'))\n",
    "model.compile(optimizer='rmsprop', loss='sparse_categorical_crossentropy', metrics=['acc'])\n",
    "model.summary()"
   ]
  },
  {
   "cell_type": "code",
   "execution_count": 71,
   "metadata": {
    "pycharm": {
     "is_executing": false,
     "name": "#%%\n"
    }
   },
   "outputs": [
    {
     "name": "stdout",
     "output_type": "stream",
     "text": [
      "Train on 2114 samples, validate on 529 samples\n",
      "Epoch 1/20\n",
      "2114/2114 [==============================] - 14s 6ms/sample - loss: 1.3159 - acc: 0.5000 - val_loss: 1.3509 - val_acc: 0.5009\n",
      "Epoch 2/20\n",
      "2114/2114 [==============================] - 7s 3ms/sample - loss: 1.2409 - acc: 0.5241 - val_loss: 1.2291 - val_acc: 0.5482\n",
      "Epoch 3/20\n",
      "2114/2114 [==============================] - 9s 4ms/sample - loss: 1.1666 - acc: 0.5511 - val_loss: 1.2118 - val_acc: 0.5293\n",
      "Epoch 4/20\n",
      "2114/2114 [==============================] - 9s 4ms/sample - loss: 1.1158 - acc: 0.5799 - val_loss: 1.1479 - val_acc: 0.5217\n",
      "Epoch 5/20\n",
      "2114/2114 [==============================] - 9s 4ms/sample - loss: 1.0857 - acc: 0.5629 - val_loss: 1.0949 - val_acc: 0.5709\n",
      "Epoch 6/20\n",
      "2114/2114 [==============================] - 9s 4ms/sample - loss: 1.0602 - acc: 0.5842 - val_loss: 1.1602 - val_acc: 0.5331\n",
      "Epoch 7/20\n",
      "2114/2114 [==============================] - 9s 4ms/sample - loss: 1.0523 - acc: 0.5686 - val_loss: 1.1582 - val_acc: 0.5255\n",
      "Epoch 8/20\n",
      "2114/2114 [==============================] - 9s 4ms/sample - loss: 1.0381 - acc: 0.5894 - val_loss: 1.1417 - val_acc: 0.5520\n",
      "Epoch 9/20\n",
      "2114/2114 [==============================] - 9s 4ms/sample - loss: 1.0277 - acc: 0.5828 - val_loss: 1.0945 - val_acc: 0.5558\n",
      "Epoch 10/20\n",
      "2114/2114 [==============================] - 11s 5ms/sample - loss: 1.0171 - acc: 0.5908 - val_loss: 1.1091 - val_acc: 0.5652\n",
      "Epoch 11/20\n",
      "2114/2114 [==============================] - 9s 4ms/sample - loss: 1.0066 - acc: 0.5970 - val_loss: 1.0986 - val_acc: 0.5425\n",
      "Epoch 12/20\n",
      "2114/2114 [==============================] - 9s 4ms/sample - loss: 0.9996 - acc: 0.5970 - val_loss: 1.1067 - val_acc: 0.5369\n",
      "Epoch 13/20\n",
      "2114/2114 [==============================] - 9s 4ms/sample - loss: 0.9934 - acc: 0.6008 - val_loss: 1.2249 - val_acc: 0.5293\n",
      "Epoch 14/20\n",
      "2114/2114 [==============================] - 9s 4ms/sample - loss: 0.9846 - acc: 0.5993 - val_loss: 1.1085 - val_acc: 0.5652: 2s - loss: 0.9850  - ETA: 1s - \n",
      "Epoch 15/20\n",
      "2114/2114 [==============================] - 8s 4ms/sample - loss: 0.9739 - acc: 0.6112 - val_loss: 1.0999 - val_acc: 0.5709\n",
      "Epoch 16/20\n",
      "2114/2114 [==============================] - 9s 4ms/sample - loss: 0.9691 - acc: 0.6093 - val_loss: 1.1352 - val_acc: 0.5766\n",
      "Epoch 17/20\n",
      "2114/2114 [==============================] - 8s 4ms/sample - loss: 0.9575 - acc: 0.6036 - val_loss: 1.1198 - val_acc: 0.55580.9571 - acc\n",
      "Epoch 18/20\n",
      "2114/2114 [==============================] - 8s 4ms/sample - loss: 0.9483 - acc: 0.6121 - val_loss: 1.1750 - val_acc: 0.5425 loss: 0.9475 - acc: 0.6\n",
      "Epoch 19/20\n",
      "2114/2114 [==============================] - 9s 4ms/sample - loss: 0.9379 - acc: 0.6192 - val_loss: 1.1482 - val_acc: 0.5671\n",
      "Epoch 20/20\n",
      "2114/2114 [==============================] - 9s 4ms/sample - loss: 0.9239 - acc: 0.6258 - val_loss: 1.1961 - val_acc: 0.5350 loss: \n"
     ]
    }
   ],
   "source": [
    "history = model.fit(X_train_scaled, y_train, batch_size=8, epochs=20, validation_data=(X_test_scaled, y_test), class_weight=cw)"
   ]
  },
  {
   "cell_type": "code",
   "execution_count": 72,
   "metadata": {
    "pycharm": {
     "is_executing": false,
     "name": "#%%\n"
    }
   },
   "outputs": [
    {
     "data": {
      "image/png": "[encoded data removed]",
      "text/plain": [
       "<Figure size 432x288 with 1 Axes>"
      ]
     },
     "metadata": {
      "needs_background": "light"
     },
     "output_type": "display_data"
    }
   ],
   "source": [
    "plt.plot(history.history['loss'][1:])\n",
    "plt.plot(history.history['val_loss'][1:])\n",
    "plt.title('Model loss')\n",
    "plt.ylabel('Loss')\n",
    "plt.xlabel('Epoch')\n",
    "plt.legend(['Train', 'Test'], loc='upper left')\n",
    "plt.show()"
   ]
  },
  {
   "cell_type": "code",
   "execution_count": 73,
   "metadata": {},
   "outputs": [
    {
     "data": {
      "image/png": "[encoded data removed]",
      "text/plain": [
       "<Figure size 432x288 with 1 Axes>"
      ]
     },
     "metadata": {
      "needs_background": "light"
     },
     "output_type": "display_data"
    }
   ],
   "source": [
    "plt.plot(history.history['acc'][1:])\n",
    "plt.plot(history.history['val_acc'][1:])\n",
    "plt.title('Model acc')\n",
    "plt.ylabel('Acc')\n",
    "plt.xlabel('Epoch')\n",
    "plt.legend(['Train', 'Test'], loc='upper left')\n",
    "plt.show()"
   ]
  },
  {
   "cell_type": "code",
   "execution_count": null,
   "outputs": [],
   "source": [
    "y_pred = model.predict(X_test_scaled[:30]).argmax(axis=-1)\n",
    "y_pred"
   ],
   "metadata": {
    "collapsed": false,
    "pycharm": {
     "name": "#%%\n"
    }
   }
  },
  {
   "cell_type": "code",
   "execution_count": null,
   "outputs": [],
   "source": [
    "y_test[:30].astype(int)"
   ],
   "metadata": {
    "collapsed": false,
    "pycharm": {
     "name": "#%%\n"
    }
   }
  },
  {
   "cell_type": "code",
   "execution_count": null,
   "outputs": [],
   "source": [
    "from sklearn.metrics import confusion_matrix\n",
    "cm = confusion_matrix(y_true = y_test.astype(int), y_pred = model.predict(X_test_scaled).argmax(axis=-1))\n",
    "print(cm)"
   ],
   "metadata": {
    "collapsed": false,
    "pycharm": {
     "name": "#%%\n"
    }
   }
  },
  {
   "cell_type": "code",
   "execution_count": null,
   "outputs": [],
   "source": [
    "y_test.astype(int).shape"
   ],
   "metadata": {
    "collapsed": false,
    "pycharm": {
     "name": "#%%\n"
    }
   }
  },
  {
   "cell_type": "code",
   "execution_count": null,
   "outputs": [],
   "source": [
    "y_pred.shape"
   ],
   "metadata": {
    "collapsed": false,
    "pycharm": {
     "name": "#%%\n"
    }
   }
  },
  {
   "cell_type": "code",
   "execution_count": null,
   "outputs": [],
   "source": [
    "from collections import Counter\n",
    "\n",
    "c = Counter(y_test)\n",
    "c"
   ],
   "metadata": {
    "collapsed": false,
    "pycharm": {
     "name": "#%%\n"
    }
   }
  },
  {
   "cell_type": "code",
   "execution_count": null,
   "outputs": [],
   "source": [
    "c2 = Counter(y_train)\n",
    "c2"
   ],
   "metadata": {
    "collapsed": false,
    "pycharm": {
     "name": "#%%\n"
    }
   }
  },
  {
   "cell_type": "code",
   "execution_count": null,
   "outputs": [],
   "source": [
    "from sklearn.utils import class_weight\n",
    "class_weights = class_weight.compute_class_weight('balanced',\n",
    "                                                 np.unique(y_train),\n",
    "                                                 y_train)"
   ],
   "metadata": {
    "collapsed": false,
    "pycharm": {
     "name": "#%%\n"
    }
   }
  },
  {
   "cell_type": "code",
   "execution_count": null,
   "outputs": [],
   "source": [
    "class_weights"
   ],
   "metadata": {
    "collapsed": false,
    "pycharm": {
     "name": "#%%\n"
    }
   }
  },
  {
   "cell_type": "code",
   "execution_count": null,
   "outputs": [],
   "source": [
    "np.unique(y_train)"
   ],
   "metadata": {
    "collapsed": false,
    "pycharm": {
     "name": "#%%\n"
    }
   }
  },
  {
   "cell_type": "code",
   "execution_count": 44,
   "metadata": {
    "pycharm": {
     "name": "#%%\n"
    }
   },
   "outputs": [
    {
     "data": {
      "text/plain": [
       "array([1, 1, 1, 1, 1, 1, 0, 1, 1, 1, 1, 1, 0, 0, 1, 3, 1, 1, 0, 1, 0, 1,\n",
       "       4, 1, 1, 1, 1, 0, 1, 1], dtype=int64)"
      ]
     },
     "execution_count": 44,
     "metadata": {},
     "output_type": "execute_result"
    }
   ],
   "source": []
  },
  {
   "cell_type": "code",
   "execution_count": 43,
   "metadata": {},
   "outputs": [
    {
     "data": {
      "text/plain": [
       "array([1, 1, 1, 1, 0, 4, 0, 3, 1, 0, 1, 1, 1, 1, 0, 2, 1, 3, 0, 1, 1, 4,\n",
       "       4, 1, 1, 1, 1, 1, 2, 1])"
      ]
     },
     "execution_count": 43,
     "metadata": {},
     "output_type": "execute_result"
    }
   ],
   "source": [
    "y_test[:30].astype(int)"
   ]
  },
  {
   "cell_type": "code",
   "execution_count": 74,
   "metadata": {},
   "outputs": [
    {
     "name": "stdout",
     "output_type": "stream",
     "text": [
      "[[ 57  57   0   2   1]\n",
      " [ 47 190   1  10   2]\n",
      " [  5  39   0   3   0]\n",
      " [ 11  37   0  25   0]\n",
      " [  5  14   0  12  11]]\n"
     ]
    }
   ],
   "source": [
    "from sklearn.metrics import confusion_matrix\n",
    "cm = confusion_matrix(y_true = y_test.astype(int), y_pred = model.predict(X_test_scaled).argmax(axis=-1))\n",
    "print(cm)"
   ]
  },
  {
   "cell_type": "code",
   "execution_count": 47,
   "metadata": {},
   "outputs": [
    {
     "data": {
      "text/plain": [
       "(529,)"
      ]
     },
     "execution_count": 47,
     "metadata": {},
     "output_type": "execute_result"
    }
   ],
   "source": [
    "y_test.astype(int).shape"
   ]
  },
  {
   "cell_type": "code",
   "execution_count": 48,
   "metadata": {},
   "outputs": [
    {
     "data": {
      "text/plain": [
       "(30,)"
      ]
     },
     "execution_count": 48,
     "metadata": {},
     "output_type": "execute_result"
    }
   ],
   "source": [
    "y_pred.shape"
   ]
  },
  {
   "cell_type": "code",
   "execution_count": 50,
   "metadata": {},
   "outputs": [
    {
     "data": {
      "text/plain": [
       "Counter({1.0: 250, 0.0: 117, 4.0: 42, 3.0: 73, 2.0: 47})"
      ]
     },
     "execution_count": 50,
     "metadata": {},
     "output_type": "execute_result"
    }
   ],
   "source": [
    "from collections import Counter\n",
    "\n",
    "c = Counter(y_test)\n",
    "c"
   ]
  },
  {
   "cell_type": "code",
   "execution_count": 55,
   "metadata": {},
   "outputs": [
    {
     "data": {
      "text/plain": [
       "Counter({0.0: 475, 1.0: 1056, 2.0: 162, 3.0: 284, 4.0: 137})"
      ]
     },
     "execution_count": 55,
     "metadata": {},
     "output_type": "execute_result"
    }
   ],
   "source": [
    "c2 = Counter(y_train)\n",
    "c2"
   ]
  },
  {
   "cell_type": "code",
   "execution_count": 56,
   "metadata": {},
   "outputs": [],
   "source": [
    "from sklearn.utils import class_weight\n",
    "class_weights = class_weight.compute_class_weight('balanced',\n",
    "                                                 np.unique(y_train),\n",
    "                                                 y_train)"
   ]
  },
  {
   "cell_type": "code",
   "execution_count": 57,
   "metadata": {},
   "outputs": [
    {
     "data": {
      "text/plain": [
       "array([0.89010526, 0.40037879, 2.60987654, 1.48873239, 3.08613139])"
      ]
     },
     "execution_count": 57,
     "metadata": {},
     "output_type": "execute_result"
    }
   ],
   "source": [
    "class_weights"
   ]
  },
  {
   "cell_type": "code",
   "execution_count": 59,
   "metadata": {},
   "outputs": [
    {
     "data": {
      "text/plain": [
       "array([0., 1., 2., 3., 4.])"
      ]
     },
     "execution_count": 59,
     "metadata": {},
     "output_type": "execute_result"
    }
   ],
   "source": [
    "np.unique(y_train)"
   ]
  },
  {
   "cell_type": "code",
   "execution_count": null,
   "metadata": {},
   "outputs": [],
   "source": []
  }
 ],
 "metadata": {
  "kernelspec": {
   "display_name": "Python 3",
   "language": "python",
   "name": "python3"
  },
  "language_info": {
   "codemirror_mode": {
    "name": "ipython",
    "version": 3
   },
   "file_extension": ".py",
   "mimetype": "text/x-python",
   "name": "python",
   "nbconvert_exporter": "python",
   "pygments_lexer": "ipython3",
   "version": "3.7.4"
  },
  "pycharm": {
   "stem_cell": {
    "cell_type": "raw",
    "source": [],
    "metadata": {
     "collapsed": false
    }
   }
  }
 },
 "nbformat": 4,
 "nbformat_minor": 1
}