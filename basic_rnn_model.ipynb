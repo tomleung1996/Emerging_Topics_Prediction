{
 "cells": [
  {
   "cell_type": "code",
   "execution_count": 8,
   "metadata": {
    "pycharm": {
     "is_executing": false
    }
   },
   "outputs": [],
   "source": [
    "import pickle\n",
    "from sklearn.model_selection import train_test_split\n",
    "from sklearn.preprocessing import StandardScaler\n",
    "import tensorflow.keras as keras\n",
    "import numpy as np\n",
    "import matplotlib.pyplot as plt"
   ]
  },
  {
   "cell_type": "code",
   "execution_count": 66,
   "metadata": {
    "pycharm": {
     "is_executing": false,
     "name": "#%%\n"
    }
   },
   "outputs": [
    {
     "name": "stdout",
     "output_type": "stream",
     "text": [
      "Shape of the result array: (2643, 15, 11)\n"
     ]
    }
   ],
   "source": [
    "# Load the numpy array with shape (2643, 17, 11)\n",
    "# (term_num, time_steps, feature_num)\n",
    "\n",
    "arr = pickle.load(open('output/result.array', mode='rb'))\n",
    "arr = arr[:, 1:-1, :]\n",
    "print('Shape of the result array:', arr.shape)"
   ]
  },
  {
   "cell_type": "code",
   "execution_count": 67,
   "metadata": {
    "pycharm": {
     "is_executing": false,
     "name": "#%%\n"
    }
   },
   "outputs": [
    {
     "name": "stdout",
     "output_type": "stream",
     "text": [
      "Shape of X_train: (2114, 15, 11)\n",
      "Shape of X_test: (529, 15, 11)\n",
      "Shape of y_train: (2114,)\n",
      "Shape of y_test: (529,)\n"
     ]
    }
   ],
   "source": [
    "X, y = arr[:, :, :], arr[:, -1, -1]\n",
    "X_train, X_test, y_train, y_test = train_test_split(X, y, test_size=0.2, random_state=42)\n",
    "print('Shape of X_train:', X_train.shape)\n",
    "print('Shape of X_test:', X_test.shape)\n",
    "print('Shape of y_train:', y_train.shape)\n",
    "print('Shape of y_test:', y_test.shape)"
   ]
  },
  {
   "cell_type": "code",
   "execution_count": 68,
   "metadata": {
    "pycharm": {
     "is_executing": false,
     "name": "#%%\n"
    }
   },
   "outputs": [
    {
     "name": "stdout",
     "output_type": "stream",
     "text": [
      "Shape of X_train_scaled: (2114, 15, 11)\n",
      "Shape of X_test_scaled: (529, 15, 11)\n"
     ]
    }
   ],
   "source": [
    "# Scale the input\n",
    "scaler = StandardScaler()\n",
    "X_train_scaled = scaler.fit_transform(X_train.reshape(X_train.shape[0], X_train.shape[1] * X_train.shape[2])).reshape(X_train.shape)\n",
    "X_test_scaled = scaler.fit_transform(X_test.reshape(X_test.shape[0], X_test.shape[1] * X_test.shape[2])).reshape(X_test.shape)\n",
    "print('Shape of X_train_scaled:', X_train_scaled.shape)\n",
    "print('Shape of X_test_scaled:', X_test_scaled.shape)"
   ]
  },
  {
   "cell_type": "code",
   "execution_count": 82,
   "metadata": {
    "pycharm": {
     "is_executing": false,
     "name": "#%%\n"
    }
   },
   "outputs": [
    {
     "name": "stdout",
     "output_type": "stream",
     "text": [
      "Model: \"sequential_12\"\n",
      "_________________________________________________________________\n",
      "Layer (type)                 Output Shape              Param #   \n",
      "=================================================================\n",
      "lstm_11 (LSTM)               (None, 64)                19456     \n",
      "_________________________________________________________________\n",
      "dense_14 (Dense)             (None, 1)                 65        \n",
      "=================================================================\n",
      "Total params: 19,521\n",
      "Trainable params: 19,521\n",
      "Non-trainable params: 0\n",
      "_________________________________________________________________\n"
     ]
    }
   ],
   "source": [
    "model = keras.Sequential()\n",
    "model.add(keras.layers.LSTM(64, input_shape=(15, 11)))\n",
    "# model.add(keras.layers.Dense(10, activation='relu'))\n",
    "model.add(keras.layers.Dense(1, activation='relu'))\n",
    "model.compile(optimizer='adam', loss='mse')\n",
    "model.summary()"
   ]
  },
  {
   "cell_type": "code",
   "execution_count": 83,
   "metadata": {
    "pycharm": {
     "is_executing": false,
     "name": "#%%\n"
    }
   },
   "outputs": [
    {
     "name": "stdout",
     "output_type": "stream",
     "text": [
      "Train on 2114 samples, validate on 529 samples\n",
      "Epoch 1/20\n",
      "2114/2114 [==============================] - 7s 3ms/sample - loss: 2.5205 - val_loss: 0.3161\n",
      "Epoch 2/20\n",
      "2114/2114 [==============================] - 4s 2ms/sample - loss: 0.1759 - val_loss: 0.2239\n",
      "Epoch 3/20\n",
      "2114/2114 [==============================] - 4s 2ms/sample - loss: 0.0644 - val_loss: 0.2509\n",
      "Epoch 4/20\n",
      "2114/2114 [==============================] - 5s 2ms/sample - loss: 0.0334 - val_loss: 0.2396\n",
      "Epoch 5/20\n",
      "2114/2114 [==============================] - 5s 3ms/sample - loss: 0.0200 - val_loss: 0.2827\n",
      "Epoch 6/20\n",
      "2114/2114 [==============================] - 5s 3ms/sample - loss: 0.0130 - val_loss: 0.2046\n",
      "Epoch 7/20\n",
      "2114/2114 [==============================] - 5s 2ms/sample - loss: 0.0093 - val_loss: 0.2442\n",
      "Epoch 8/20\n",
      "2114/2114 [==============================] - 5s 3ms/sample - loss: 0.0066 - val_loss: 0.2157\n",
      "Epoch 9/20\n",
      "2114/2114 [==============================] - 5s 3ms/sample - loss: 0.0052 - val_loss: 0.1792\n",
      "Epoch 10/20\n",
      "2114/2114 [==============================] - 5s 3ms/sample - loss: 0.0044 - val_loss: 0.1790\n",
      "Epoch 11/20\n",
      "2114/2114 [==============================] - 5s 3ms/sample - loss: 0.0047 - val_loss: 0.1254\n",
      "Epoch 12/20\n",
      "2114/2114 [==============================] - 5s 3ms/sample - loss: 0.0034 - val_loss: 0.1151\n",
      "Epoch 13/20\n",
      "2114/2114 [==============================] - 5s 3ms/sample - loss: 0.0026 - val_loss: 0.1210\n",
      "Epoch 14/20\n",
      "2114/2114 [==============================] - 6s 3ms/sample - loss: 0.0026 - val_loss: 0.0934\n",
      "Epoch 15/20\n",
      "2114/2114 [==============================] - 5s 3ms/sample - loss: 0.0024 - val_loss: 0.0934\n",
      "Epoch 16/20\n",
      "2114/2114 [==============================] - 6s 3ms/sample - loss: 0.0042 - val_loss: 0.1168\n",
      "Epoch 17/20\n",
      "2114/2114 [==============================] - 5s 3ms/sample - loss: 0.0045 - val_loss: 0.1346\n",
      "Epoch 18/20\n",
      "2114/2114 [==============================] - 5s 3ms/sample - loss: 0.0025 - val_loss: 0.0933\n",
      "Epoch 19/20\n",
      "2114/2114 [==============================] - 5s 3ms/sample - loss: 0.0021 - val_loss: 0.1027\n",
      "Epoch 20/20\n",
      "2114/2114 [==============================] - 5s 3ms/sample - loss: 0.0019 - val_loss: 0.0533\n"
     ]
    }
   ],
   "source": [
    "history = model.fit(X_train_scaled, y_train, batch_size=8, epochs=20, validation_data=(X_test_scaled, y_test))"
   ]
  },
  {
   "cell_type": "code",
   "execution_count": 86,
   "metadata": {
    "pycharm": {
     "is_executing": false,
     "name": "#%%\n"
    }
   },
   "outputs": [
    {
     "data": {
      "image/png": "[encoded data removed]",
      "text/plain": [
       "<Figure size 432x288 with 1 Axes>"
      ]
     },
     "metadata": {
      "needs_background": "light"
     },
     "output_type": "display_data"
    }
   ],
   "source": [
    "plt.plot(history.history['loss'][1:])\n",
    "plt.plot(history.history['val_loss'][1:])\n",
    "plt.title('Model loss')\n",
    "plt.ylabel('Loss')\n",
    "plt.xlabel('Epoch')\n",
    "plt.legend(['Train', 'Test'], loc='upper left')\n",
    "plt.show()"
   ]
  },
  {
   "cell_type": "code",
   "execution_count": 85,
   "metadata": {
    "pycharm": {
     "name": "#%%\n"
    }
   },
   "outputs": [
    {
     "data": {
      "text/plain": [
       "array([[ 0.49588948],\n",
       "       [ 1.613221  ],\n",
       "       [ 0.63521117],\n",
       "       [ 0.53890157],\n",
       "       [-0.        ],\n",
       "       [ 5.827584  ],\n",
       "       [-0.        ],\n",
       "       [ 4.483825  ],\n",
       "       [ 0.2483202 ],\n",
       "       [-0.        ],\n",
       "       [ 0.4925291 ],\n",
       "       [ 0.48650408],\n",
       "       [ 1.2770282 ],\n",
       "       [ 1.2401036 ],\n",
       "       [-0.        ],\n",
       "       [ 2.8785944 ],\n",
       "       [ 0.5113108 ],\n",
       "       [ 3.5574772 ],\n",
       "       [-0.        ],\n",
       "       [ 0.43606627]], dtype=float32)"
      ]
     },
     "execution_count": 85,
     "metadata": {},
     "output_type": "execute_result"
    }
   ],
   "source": [
    "model.predict(X_test_scaled[:20])"
   ]
  },
  {
   "cell_type": "code",
   "execution_count": 77,
   "metadata": {},
   "outputs": [
    {
     "data": {
      "text/plain": [
       "array([0.69314718, 1.64791843, 0.82395922, 0.69314718, 0.        ,\n",
       "       5.54517744, 0.        , 4.15888308, 0.46209812, 0.        ,\n",
       "       0.69314718, 0.69314718, 1.38629436, 1.38629436, 0.        ,\n",
       "       2.87823137, 0.69314718, 3.29583687, 0.        , 0.69314718])"
      ]
     },
     "execution_count": 77,
     "metadata": {},
     "output_type": "execute_result"
    }
   ],
   "source": [
    "y_test[:20]"
   ]
  },
  {
   "cell_type": "code",
   "execution_count": null,
   "metadata": {},
   "outputs": [],
   "source": []
  }
 ],
 "metadata": {
  "kernelspec": {
   "display_name": "Python 3",
   "language": "python",
   "name": "python3"
  },
  "language_info": {
   "codemirror_mode": {
    "name": "ipython",
    "version": 3
   },
   "file_extension": ".py",
   "mimetype": "text/x-python",
   "name": "python",
   "nbconvert_exporter": "python",
   "pygments_lexer": "ipython3",
   "version": "3.7.4"
  },
  "pycharm": {
   "stem_cell": {
    "cell_type": "raw",
    "metadata": {
     "collapsed": false
    },
    "source": []
   }
  }
 },
 "nbformat": 4,
 "nbformat_minor": 1
}
